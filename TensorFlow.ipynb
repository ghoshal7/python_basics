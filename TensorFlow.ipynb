{
  "nbformat": 4,
  "nbformat_minor": 0,
  "metadata": {
    "colab": {
      "name": "TensorFlow.ipynb",
      "version": "0.3.2",
      "provenance": [],
      "include_colab_link": true
    },
    "kernelspec": {
      "name": "python3",
      "display_name": "Python 3"
    },
    "accelerator": "GPU"
  },
  "cells": [
    {
      "cell_type": "markdown",
      "metadata": {
        "id": "view-in-github",
        "colab_type": "text"
      },
      "source": [
        "<a href=\"https://colab.research.google.com/github/ghoshal7/python_basics/blob/master/TensorFlow.ipynb\" target=\"_parent\"><img src=\"https://colab.research.google.com/assets/colab-badge.svg\" alt=\"Open In Colab\"/></a>"
      ]
    },
    {
      "metadata": {
        "id": "RtOh9PJ-cegT",
        "colab_type": "text"
      },
      "cell_type": "markdown",
      "source": [
        "got to - https://www.youtube.com/watch?v=yX8KuPZCAMo"
      ]
    },
    {
      "metadata": {
        "id": "PhEpYLvpgkgt",
        "colab_type": "code",
        "colab": {
          "base_uri": "https://localhost:8080/",
          "height": 35
        },
        "outputId": "0f3b9721-acab-4687-f3fc-5e1ac90256a3"
      },
      "cell_type": "code",
      "source": [
        "import numpy as np\n",
        "import tensorflow as tf\n",
        "tf.__version__"
      ],
      "execution_count": 61,
      "outputs": [
        {
          "output_type": "execute_result",
          "data": {
            "text/plain": [
              "'1.12.0'"
            ]
          },
          "metadata": {
            "tags": []
          },
          "execution_count": 61
        }
      ]
    },
    {
      "metadata": {
        "id": "OfB9fPt6S-kq",
        "colab_type": "text"
      },
      "cell_type": "markdown",
      "source": [
        "# Constants"
      ]
    },
    {
      "metadata": {
        "id": "WfoYfoJZazBD",
        "colab_type": "code",
        "colab": {
          "base_uri": "https://localhost:8080/",
          "height": 35
        },
        "outputId": "2594d4e6-06fc-418e-8f0f-c611afc014e7"
      },
      "cell_type": "code",
      "source": [
        "# define a constant\n",
        "a = tf.constant(3, name = 'a')\n",
        "b = tf.constant(5, name = 'b')\n",
        "\n",
        "c = tf.multiply(a,b)\n",
        "\n",
        "print(c)"
      ],
      "execution_count": 62,
      "outputs": [
        {
          "output_type": "stream",
          "text": [
            "Tensor(\"Mul_15:0\", shape=(), dtype=int32)\n"
          ],
          "name": "stdout"
        }
      ]
    },
    {
      "metadata": {
        "id": "NnR9YZ8aRNY2",
        "colab_type": "text"
      },
      "cell_type": "markdown",
      "source": [
        "Writing and running programs in TensorFlow has the following steps:\n",
        "\n",
        "1.   Create Tensors (variables) that are not yet executed/evaluated.\n",
        "2.   Write operations between those Tensors.\n",
        "3.   Initialize your Tensors.\n",
        "4.   Create a Session.\n",
        "5.   Run the Session. This will run the operations you'd written above.\n",
        "\n",
        "**To evaluate, we have to run *session* ** \n",
        "\n",
        "\n",
        "\n"
      ]
    },
    {
      "metadata": {
        "id": "KUN88npZa4jz",
        "colab_type": "code",
        "colab": {
          "base_uri": "https://localhost:8080/",
          "height": 35
        },
        "outputId": "2fc97c7b-2b96-4be6-a433-8bffcbfc35ac"
      },
      "cell_type": "code",
      "source": [
        "sess = tf.Session()\n",
        "print(sess.run(c))\n",
        "sess.close()"
      ],
      "execution_count": 63,
      "outputs": [
        {
          "output_type": "stream",
          "text": [
            "15\n"
          ],
          "name": "stdout"
        }
      ]
    },
    {
      "metadata": {
        "id": "f2VrOX7abGVq",
        "colab_type": "text"
      },
      "cell_type": "markdown",
      "source": [
        "Alternatively, *with session*:"
      ]
    },
    {
      "metadata": {
        "id": "2xDKPm0-QDKa",
        "colab_type": "code",
        "colab": {
          "base_uri": "https://localhost:8080/",
          "height": 35
        },
        "outputId": "50e574ce-49d8-4937-b211-ef92c16f60c8"
      },
      "cell_type": "code",
      "source": [
        "with tf.Session() as session:\n",
        "  session.run(init)\n",
        "  print(session.run(c)) # no need to close the session"
      ],
      "execution_count": 64,
      "outputs": [
        {
          "output_type": "stream",
          "text": [
            "15\n"
          ],
          "name": "stdout"
        }
      ]
    },
    {
      "metadata": {
        "id": "-Za8Gs6SS2Ar",
        "colab_type": "text"
      },
      "cell_type": "markdown",
      "source": [
        "**create a session and run the operations inside the session**"
      ]
    },
    {
      "metadata": {
        "id": "yvm8CuIGTF2D",
        "colab_type": "text"
      },
      "cell_type": "markdown",
      "source": [
        "# Placeholders\n",
        "\n",
        "\n",
        "\n",
        "*   A placeholder is an object whose value you can specify only later\n",
        "*   To specify values for a placeholder, you can pass in values by using a \"feed dictionary\"\n",
        "\n"
      ]
    },
    {
      "metadata": {
        "id": "PDLUILgkTFJT",
        "colab_type": "code",
        "colab": {
          "base_uri": "https://localhost:8080/",
          "height": 52
        },
        "outputId": "98d5499b-ad04-479f-9104-99d0a20bc9e7"
      },
      "cell_type": "code",
      "source": [
        "p = tf.placeholder(tf.int64, name = 'p')\n",
        "sess = tf.Session()\n",
        "print(sess.run(2 * p, feed_dict = {p: 3}))\n",
        "sess.close()\n",
        "\n",
        "a = tf.placeholder(tf.int64)\n",
        "b = tf.placeholder(tf.int64)\n",
        "sess = tf.Session()\n",
        "print(sess.run(a+b, feed_dict = {a: [1,2], b:[3,4]}))\n",
        "sess.close()"
      ],
      "execution_count": 65,
      "outputs": [
        {
          "output_type": "stream",
          "text": [
            "6\n",
            "[4 6]\n"
          ],
          "name": "stdout"
        }
      ]
    },
    {
      "metadata": {
        "id": "9I4YBbI9dSfo",
        "colab_type": "text"
      },
      "cell_type": "markdown",
      "source": [
        "# Variables\n",
        "\n",
        "**remember to initialize your variables**"
      ]
    },
    {
      "metadata": {
        "id": "In4QXe8ASyoC",
        "colab_type": "code",
        "colab": {
          "base_uri": "https://localhost:8080/",
          "height": 35
        },
        "outputId": "ed775692-03c3-4bf4-960e-4ee3af3e0439"
      },
      "cell_type": "code",
      "source": [
        "w = tf.Variable([5.], tf.float32)\n",
        "b = tf.Variable([10.], tf.float32)\n",
        "x = tf.placeholder(tf.float32)\n",
        "\n",
        "y_hat = w*x+b\n",
        "\n",
        "init = tf.global_variables_initializer()\n",
        "\n",
        "with tf.Session() as sess:\n",
        "  sess.run(init)\n",
        "  print(sess.run(y_hat,{x:[1.0,2.0,3.0,4.0]}))\n",
        "  "
      ],
      "execution_count": 66,
      "outputs": [
        {
          "output_type": "stream",
          "text": [
            "[15. 20. 25. 30.]\n"
          ],
          "name": "stdout"
        }
      ]
    },
    {
      "metadata": {
        "id": "LWGnO9hnhe-i",
        "colab_type": "text"
      },
      "cell_type": "markdown",
      "source": [
        "**Calculate loss of linear models**"
      ]
    },
    {
      "metadata": {
        "id": "LHXPb0MUfEdl",
        "colab_type": "code",
        "colab": {
          "base_uri": "https://localhost:8080/",
          "height": 52
        },
        "outputId": "f30af288-040f-4a61-aeff-3ab8d06d4ada"
      },
      "cell_type": "code",
      "source": [
        "w = tf.Variable([5.], tf.float32)\n",
        "b = tf.Variable([10.], tf.float32)\n",
        "\n",
        "x = tf.placeholder(tf.float32)\n",
        "y = tf.placeholder(tf.float32)\n",
        "\n",
        "y_hat = w*x+b\n",
        "\n",
        "sq_loss = tf.square(y-y_hat)\n",
        "loss = tf.reduce_sum(sq_loss)\n",
        "\n",
        "init = tf.global_variables_initializer()\n",
        "\n",
        "with tf.Session() as sess:\n",
        "  sess.run(init)\n",
        "  print(sess.run(loss, {x:[1.,2.,3.,4.], y:[0.,-1.,-2.,-3.]}))\n",
        "  print(sess.run([w,b]))"
      ],
      "execution_count": 67,
      "outputs": [
        {
          "output_type": "stream",
          "text": [
            "2484.0\n",
            "[array([5.], dtype=float32), array([10.], dtype=float32)]\n"
          ],
          "name": "stdout"
        }
      ]
    },
    {
      "metadata": {
        "id": "fR60HxtJhklY",
        "colab_type": "text"
      },
      "cell_type": "markdown",
      "source": [
        "**Implement gradient descent**"
      ]
    },
    {
      "metadata": {
        "id": "gvv5-yGOfEgV",
        "colab_type": "code",
        "colab": {
          "base_uri": "https://localhost:8080/",
          "height": 35
        },
        "outputId": "0b586e30-d8cd-434e-a163-8b8eaf2f5f24"
      },
      "cell_type": "code",
      "source": [
        "optimizer = tf.train.GradientDescentOptimizer(0.01)\n",
        "train = optimizer.minimize(loss)\n",
        "\n",
        "with tf.Session() as sess:\n",
        "  sess.run(init)\n",
        "  for i in range(1000):\n",
        "    sess.run(train, {x:[1.,2.,3.,4.], y:[0.,-1.,-2.,-3.]})\n",
        "  \n",
        "  print(sess.run([w,b]))"
      ],
      "execution_count": 68,
      "outputs": [
        {
          "output_type": "stream",
          "text": [
            "[array([-1.0000125], dtype=float32), array([1.0000368], dtype=float32)]\n"
          ],
          "name": "stdout"
        }
      ]
    },
    {
      "metadata": {
        "id": "KU8NJdYjj7Lc",
        "colab_type": "code",
        "colab": {}
      },
      "cell_type": "code",
      "source": [
        ""
      ],
      "execution_count": 0,
      "outputs": []
    },
    {
      "metadata": {
        "id": "onxbATgoTqPX",
        "colab_type": "text"
      },
      "cell_type": "markdown",
      "source": [
        "# Functions"
      ]
    },
    {
      "metadata": {
        "id": "KDmcFDC0Tr2P",
        "colab_type": "code",
        "colab": {
          "base_uri": "https://localhost:8080/",
          "height": 87
        },
        "outputId": "6ae91ab1-a766-4ccd-9fae-4908bb4864c5"
      },
      "cell_type": "code",
      "source": [
        "# y = ax+b\n",
        "def linear_func():\n",
        "  np.random.seed(1)\n",
        "  \n",
        "  # define it\n",
        "  x = np.random.randn(3, 1)\n",
        "  a = np.random.randn(4, 3)\n",
        "  b = np.random.randn(4, 1)\n",
        "  y = tf.add(tf.matmul(a,x), b)\n",
        "  \n",
        "  # run session\n",
        "  sess = tf.Session()\n",
        "  result = sess.run(y)\n",
        "  sess.close()\n",
        "  \n",
        "  return result\n",
        "\n",
        "linear_func()"
      ],
      "execution_count": 69,
      "outputs": [
        {
          "output_type": "execute_result",
          "data": {
            "text/plain": [
              "array([[-2.15657382],\n",
              "       [ 2.95891446],\n",
              "       [-1.08926781],\n",
              "       [-0.84538042]])"
            ]
          },
          "metadata": {
            "tags": []
          },
          "execution_count": 69
        }
      ]
    },
    {
      "metadata": {
        "id": "j3huEFquUpYn",
        "colab_type": "text"
      },
      "cell_type": "markdown",
      "source": [
        "## Built-in functions - Deeplearning.ai"
      ]
    },
    {
      "metadata": {
        "id": "6oWGa8lVUMPg",
        "colab_type": "code",
        "colab": {
          "base_uri": "https://localhost:8080/",
          "height": 69
        },
        "outputId": "f612f11d-aa8a-42f5-bef2-beb3b0b6d172"
      },
      "cell_type": "code",
      "source": [
        "def sigmoid(z):\n",
        "  \n",
        "  x = tf.placeholder(tf.float32, name=\"x\")\n",
        "  sigm_x = tf.sigmoid(x)\n",
        "  \n",
        "  sess = tf.Session()\n",
        "  result = sess.run(sigm_x, feed_dict = {x:z})\n",
        "  sess.close()\n",
        "  \n",
        "  return result\n",
        "\n",
        "print(sigmoid(2))\n",
        "print(sigmoid([[1,2],[3,4]]))"
      ],
      "execution_count": 70,
      "outputs": [
        {
          "output_type": "stream",
          "text": [
            "0.880797\n",
            "[[0.7310586  0.880797  ]\n",
            " [0.95257413 0.98201376]]\n"
          ],
          "name": "stdout"
        }
      ]
    },
    {
      "metadata": {
        "id": "iqa302PPV60e",
        "colab_type": "code",
        "colab": {
          "base_uri": "https://localhost:8080/",
          "height": 35
        },
        "outputId": "d04836bf-e309-4bd2-e220-ce968e8c1029"
      },
      "cell_type": "code",
      "source": [
        "def log_like_cost(logits, labels):\n",
        "  \n",
        "  z = tf.placeholder(tf.float32, name=\"z\")\n",
        "  y = tf.placeholder(tf.float32, name=\"y\")\n",
        "  \n",
        "  cost = tf.nn.sigmoid_cross_entropy_with_logits(logits=z, labels=y)  # -(y*log(sig(z))+(1-y)*log(1-sig(z)))\n",
        "  \n",
        "  sess = tf.Session()\n",
        "  cost = sess.run(cost, feed_dict={z: logits, y: labels})\n",
        "  sess.close()\n",
        "  \n",
        "  return cost\n",
        "\n",
        "logits = sigmoid(np.array([0.2, 0.4, 0.7, 0.9]))\n",
        "cost = log_like_cost(logits, np.array([0, 0, 1, 1]))\n",
        "print (\"cost = \" + str(cost))"
      ],
      "execution_count": 71,
      "outputs": [
        {
          "output_type": "stream",
          "text": [
            "cost = [1.0053872  1.0366409  0.4138543  0.39956614]\n"
          ],
          "name": "stdout"
        }
      ]
    },
    {
      "metadata": {
        "id": "xyYf1jZ3XIXL",
        "colab_type": "code",
        "colab": {
          "base_uri": "https://localhost:8080/",
          "height": 87
        },
        "outputId": "35990ef2-f7db-413c-ca0e-c79addc27854"
      },
      "cell_type": "code",
      "source": [
        "def one_hot_matrix(labels, C):\n",
        "  \n",
        "  C = tf.constant(C, name='C')\n",
        "  one_hot_matrix = tf.one_hot(indices=labels, depth=C, axis=0)\n",
        "  \n",
        "  sess = tf.Session()\n",
        "  one_hot = sess.run(one_hot_matrix)\n",
        "  sess.close()\n",
        "    \n",
        "  return one_hot\n",
        "\n",
        "labels = np.array([1,2,3,0,2,1])\n",
        "one_hot = one_hot_matrix(labels, C=4)\n",
        "print (str(one_hot))"
      ],
      "execution_count": 72,
      "outputs": [
        {
          "output_type": "stream",
          "text": [
            "[[0. 0. 0. 1. 0. 0.]\n",
            " [1. 0. 0. 0. 0. 1.]\n",
            " [0. 1. 0. 0. 1. 0.]\n",
            " [0. 0. 1. 0. 0. 0.]]\n"
          ],
          "name": "stdout"
        }
      ]
    },
    {
      "metadata": {
        "id": "bxIaRN0cYcR4",
        "colab_type": "code",
        "colab": {
          "base_uri": "https://localhost:8080/",
          "height": 104
        },
        "outputId": "820b1c50-db33-4d88-c209-7b704ded47fd"
      },
      "cell_type": "code",
      "source": [
        "def ones(shape):\n",
        "  ones = tf.ones(shape)  # tf.zeros() for 0's\n",
        "  sess = tf.Session()\n",
        "  ones = sess.run(ones)\n",
        "  sess.close()\n",
        "    \n",
        "  return ones\n",
        "\n",
        "print('vector = '+str(ones(3)))\n",
        "print('matrix = ', '\\n', str(ones([3,3])))"
      ],
      "execution_count": 73,
      "outputs": [
        {
          "output_type": "stream",
          "text": [
            "vector = [1. 1. 1.]\n",
            "matrix =  \n",
            " [[1. 1. 1.]\n",
            " [1. 1. 1.]\n",
            " [1. 1. 1.]]\n"
          ],
          "name": "stdout"
        }
      ]
    },
    {
      "metadata": {
        "id": "oit2qiFXYx5W",
        "colab_type": "code",
        "colab": {}
      },
      "cell_type": "code",
      "source": [
        ""
      ],
      "execution_count": 0,
      "outputs": []
    },
    {
      "metadata": {
        "id": "DJur1XUpuZvE",
        "colab_type": "text"
      },
      "cell_type": "markdown",
      "source": [
        "# Neural Network models"
      ]
    },
    {
      "metadata": {
        "id": "XbkOSljV7GTU",
        "colab_type": "text"
      },
      "cell_type": "markdown",
      "source": [
        "\n",
        "\n",
        "**1.   With TensorFlow**\n",
        "\n"
      ]
    },
    {
      "metadata": {
        "id": "hcrBe-W3ucV8",
        "colab_type": "code",
        "colab": {}
      },
      "cell_type": "code",
      "source": [
        "import tensorflow as tf\n",
        "from tensorflow import keras\n",
        "import numpy as np\n",
        "import matplotlib.pyplot as plt"
      ],
      "execution_count": 0,
      "outputs": []
    },
    {
      "metadata": {
        "id": "0LGdznWT7fXd",
        "colab_type": "text"
      },
      "cell_type": "markdown",
      "source": [
        "** MNIST - Fashion mnist**"
      ]
    },
    {
      "metadata": {
        "id": "yXuo55xK7dwc",
        "colab_type": "code",
        "colab": {}
      },
      "cell_type": "code",
      "source": [
        "fashion_mnist = keras.datasets.fashion_mnist\n",
        "(train_images, train_labels),(test_images, test_labels) = fashion_mnist.load_data()"
      ],
      "execution_count": 0,
      "outputs": []
    },
    {
      "metadata": {
        "id": "HWn0pfaT8CCa",
        "colab_type": "code",
        "colab": {
          "base_uri": "https://localhost:8080/",
          "height": 659
        },
        "outputId": "f5276c94-9895-4858-c611-6749c8abae06"
      },
      "cell_type": "code",
      "source": [
        "class_names = ['T-shirt/top', 'Trouser', 'Pullover', 'Dress', 'Coat', \n",
        "               'Sandal', 'Shirt', 'Sneaker', 'Bag', 'Ankle boot']\n",
        "print('Shape of training images = ', train_images.shape)\n",
        "print('length of training label = ', len(train_labels))\n",
        "\n",
        "print('Shape of testing images = ', test_images.shape)\n",
        "print('length of testing label = ', len(test_labels))\n",
        "\n",
        "\n",
        "# visualize the data\n",
        "plt.figure(figsize = (20,10))\n",
        "for i in range(12):\n",
        "  plt.subplot(3,4, i+1)\n",
        "  plt.xticks([]) ; plt.yticks([])\n",
        "  plt.imshow(train_images[i])\n",
        "  plt.xlabel(class_names[train_labels[i]])"
      ],
      "execution_count": 86,
      "outputs": [
        {
          "output_type": "stream",
          "text": [
            "Shape of training images =  (60000, 28, 28)\n",
            "length of training label =  60000\n",
            "Shape of testing images =  (10000, 28, 28)\n",
            "length of testing label =  10000\n"
          ],
          "name": "stdout"
        },
        {
          "output_type": "display_data",
          "data": {
            "image/png": "[encoded data removed]",
            "text/plain": [
              "<matplotlib.figure.Figure at 0x7f6e45563cc0>"
            ]
          },
          "metadata": {
            "tags": []
          }
        }
      ]
    },
    {
      "metadata": {
        "id": "qW0fpvhj8v9L",
        "colab_type": "code",
        "colab": {}
      },
      "cell_type": "code",
      "source": [
        "# normalizing the data\n",
        "\n",
        "train_images = train_images/255\n",
        "test_images = test_images/255\n",
        "\n",
        "# create one-hot encoding for the labels\n",
        "def one_hot_encode(labels):\n",
        "  number_of_labels = len(labels)\n",
        "  number_of_unique_labels = len(np.unique(labels))\n",
        "  one_hot_matrix = np.zeros((number_of_labels, number_of_unique_labels))\n",
        "  one_hot_matrix[np.arange(number_of_labels), np.array([labels])] = 1\n",
        "  return one_hot_matrix\n",
        "\n",
        "y_train_one_hot = one_hot_encode(train_labels)\n",
        "y_test = one_hot_encode(test_labels)\n",
        "\n",
        "\n",
        "from sklearn.cross_validation import train_test_split\n",
        "\n",
        "# test_index = np.random.randint(train_images.shape[0], size=int(0.2*train_images.shape[0]))\n",
        "# train_index = [i for i in np.arange(train_images.shape[0]) if i not in test_index]\n",
        "# x_train = train_images[train_index]; x_test = train_images[tes_index]\n",
        "# y_train = y_train[train_index]; y_test = y_test[test_index]\n",
        "\n",
        "x_train, x_test, y_train, y_test = train_test_split(train_images,y_train_one_hot, test_size = 0.2, random_state = 42)"
      ],
      "execution_count": 0,
      "outputs": []
    },
    {
      "metadata": {
        "id": "Z7AOBfjdANRV",
        "colab_type": "code",
        "colab": {}
      },
      "cell_type": "code",
      "source": [
        "learning_rate = 0.01\n",
        "epochs = 1000\n",
        "\n",
        "n_dim = np.ndim(train_images)\n",
        "\n",
        "n_class = len(np.unique(train_labels))\n",
        "\n",
        "n_hidden_1 = 60\n",
        "n_hidden_2 = 60\n",
        "n_hidden_3 = 60\n",
        "n_hidden_4 = 60\n",
        "\n",
        "x = tf.placeholder(tf.float32, [None, n_dim]) # number of row = number of observation, can vary; number of column for x is the dimension\n",
        "w = tf.Variable(tf.zeros([n_dim, n_class]))\n",
        "b = tf.Variable(tf.zeros([n_class]))\n",
        "y = tf.placeholder(tf.float32, [None, n_class])\n",
        "\n",
        "def multilayer_perceptron(x, weights, biases):\n",
        "  layer_1 = tf.add(tf.matmul(x,weights['w1']), biases['b1'])\n",
        "  layer_1 = tf.nn.relu(layer_1)\n",
        "  \n",
        "  layer_2 = tf.add(tf.matmul(weights['w2'], layer_1), biases['b2'])\n",
        "  layer_2 = tf.nn.sigmoid(layer_2)\n",
        "  \n",
        "  layer_3 = tf.add(tf.matmul(weights['w3'], layer_2), biases['b3'])\n",
        "  layer_3 = tf.nn.sigmoid(layer_2)\n",
        "  \n",
        "  layer_4 = tf.add(tf.matmul(weights['w4'], layer_3), biases['b4'])\n",
        "  layer_4 = tf.nn.sigmoid(layer_4)\n",
        "  \n",
        "  out = tf.add(tf.matmul(layer_4, weights['out']), biases['out'])\n",
        "  \n",
        "  return out\n",
        "\n",
        "weights = {'w1' : tf.Variable(tf.truncated_normal([n_dim, n_hidden_1])),\n",
        "           'w2' : tf.Variable(tf.truncated_normal([n_hidden_1, n_hidden_2])),\n",
        "           'w3' : tf.Variable(tf.truncated_normal([n_hidden_2, n_hidden_3])),\n",
        "           'w4' : tf.Variable(tf.truncated_normal([n_hidden_3, n_hidden_4])),\n",
        "           'out' : tf.Variable(tf.truncated_normal([n_hidden_4, n_class]))}\n",
        "\n",
        "biases = {'b1' : tf.Variable(tf.truncated_normal([n_hidden_1])),\n",
        "          'b2' : tf.Variable(tf.truncated_normal([n_hidden_2])),\n",
        "          'b3' : tf.Variable(tf.truncated_normal([n_hidden_3])),\n",
        "          'b4' : tf.Variable(tf.truncated_normal([n_hidden_4])),\n",
        "          'out' : tf.Variable(tf.truncated_normal([n_class]))\n",
        "         }\n",
        "\n",
        "init = tf.global_variables_initializer()\n",
        "\n",
        "y_hat = multilayer_perceptron(x,weights,biases)\n",
        "\n",
        "cost = tf.reduce_mean(tf.nn.softmax_cross_entropy_with_logits(logits = y_hat, labels = y))\n",
        "training_step = tf.train.GradientDescentOptimizer(learning_rate).minimize(cost)"
      ],
      "execution_count": 0,
      "outputs": []
    },
    {
      "metadata": {
        "id": "-dfFZaCRAWkE",
        "colab_type": "code",
        "colab": {
          "base_uri": "https://localhost:8080/",
          "height": 479
        },
        "outputId": "a6efe841-6684-4963-a0f4-60f49d8608dc"
      },
      "cell_type": "code",
      "source": [
        "sess = tf.Session()\n",
        "sess.run(init)\n",
        "\n",
        "mse_hist = []\n",
        "accuracy_hist = []\n",
        "cost_hist = []\n",
        "\n",
        "for e in range(epochs):\n",
        "  sess.run(training_step, feed_dict = {x:x_train, y: y_train})\n",
        "  cost = sess.run(cost, feed_dict = {x:x_train, y: y_train})\n",
        "  cost_hist.append(cost)\n",
        "  correct_prediction  = tf.equal(tf.argmax(y_hat,1), tf.argmax(y,1))\n",
        "  accuracy = tf.reduce_mean(tf.cast(correct_prediction, tf.float32))\n",
        "  pred_y = sess.run(y, feed_dict = {x:test_x})\n",
        "  mse = tf.reduce_mean(tf.square(pred_y-test_y))\n",
        "  mse_ = sess.run(mse)\n",
        "  mse_history.append(mse_)\n",
        "  accuracy_ = sess.run(accuracy, feed_dict = {x:train_x, y:train_y})\n",
        "  accuracy_hist.append(accuracy_)\n",
        "  "
      ],
      "execution_count": 141,
      "outputs": [
        {
          "output_type": "error",
          "ename": "ValueError",
          "evalue": "ignored",
          "traceback": [
            "\u001b[0;31m---------------------------------------------------------------------------\u001b[0m",
            "\u001b[0;31mValueError\u001b[0m                                Traceback (most recent call last)",
            "\u001b[0;32m<ipython-input-141-564adc1cc0a7>\u001b[0m in \u001b[0;36m<module>\u001b[0;34m()\u001b[0m\n\u001b[1;32m      7\u001b[0m \u001b[0;34m\u001b[0m\u001b[0m\n\u001b[1;32m      8\u001b[0m \u001b[0;32mfor\u001b[0m \u001b[0me\u001b[0m \u001b[0;32min\u001b[0m \u001b[0mrange\u001b[0m\u001b[0;34m(\u001b[0m\u001b[0mepochs\u001b[0m\u001b[0;34m)\u001b[0m\u001b[0;34m:\u001b[0m\u001b[0;34m\u001b[0m\u001b[0m\n\u001b[0;32m----> 9\u001b[0;31m   \u001b[0msess\u001b[0m\u001b[0;34m.\u001b[0m\u001b[0mrun\u001b[0m\u001b[0;34m(\u001b[0m\u001b[0mtraining_step\u001b[0m\u001b[0;34m,\u001b[0m \u001b[0mfeed_dict\u001b[0m \u001b[0;34m=\u001b[0m \u001b[0;34m{\u001b[0m\u001b[0mx\u001b[0m\u001b[0;34m:\u001b[0m\u001b[0mx_train\u001b[0m\u001b[0;34m,\u001b[0m \u001b[0my\u001b[0m\u001b[0;34m:\u001b[0m \u001b[0my_train\u001b[0m\u001b[0;34m}\u001b[0m\u001b[0;34m)\u001b[0m\u001b[0;34m\u001b[0m\u001b[0m\n\u001b[0m\u001b[1;32m     10\u001b[0m   \u001b[0mcost\u001b[0m \u001b[0;34m=\u001b[0m \u001b[0msess\u001b[0m\u001b[0;34m.\u001b[0m\u001b[0mrun\u001b[0m\u001b[0;34m(\u001b[0m\u001b[0mcost\u001b[0m\u001b[0;34m,\u001b[0m \u001b[0mfeed_dict\u001b[0m \u001b[0;34m=\u001b[0m \u001b[0;34m{\u001b[0m\u001b[0mx\u001b[0m\u001b[0;34m:\u001b[0m\u001b[0mx_train\u001b[0m\u001b[0;34m,\u001b[0m \u001b[0my\u001b[0m\u001b[0;34m:\u001b[0m \u001b[0my_train\u001b[0m\u001b[0;34m}\u001b[0m\u001b[0;34m)\u001b[0m\u001b[0;34m\u001b[0m\u001b[0m\n\u001b[1;32m     11\u001b[0m   \u001b[0mcost_hist\u001b[0m\u001b[0;34m.\u001b[0m\u001b[0mappend\u001b[0m\u001b[0;34m(\u001b[0m\u001b[0mcost\u001b[0m\u001b[0;34m)\u001b[0m\u001b[0;34m\u001b[0m\u001b[0m\n",
            "\u001b[0;32m/usr/local/lib/python3.6/dist-packages/tensorflow/python/client/session.py\u001b[0m in \u001b[0;36mrun\u001b[0;34m(self, fetches, feed_dict, options, run_metadata)\u001b[0m\n\u001b[1;32m    927\u001b[0m     \u001b[0;32mtry\u001b[0m\u001b[0;34m:\u001b[0m\u001b[0;34m\u001b[0m\u001b[0m\n\u001b[1;32m    928\u001b[0m       result = self._run(None, fetches, feed_dict, options_ptr,\n\u001b[0;32m--> 929\u001b[0;31m                          run_metadata_ptr)\n\u001b[0m\u001b[1;32m    930\u001b[0m       \u001b[0;32mif\u001b[0m \u001b[0mrun_metadata\u001b[0m\u001b[0;34m:\u001b[0m\u001b[0;34m\u001b[0m\u001b[0m\n\u001b[1;32m    931\u001b[0m         \u001b[0mproto_data\u001b[0m \u001b[0;34m=\u001b[0m \u001b[0mtf_session\u001b[0m\u001b[0;34m.\u001b[0m\u001b[0mTF_GetBuffer\u001b[0m\u001b[0;34m(\u001b[0m\u001b[0mrun_metadata_ptr\u001b[0m\u001b[0;34m)\u001b[0m\u001b[0;34m\u001b[0m\u001b[0m\n",
            "\u001b[0;32m/usr/local/lib/python3.6/dist-packages/tensorflow/python/client/session.py\u001b[0m in \u001b[0;36m_run\u001b[0;34m(self, handle, fetches, feed_dict, options, run_metadata)\u001b[0m\n\u001b[1;32m   1126\u001b[0m                              \u001b[0;34m'which has shape %r'\u001b[0m \u001b[0;34m%\u001b[0m\u001b[0;34m\u001b[0m\u001b[0m\n\u001b[1;32m   1127\u001b[0m                              (np_val.shape, subfeed_t.name,\n\u001b[0;32m-> 1128\u001b[0;31m                               str(subfeed_t.get_shape())))\n\u001b[0m\u001b[1;32m   1129\u001b[0m           \u001b[0;32mif\u001b[0m \u001b[0;32mnot\u001b[0m \u001b[0mself\u001b[0m\u001b[0;34m.\u001b[0m\u001b[0mgraph\u001b[0m\u001b[0;34m.\u001b[0m\u001b[0mis_feedable\u001b[0m\u001b[0;34m(\u001b[0m\u001b[0msubfeed_t\u001b[0m\u001b[0;34m)\u001b[0m\u001b[0;34m:\u001b[0m\u001b[0;34m\u001b[0m\u001b[0m\n\u001b[1;32m   1130\u001b[0m             \u001b[0;32mraise\u001b[0m \u001b[0mValueError\u001b[0m\u001b[0;34m(\u001b[0m\u001b[0;34m'Tensor %s may not be fed.'\u001b[0m \u001b[0;34m%\u001b[0m \u001b[0msubfeed_t\u001b[0m\u001b[0;34m)\u001b[0m\u001b[0;34m\u001b[0m\u001b[0m\n",
            "\u001b[0;31mValueError\u001b[0m: Cannot feed value of shape (48000, 28, 28) for Tensor 'Placeholder_39:0', which has shape '(?, 3)'"
          ]
        }
      ]
    },
    {
      "metadata": {
        "id": "LhwU_-yvAnA0",
        "colab_type": "code",
        "colab": {}
      },
      "cell_type": "code",
      "source": [
        ""
      ],
      "execution_count": 0,
      "outputs": []
    }
  ]
}