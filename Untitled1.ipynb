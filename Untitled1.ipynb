{
  "nbformat": 4,
  "nbformat_minor": 0,
  "metadata": {
    "colab": {
      "name": "Untitled1.ipynb",
      "version": "0.3.2",
      "provenance": [],
      "collapsed_sections": [],
      "include_colab_link": true
    },
    "kernelspec": {
      "name": "python3",
      "display_name": "Python 3"
    }
  },
  "cells": [
    {
      "cell_type": "markdown",
      "metadata": {
        "id": "view-in-github",
        "colab_type": "text"
      },
      "source": [
        "<a href=\"https://colab.research.google.com/github/ghoshal7/python_basics/blob/master/Untitled1.ipynb\" target=\"_parent\"><img src=\"https://colab.research.google.com/assets/colab-badge.svg\" alt=\"Open In Colab\"/></a>"
      ]
    },
    {
      "metadata": {
        "id": "o2v556y-AwX6",
        "colab_type": "code",
        "colab": {}
      },
      "cell_type": "code",
      "source": [
        "!pip install -U -q PyDrive\n",
        "from pydrive.auth import GoogleAuth\n",
        "from pydrive.drive import GoogleDrive\n",
        "from google.colab import auth\n",
        "from oauth2client.client import GoogleCredentials"
      ],
      "execution_count": 0,
      "outputs": []
    },
    {
      "metadata": {
        "id": "xn4qu9jMAzdS",
        "colab_type": "code",
        "colab": {}
      },
      "cell_type": "code",
      "source": [
        "auth.authenticate_user()\n",
        "gauth = GoogleAuth()\n",
        "gauth.credentials = GoogleCredentials.get_application_default()\n",
        "drive = GoogleDrive(gauth)"
      ],
      "execution_count": 0,
      "outputs": []
    },
    {
      "metadata": {
        "id": "4wnfuOGwA1No",
        "colab_type": "code",
        "colab": {}
      },
      "cell_type": "code",
      "source": [
        "import numpy as np\n",
        "import pandas as pd\n",
        "import seaborn as sb\n",
        "import matplotlib.pyplot as plt\n",
        "from matplotlib import style\n",
        "style.use('ggplot')\n",
        "pd.options.display.max_columns = None"
      ],
      "execution_count": 0,
      "outputs": []
    },
    {
      "metadata": {
        "id": "3aXT75r8A4zU",
        "colab_type": "code",
        "colab": {
          "base_uri": "https://localhost:8080/",
          "height": 531
        },
        "outputId": "d3b773ae-209b-4176-d82e-14df5bfa273c"
      },
      "cell_type": "code",
      "source": [
        "downloaded = drive.CreateFile({'id':'1ggZsYfsFNRAfDTCL38SjwR_bhfozKC1A'}) \n",
        "downloaded.GetContentFile('Ride ID.xlsx')\n",
        "df_ride_id = pd.read_excel('Ride ID.xlsx')\n",
        "print('size = ', df_ride_id.shape)\n",
        "df_ride_id.head(15)"
      ],
      "execution_count": 4,
      "outputs": [
        {
          "output_type": "stream",
          "text": [
            "size =  (970405, 3)\n"
          ],
          "name": "stdout"
        },
        {
          "output_type": "execute_result",
          "data": {
            "text/html": [
              "<div>\n",
              "<style scoped>\n",
              "    .dataframe tbody tr th:only-of-type {\n",
              "        vertical-align: middle;\n",
              "    }\n",
              "\n",
              "    .dataframe tbody tr th {\n",
              "        vertical-align: top;\n",
              "    }\n",
              "\n",
              "    .dataframe thead th {\n",
              "        text-align: right;\n",
              "    }\n",
              "</style>\n",
              "<table border=\"1\" class=\"dataframe\">\n",
              "  <thead>\n",
              "    <tr style=\"text-align: right;\">\n",
              "      <th></th>\n",
              "      <th>ride_id</th>\n",
              "      <th>event</th>\n",
              "      <th>timestamp</th>\n",
              "    </tr>\n",
              "  </thead>\n",
              "  <tbody>\n",
              "    <tr>\n",
              "      <th>0</th>\n",
              "      <td>00003037a262d9ee40e61b5c0718f7f0</td>\n",
              "      <td>requested_at</td>\n",
              "      <td>2016-06-13 09:39:19</td>\n",
              "    </tr>\n",
              "    <tr>\n",
              "      <th>1</th>\n",
              "      <td>00003037a262d9ee40e61b5c0718f7f0</td>\n",
              "      <td>accepted_at</td>\n",
              "      <td>2016-06-13 09:39:51</td>\n",
              "    </tr>\n",
              "    <tr>\n",
              "      <th>2</th>\n",
              "      <td>00003037a262d9ee40e61b5c0718f7f0</td>\n",
              "      <td>arrived_at</td>\n",
              "      <td>2016-06-13 09:44:31</td>\n",
              "    </tr>\n",
              "    <tr>\n",
              "      <th>3</th>\n",
              "      <td>00003037a262d9ee40e61b5c0718f7f0</td>\n",
              "      <td>picked_up_at</td>\n",
              "      <td>2016-06-13 09:44:33</td>\n",
              "    </tr>\n",
              "    <tr>\n",
              "      <th>4</th>\n",
              "      <td>00003037a262d9ee40e61b5c0718f7f0</td>\n",
              "      <td>dropped_off_at</td>\n",
              "      <td>2016-06-13 10:03:05</td>\n",
              "    </tr>\n",
              "    <tr>\n",
              "      <th>5</th>\n",
              "      <td>00005eae40882760d675da5effb89ae3</td>\n",
              "      <td>requested_at</td>\n",
              "      <td>2016-05-14 05:23:21</td>\n",
              "    </tr>\n",
              "    <tr>\n",
              "      <th>6</th>\n",
              "      <td>00005eae40882760d675da5effb89ae3</td>\n",
              "      <td>accepted_at</td>\n",
              "      <td>2016-05-14 05:23:25</td>\n",
              "    </tr>\n",
              "    <tr>\n",
              "      <th>7</th>\n",
              "      <td>00005eae40882760d675da5effb89ae3</td>\n",
              "      <td>arrived_at</td>\n",
              "      <td>2016-05-14 05:26:17</td>\n",
              "    </tr>\n",
              "    <tr>\n",
              "      <th>8</th>\n",
              "      <td>00005eae40882760d675da5effb89ae3</td>\n",
              "      <td>picked_up_at</td>\n",
              "      <td>2016-05-14 05:26:18</td>\n",
              "    </tr>\n",
              "    <tr>\n",
              "      <th>9</th>\n",
              "      <td>00005eae40882760d675da5effb89ae3</td>\n",
              "      <td>dropped_off_at</td>\n",
              "      <td>2016-05-14 05:34:17</td>\n",
              "    </tr>\n",
              "    <tr>\n",
              "      <th>10</th>\n",
              "      <td>000061d42cf29f73b591041d9a1b2973</td>\n",
              "      <td>requested_at</td>\n",
              "      <td>2016-05-16 15:43:09</td>\n",
              "    </tr>\n",
              "    <tr>\n",
              "      <th>11</th>\n",
              "      <td>000061d42cf29f73b591041d9a1b2973</td>\n",
              "      <td>accepted_at</td>\n",
              "      <td>2016-05-16 15:43:14</td>\n",
              "    </tr>\n",
              "    <tr>\n",
              "      <th>12</th>\n",
              "      <td>000061d42cf29f73b591041d9a1b2973</td>\n",
              "      <td>arrived_at</td>\n",
              "      <td>2016-05-16 15:47:29</td>\n",
              "    </tr>\n",
              "    <tr>\n",
              "      <th>13</th>\n",
              "      <td>000061d42cf29f73b591041d9a1b2973</td>\n",
              "      <td>picked_up_at</td>\n",
              "      <td>2016-05-16 15:47:32</td>\n",
              "    </tr>\n",
              "    <tr>\n",
              "      <th>14</th>\n",
              "      <td>000061d42cf29f73b591041d9a1b2973</td>\n",
              "      <td>dropped_off_at</td>\n",
              "      <td>2016-05-16 15:54:18</td>\n",
              "    </tr>\n",
              "  </tbody>\n",
              "</table>\n",
              "</div>"
            ],
            "text/plain": [
              "                             ride_id           event           timestamp\n",
              "0   00003037a262d9ee40e61b5c0718f7f0    requested_at 2016-06-13 09:39:19\n",
              "1   00003037a262d9ee40e61b5c0718f7f0     accepted_at 2016-06-13 09:39:51\n",
              "2   00003037a262d9ee40e61b5c0718f7f0      arrived_at 2016-06-13 09:44:31\n",
              "3   00003037a262d9ee40e61b5c0718f7f0    picked_up_at 2016-06-13 09:44:33\n",
              "4   00003037a262d9ee40e61b5c0718f7f0  dropped_off_at 2016-06-13 10:03:05\n",
              "5   00005eae40882760d675da5effb89ae3    requested_at 2016-05-14 05:23:21\n",
              "6   00005eae40882760d675da5effb89ae3     accepted_at 2016-05-14 05:23:25\n",
              "7   00005eae40882760d675da5effb89ae3      arrived_at 2016-05-14 05:26:17\n",
              "8   00005eae40882760d675da5effb89ae3    picked_up_at 2016-05-14 05:26:18\n",
              "9   00005eae40882760d675da5effb89ae3  dropped_off_at 2016-05-14 05:34:17\n",
              "10  000061d42cf29f73b591041d9a1b2973    requested_at 2016-05-16 15:43:09\n",
              "11  000061d42cf29f73b591041d9a1b2973     accepted_at 2016-05-16 15:43:14\n",
              "12  000061d42cf29f73b591041d9a1b2973      arrived_at 2016-05-16 15:47:29\n",
              "13  000061d42cf29f73b591041d9a1b2973    picked_up_at 2016-05-16 15:47:32\n",
              "14  000061d42cf29f73b591041d9a1b2973  dropped_off_at 2016-05-16 15:54:18"
            ]
          },
          "metadata": {
            "tags": []
          },
          "execution_count": 4
        }
      ]
    },
    {
      "metadata": {
        "id": "T0Og6Q9WA6hh",
        "colab_type": "code",
        "colab": {
          "base_uri": "https://localhost:8080/",
          "height": 252
        },
        "outputId": "4798f493-f2e5-4f2f-af4d-2e46b3a0c4dc"
      },
      "cell_type": "code",
      "source": [
        "downloaded = drive.CreateFile({'id':'18z19_UUrjNBx88bqKeSt7MGqjDdkQXqS'}) \n",
        "downloaded.GetContentFile('Ride details.xlsx')\n",
        "df_rides = pd.read_excel('Ride details.xlsx')\n",
        "print('size = ', df_rides.shape)\n",
        "df_rides.head(6)"
      ],
      "execution_count": 5,
      "outputs": [
        {
          "output_type": "stream",
          "text": [
            "size =  (71968, 4)\n"
          ],
          "name": "stdout"
        },
        {
          "output_type": "execute_result",
          "data": {
            "text/html": [
              "<div>\n",
              "<style scoped>\n",
              "    .dataframe tbody tr th:only-of-type {\n",
              "        vertical-align: middle;\n",
              "    }\n",
              "\n",
              "    .dataframe tbody tr th {\n",
              "        vertical-align: top;\n",
              "    }\n",
              "\n",
              "    .dataframe thead th {\n",
              "        text-align: right;\n",
              "    }\n",
              "</style>\n",
              "<table border=\"1\" class=\"dataframe\">\n",
              "  <thead>\n",
              "    <tr style=\"text-align: right;\">\n",
              "      <th></th>\n",
              "      <th>driver_id</th>\n",
              "      <th>ride_id</th>\n",
              "      <th>ride_distance</th>\n",
              "      <th>ride_prime_time</th>\n",
              "    </tr>\n",
              "  </thead>\n",
              "  <tbody>\n",
              "    <tr>\n",
              "      <th>0</th>\n",
              "      <td>002be0ffdc997bd5c50703158b7c2491</td>\n",
              "      <td>006d61cf7446e682f7bc50b0f8a5bea5</td>\n",
              "      <td>1811</td>\n",
              "      <td>50</td>\n",
              "    </tr>\n",
              "    <tr>\n",
              "      <th>1</th>\n",
              "      <td>002be0ffdc997bd5c50703158b7c2491</td>\n",
              "      <td>01b522c5c3a756fbdb12e95e87507eda</td>\n",
              "      <td>3362</td>\n",
              "      <td>0</td>\n",
              "    </tr>\n",
              "    <tr>\n",
              "      <th>2</th>\n",
              "      <td>002be0ffdc997bd5c50703158b7c2491</td>\n",
              "      <td>029227c4c2971ce69ff2274dc798ef43</td>\n",
              "      <td>3282</td>\n",
              "      <td>0</td>\n",
              "    </tr>\n",
              "    <tr>\n",
              "      <th>3</th>\n",
              "      <td>002be0ffdc997bd5c50703158b7c2491</td>\n",
              "      <td>034e861343a63ac3c18a9ceb1ce0ac69</td>\n",
              "      <td>65283</td>\n",
              "      <td>25</td>\n",
              "    </tr>\n",
              "    <tr>\n",
              "      <th>4</th>\n",
              "      <td>002be0ffdc997bd5c50703158b7c2491</td>\n",
              "      <td>034f2e614a2f9fc7f1c2f77647d1b981</td>\n",
              "      <td>4115</td>\n",
              "      <td>100</td>\n",
              "    </tr>\n",
              "    <tr>\n",
              "      <th>5</th>\n",
              "      <td>002be0ffdc997bd5c50703158b7c2491</td>\n",
              "      <td>03d6b9d80b8a96135cb9b25178e9e203</td>\n",
              "      <td>4832</td>\n",
              "      <td>100</td>\n",
              "    </tr>\n",
              "  </tbody>\n",
              "</table>\n",
              "</div>"
            ],
            "text/plain": [
              "                          driver_id                           ride_id  \\\n",
              "0  002be0ffdc997bd5c50703158b7c2491  006d61cf7446e682f7bc50b0f8a5bea5   \n",
              "1  002be0ffdc997bd5c50703158b7c2491  01b522c5c3a756fbdb12e95e87507eda   \n",
              "2  002be0ffdc997bd5c50703158b7c2491  029227c4c2971ce69ff2274dc798ef43   \n",
              "3  002be0ffdc997bd5c50703158b7c2491  034e861343a63ac3c18a9ceb1ce0ac69   \n",
              "4  002be0ffdc997bd5c50703158b7c2491  034f2e614a2f9fc7f1c2f77647d1b981   \n",
              "5  002be0ffdc997bd5c50703158b7c2491  03d6b9d80b8a96135cb9b25178e9e203   \n",
              "\n",
              "   ride_distance  ride_prime_time  \n",
              "0           1811               50  \n",
              "1           3362                0  \n",
              "2           3282                0  \n",
              "3          65283               25  \n",
              "4           4115              100  \n",
              "5           4832              100  "
            ]
          },
          "metadata": {
            "tags": []
          },
          "execution_count": 5
        }
      ]
    },
    {
      "metadata": {
        "id": "4y6eSGjYBECx",
        "colab_type": "code",
        "colab": {
          "base_uri": "https://localhost:8080/",
          "height": 252
        },
        "outputId": "3b7688d0-06e8-464e-8643-b1ba8b5bfda8"
      },
      "cell_type": "code",
      "source": [
        "downloaded = drive.CreateFile({'id':'1zdQ27YSluVR_pavdkNU9TBr3m-6RDfHZ'}) \n",
        "downloaded.GetContentFile('Driver ID.xlsx')\n",
        "df_driver = pd.read_excel('Driver ID.xlsx')\n",
        "print('size = ', df_driver.shape)\n",
        "df_driver.head(6)"
      ],
      "execution_count": 6,
      "outputs": [
        {
          "output_type": "stream",
          "text": [
            "size =  (937, 2)\n"
          ],
          "name": "stdout"
        },
        {
          "output_type": "execute_result",
          "data": {
            "text/html": [
              "<div>\n",
              "<style scoped>\n",
              "    .dataframe tbody tr th:only-of-type {\n",
              "        vertical-align: middle;\n",
              "    }\n",
              "\n",
              "    .dataframe tbody tr th {\n",
              "        vertical-align: top;\n",
              "    }\n",
              "\n",
              "    .dataframe thead th {\n",
              "        text-align: right;\n",
              "    }\n",
              "</style>\n",
              "<table border=\"1\" class=\"dataframe\">\n",
              "  <thead>\n",
              "    <tr style=\"text-align: right;\">\n",
              "      <th></th>\n",
              "      <th>driver_id</th>\n",
              "      <th>driver_onboard_date</th>\n",
              "    </tr>\n",
              "  </thead>\n",
              "  <tbody>\n",
              "    <tr>\n",
              "      <th>0</th>\n",
              "      <td>002be0ffdc997bd5c50703158b7c2491</td>\n",
              "      <td>2016-03-29</td>\n",
              "    </tr>\n",
              "    <tr>\n",
              "      <th>1</th>\n",
              "      <td>007f0389f9c7b03ef97098422f902e62</td>\n",
              "      <td>2016-03-29</td>\n",
              "    </tr>\n",
              "    <tr>\n",
              "      <th>2</th>\n",
              "      <td>011e5c5dfc5c2c92501b8b24d47509bc</td>\n",
              "      <td>2016-04-05</td>\n",
              "    </tr>\n",
              "    <tr>\n",
              "      <th>3</th>\n",
              "      <td>0152a2f305e71d26cc964f8d4411add9</td>\n",
              "      <td>2016-04-23</td>\n",
              "    </tr>\n",
              "    <tr>\n",
              "      <th>4</th>\n",
              "      <td>01674381af7edd264113d4e6ed55ecda</td>\n",
              "      <td>2016-04-29</td>\n",
              "    </tr>\n",
              "    <tr>\n",
              "      <th>5</th>\n",
              "      <td>01788cf817698fe68eaecd7eb18b2f72</td>\n",
              "      <td>2016-05-06</td>\n",
              "    </tr>\n",
              "  </tbody>\n",
              "</table>\n",
              "</div>"
            ],
            "text/plain": [
              "                          driver_id driver_onboard_date\n",
              "0  002be0ffdc997bd5c50703158b7c2491          2016-03-29\n",
              "1  007f0389f9c7b03ef97098422f902e62          2016-03-29\n",
              "2  011e5c5dfc5c2c92501b8b24d47509bc          2016-04-05\n",
              "3  0152a2f305e71d26cc964f8d4411add9          2016-04-23\n",
              "4  01674381af7edd264113d4e6ed55ecda          2016-04-29\n",
              "5  01788cf817698fe68eaecd7eb18b2f72          2016-05-06"
            ]
          },
          "metadata": {
            "tags": []
          },
          "execution_count": 6
        }
      ]
    },
    {
      "metadata": {
        "id": "vPs7TNnGBGjc",
        "colab_type": "code",
        "colab": {
          "base_uri": "https://localhost:8080/",
          "height": 51
        },
        "outputId": "a41737f2-febc-49f4-ac33-401bbd91f159"
      },
      "cell_type": "code",
      "source": [
        "df_rides.driver_id.value_counts().head(1)"
      ],
      "execution_count": 7,
      "outputs": [
        {
          "output_type": "execute_result",
          "data": {
            "text/plain": [
              "4eb382d1f7d50fae1294964263d1ce82    831\n",
              "Name: driver_id, dtype: int64"
            ]
          },
          "metadata": {
            "tags": []
          },
          "execution_count": 7
        }
      ]
    },
    {
      "metadata": {
        "id": "Yc-Qv8JIBVjp",
        "colab_type": "code",
        "colab": {
          "base_uri": "https://localhost:8080/",
          "height": 68
        },
        "outputId": "43c931cb-8f33-4977-b418-da022915deca"
      },
      "cell_type": "code",
      "source": [
        "df_rides.groupby('driver_id').count().ride_id.sort_values(ascending =False).head(1)"
      ],
      "execution_count": 8,
      "outputs": [
        {
          "output_type": "execute_result",
          "data": {
            "text/plain": [
              "driver_id\n",
              "4eb382d1f7d50fae1294964263d1ce82    831\n",
              "Name: ride_id, dtype: int64"
            ]
          },
          "metadata": {
            "tags": []
          },
          "execution_count": 8
        }
      ]
    },
    {
      "metadata": {
        "id": "RJ4pepkABYZ8",
        "colab_type": "code",
        "colab": {}
      },
      "cell_type": "code",
      "source": [
        "i = input('enter the driver id generated by previous snippet : ')\n",
        "df_driver[df_driver.driver_id == i]"
      ],
      "execution_count": 0,
      "outputs": []
    },
    {
      "metadata": {
        "id": "6e0bQAGUBbq1",
        "colab_type": "code",
        "colab": {
          "base_uri": "https://localhost:8080/",
          "height": 34
        },
        "outputId": "7d4cd266-6422-4cc0-9cde-0c9577d37f0a"
      },
      "cell_type": "code",
      "source": [
        "df_ride_id.timestamp.dtypes"
      ],
      "execution_count": 11,
      "outputs": [
        {
          "output_type": "execute_result",
          "data": {
            "text/plain": [
              "dtype('<M8[ns]')"
            ]
          },
          "metadata": {
            "tags": []
          },
          "execution_count": 11
        }
      ]
    },
    {
      "metadata": {
        "id": "mN_b6FO0BvcX",
        "colab_type": "code",
        "colab": {
          "base_uri": "https://localhost:8080/",
          "height": 204
        },
        "outputId": "2d1d4dba-292f-4cf7-c90c-ddfdc5cc6b28"
      },
      "cell_type": "code",
      "source": [
        "rqt = df_ride_id[df_ride_id.event == 'requested_at'].drop(columns = 'event')\n",
        "act = df_ride_id[df_ride_id.event == 'accepted_at'].drop(columns = 'event')\n",
        "art = df_ride_id[df_ride_id.event == 'arrived_at'].drop(columns = 'event')\n",
        "pt = df_ride_id[df_ride_id.event == 'picked_up_at'].drop(columns = 'event')\n",
        "dt = df_ride_id[df_ride_id.event == 'dropped_off_at'].drop(columns = 'event')\n",
        "\n",
        "df_1 = pd.merge(rqt, act, on = 'ride_id', how = 'inner')\n",
        "df_2 = pd.merge(df_1, art, on = 'ride_id', how = 'inner')\n",
        "df_3 = pd.merge(df_2, pt, on = 'ride_id', how = 'inner')\n",
        "df_timestmps = pd.merge(df_3, dt, on = 'ride_id', how = 'inner')\n",
        "\n",
        "df_timestmps.columns = ['ride_id', 'request_time', 'accept_time', 'arrive_time', 'pickup_time', 'dropoff_time']\n",
        "df_timestmps.head() "
      ],
      "execution_count": 12,
      "outputs": [
        {
          "output_type": "execute_result",
          "data": {
            "text/html": [
              "<div>\n",
              "<style scoped>\n",
              "    .dataframe tbody tr th:only-of-type {\n",
              "        vertical-align: middle;\n",
              "    }\n",
              "\n",
              "    .dataframe tbody tr th {\n",
              "        vertical-align: top;\n",
              "    }\n",
              "\n",
              "    .dataframe thead th {\n",
              "        text-align: right;\n",
              "    }\n",
              "</style>\n",
              "<table border=\"1\" class=\"dataframe\">\n",
              "  <thead>\n",
              "    <tr style=\"text-align: right;\">\n",
              "      <th></th>\n",
              "      <th>ride_id</th>\n",
              "      <th>request_time</th>\n",
              "      <th>accept_time</th>\n",
              "      <th>arrive_time</th>\n",
              "      <th>pickup_time</th>\n",
              "      <th>dropoff_time</th>\n",
              "    </tr>\n",
              "  </thead>\n",
              "  <tbody>\n",
              "    <tr>\n",
              "      <th>0</th>\n",
              "      <td>00003037a262d9ee40e61b5c0718f7f0</td>\n",
              "      <td>2016-06-13 09:39:19</td>\n",
              "      <td>2016-06-13 09:39:51</td>\n",
              "      <td>2016-06-13 09:44:31</td>\n",
              "      <td>2016-06-13 09:44:33</td>\n",
              "      <td>2016-06-13 10:03:05</td>\n",
              "    </tr>\n",
              "    <tr>\n",
              "      <th>1</th>\n",
              "      <td>00005eae40882760d675da5effb89ae3</td>\n",
              "      <td>2016-05-14 05:23:21</td>\n",
              "      <td>2016-05-14 05:23:25</td>\n",
              "      <td>2016-05-14 05:26:17</td>\n",
              "      <td>2016-05-14 05:26:18</td>\n",
              "      <td>2016-05-14 05:34:17</td>\n",
              "    </tr>\n",
              "    <tr>\n",
              "      <th>2</th>\n",
              "      <td>000061d42cf29f73b591041d9a1b2973</td>\n",
              "      <td>2016-05-16 15:43:09</td>\n",
              "      <td>2016-05-16 15:43:14</td>\n",
              "      <td>2016-05-16 15:47:29</td>\n",
              "      <td>2016-05-16 15:47:32</td>\n",
              "      <td>2016-05-16 15:54:18</td>\n",
              "    </tr>\n",
              "    <tr>\n",
              "      <th>3</th>\n",
              "      <td>00006efeb0d5e3ccad7d921ddeee9900</td>\n",
              "      <td>2016-05-11 19:29:36</td>\n",
              "      <td>2016-05-11 19:29:43</td>\n",
              "      <td>2016-05-11 19:35:11</td>\n",
              "      <td>2016-05-11 19:35:15</td>\n",
              "      <td>2016-05-11 19:40:47</td>\n",
              "    </tr>\n",
              "    <tr>\n",
              "      <th>4</th>\n",
              "      <td>0000d9b24d8ccdd991b76258e616fa01</td>\n",
              "      <td>2016-04-26 18:11:38</td>\n",
              "      <td>2016-04-26 18:12:15</td>\n",
              "      <td>2016-04-26 18:16:52</td>\n",
              "      <td>2016-04-26 18:16:55</td>\n",
              "      <td>2016-04-26 18:24:14</td>\n",
              "    </tr>\n",
              "  </tbody>\n",
              "</table>\n",
              "</div>"
            ],
            "text/plain": [
              "                            ride_id        request_time         accept_time  \\\n",
              "0  00003037a262d9ee40e61b5c0718f7f0 2016-06-13 09:39:19 2016-06-13 09:39:51   \n",
              "1  00005eae40882760d675da5effb89ae3 2016-05-14 05:23:21 2016-05-14 05:23:25   \n",
              "2  000061d42cf29f73b591041d9a1b2973 2016-05-16 15:43:09 2016-05-16 15:43:14   \n",
              "3  00006efeb0d5e3ccad7d921ddeee9900 2016-05-11 19:29:36 2016-05-11 19:29:43   \n",
              "4  0000d9b24d8ccdd991b76258e616fa01 2016-04-26 18:11:38 2016-04-26 18:12:15   \n",
              "\n",
              "          arrive_time         pickup_time        dropoff_time  \n",
              "0 2016-06-13 09:44:31 2016-06-13 09:44:33 2016-06-13 10:03:05  \n",
              "1 2016-05-14 05:26:17 2016-05-14 05:26:18 2016-05-14 05:34:17  \n",
              "2 2016-05-16 15:47:29 2016-05-16 15:47:32 2016-05-16 15:54:18  \n",
              "3 2016-05-11 19:35:11 2016-05-11 19:35:15 2016-05-11 19:40:47  \n",
              "4 2016-04-26 18:16:52 2016-04-26 18:16:55 2016-04-26 18:24:14  "
            ]
          },
          "metadata": {
            "tags": []
          },
          "execution_count": 12
        }
      ]
    },
    {
      "metadata": {
        "id": "NjEdaROFBxra",
        "colab_type": "code",
        "colab": {
          "base_uri": "https://localhost:8080/",
          "height": 34
        },
        "outputId": "ad400c2c-0166-48ec-e61c-54073648d4d3"
      },
      "cell_type": "code",
      "source": [
        "np.mean(df_timestmps.pickup_time - df_timestmps.request_time)"
      ],
      "execution_count": 13,
      "outputs": [
        {
          "output_type": "execute_result",
          "data": {
            "text/plain": [
              "Timedelta('0 days 00:04:24.674244')"
            ]
          },
          "metadata": {
            "tags": []
          },
          "execution_count": 13
        }
      ]
    },
    {
      "metadata": {
        "id": "nGgbKfc-B2GN",
        "colab_type": "code",
        "colab": {
          "base_uri": "https://localhost:8080/",
          "height": 34
        },
        "outputId": "6c650cfd-7cde-48b4-cb6f-d69e4184bdd9"
      },
      "cell_type": "code",
      "source": [
        "np.mean(df_timestmps.pickup_time - df_timestmps.request_time)/np.timedelta64(1,'m')"
      ],
      "execution_count": 14,
      "outputs": [
        {
          "output_type": "execute_result",
          "data": {
            "text/plain": [
              "4.4112374043"
            ]
          },
          "metadata": {
            "tags": []
          },
          "execution_count": 14
        }
      ]
    },
    {
      "metadata": {
        "id": "eEx6_WrxB6js",
        "colab_type": "code",
        "colab": {
          "base_uri": "https://localhost:8080/",
          "height": 309
        },
        "outputId": "8692989f-4798-40bd-e88b-44a870c359a4"
      },
      "cell_type": "code",
      "source": [
        "df_ = df_rides.merge(df_driver)\n",
        "df = df_.merge(df_timestmps)\n",
        "df.head()"
      ],
      "execution_count": 15,
      "outputs": [
        {
          "output_type": "execute_result",
          "data": {
            "text/html": [
              "<div>\n",
              "<style scoped>\n",
              "    .dataframe tbody tr th:only-of-type {\n",
              "        vertical-align: middle;\n",
              "    }\n",
              "\n",
              "    .dataframe tbody tr th {\n",
              "        vertical-align: top;\n",
              "    }\n",
              "\n",
              "    .dataframe thead th {\n",
              "        text-align: right;\n",
              "    }\n",
              "</style>\n",
              "<table border=\"1\" class=\"dataframe\">\n",
              "  <thead>\n",
              "    <tr style=\"text-align: right;\">\n",
              "      <th></th>\n",
              "      <th>driver_id</th>\n",
              "      <th>ride_id</th>\n",
              "      <th>ride_distance</th>\n",
              "      <th>ride_prime_time</th>\n",
              "      <th>driver_onboard_date</th>\n",
              "      <th>request_time</th>\n",
              "      <th>accept_time</th>\n",
              "      <th>arrive_time</th>\n",
              "      <th>pickup_time</th>\n",
              "      <th>dropoff_time</th>\n",
              "    </tr>\n",
              "  </thead>\n",
              "  <tbody>\n",
              "    <tr>\n",
              "      <th>0</th>\n",
              "      <td>002be0ffdc997bd5c50703158b7c2491</td>\n",
              "      <td>006d61cf7446e682f7bc50b0f8a5bea5</td>\n",
              "      <td>1811</td>\n",
              "      <td>50</td>\n",
              "      <td>2016-03-29</td>\n",
              "      <td>2016-04-23 02:13:50</td>\n",
              "      <td>2016-04-23 02:14:15</td>\n",
              "      <td>2016-04-23 02:16:36</td>\n",
              "      <td>2016-04-23 02:16:40</td>\n",
              "      <td>2016-04-23 02:22:07</td>\n",
              "    </tr>\n",
              "    <tr>\n",
              "      <th>1</th>\n",
              "      <td>002be0ffdc997bd5c50703158b7c2491</td>\n",
              "      <td>01b522c5c3a756fbdb12e95e87507eda</td>\n",
              "      <td>3362</td>\n",
              "      <td>0</td>\n",
              "      <td>2016-03-29</td>\n",
              "      <td>2016-03-29 19:00:49</td>\n",
              "      <td>2016-03-29 19:00:52</td>\n",
              "      <td>2016-03-29 19:03:57</td>\n",
              "      <td>2016-03-29 19:04:01</td>\n",
              "      <td>2016-03-29 19:17:30</td>\n",
              "    </tr>\n",
              "    <tr>\n",
              "      <th>2</th>\n",
              "      <td>002be0ffdc997bd5c50703158b7c2491</td>\n",
              "      <td>029227c4c2971ce69ff2274dc798ef43</td>\n",
              "      <td>3282</td>\n",
              "      <td>0</td>\n",
              "      <td>2016-03-29</td>\n",
              "      <td>2016-06-21 11:56:31</td>\n",
              "      <td>2016-06-21 11:56:39</td>\n",
              "      <td>2016-06-21 12:01:32</td>\n",
              "      <td>2016-06-21 12:01:35</td>\n",
              "      <td>2016-06-21 12:11:07</td>\n",
              "    </tr>\n",
              "    <tr>\n",
              "      <th>3</th>\n",
              "      <td>002be0ffdc997bd5c50703158b7c2491</td>\n",
              "      <td>034e861343a63ac3c18a9ceb1ce0ac69</td>\n",
              "      <td>65283</td>\n",
              "      <td>25</td>\n",
              "      <td>2016-03-29</td>\n",
              "      <td>2016-05-19 09:15:29</td>\n",
              "      <td>2016-05-19 09:15:33</td>\n",
              "      <td>2016-05-19 09:18:20</td>\n",
              "      <td>2016-05-19 09:18:20</td>\n",
              "      <td>2016-05-19 10:13:58</td>\n",
              "    </tr>\n",
              "    <tr>\n",
              "      <th>4</th>\n",
              "      <td>002be0ffdc997bd5c50703158b7c2491</td>\n",
              "      <td>034f2e614a2f9fc7f1c2f77647d1b981</td>\n",
              "      <td>4115</td>\n",
              "      <td>100</td>\n",
              "      <td>2016-03-29</td>\n",
              "      <td>2016-04-20 22:05:30</td>\n",
              "      <td>2016-04-20 22:05:32</td>\n",
              "      <td>2016-04-20 22:07:03</td>\n",
              "      <td>2016-04-20 22:07:02</td>\n",
              "      <td>2016-04-20 22:20:45</td>\n",
              "    </tr>\n",
              "  </tbody>\n",
              "</table>\n",
              "</div>"
            ],
            "text/plain": [
              "                          driver_id                           ride_id  \\\n",
              "0  002be0ffdc997bd5c50703158b7c2491  006d61cf7446e682f7bc50b0f8a5bea5   \n",
              "1  002be0ffdc997bd5c50703158b7c2491  01b522c5c3a756fbdb12e95e87507eda   \n",
              "2  002be0ffdc997bd5c50703158b7c2491  029227c4c2971ce69ff2274dc798ef43   \n",
              "3  002be0ffdc997bd5c50703158b7c2491  034e861343a63ac3c18a9ceb1ce0ac69   \n",
              "4  002be0ffdc997bd5c50703158b7c2491  034f2e614a2f9fc7f1c2f77647d1b981   \n",
              "\n",
              "   ride_distance  ride_prime_time driver_onboard_date        request_time  \\\n",
              "0           1811               50          2016-03-29 2016-04-23 02:13:50   \n",
              "1           3362                0          2016-03-29 2016-03-29 19:00:49   \n",
              "2           3282                0          2016-03-29 2016-06-21 11:56:31   \n",
              "3          65283               25          2016-03-29 2016-05-19 09:15:29   \n",
              "4           4115              100          2016-03-29 2016-04-20 22:05:30   \n",
              "\n",
              "          accept_time         arrive_time         pickup_time  \\\n",
              "0 2016-04-23 02:14:15 2016-04-23 02:16:36 2016-04-23 02:16:40   \n",
              "1 2016-03-29 19:00:52 2016-03-29 19:03:57 2016-03-29 19:04:01   \n",
              "2 2016-06-21 11:56:39 2016-06-21 12:01:32 2016-06-21 12:01:35   \n",
              "3 2016-05-19 09:15:33 2016-05-19 09:18:20 2016-05-19 09:18:20   \n",
              "4 2016-04-20 22:05:32 2016-04-20 22:07:03 2016-04-20 22:07:02   \n",
              "\n",
              "         dropoff_time  \n",
              "0 2016-04-23 02:22:07  \n",
              "1 2016-03-29 19:17:30  \n",
              "2 2016-06-21 12:11:07  \n",
              "3 2016-05-19 10:13:58  \n",
              "4 2016-04-20 22:20:45  "
            ]
          },
          "metadata": {
            "tags": []
          },
          "execution_count": 15
        }
      ]
    },
    {
      "metadata": {
        "id": "ZqXwhatiB_ls",
        "colab_type": "code",
        "colab": {
          "base_uri": "https://localhost:8080/",
          "height": 309
        },
        "outputId": "9f802af3-e197-4712-d09c-00ab13a19e3d"
      },
      "cell_type": "code",
      "source": [
        "df['ride_duration'] = (df.dropoff_time - df.pickup_time)/np.timedelta64(1,'m')\n",
        "df['avg_speed'] = df.ride_distance/1000/(df.ride_duration/60)\n",
        "\n",
        "df.head()"
      ],
      "execution_count": 22,
      "outputs": [
        {
          "output_type": "execute_result",
          "data": {
            "text/html": [
              "<div>\n",
              "<style scoped>\n",
              "    .dataframe tbody tr th:only-of-type {\n",
              "        vertical-align: middle;\n",
              "    }\n",
              "\n",
              "    .dataframe tbody tr th {\n",
              "        vertical-align: top;\n",
              "    }\n",
              "\n",
              "    .dataframe thead th {\n",
              "        text-align: right;\n",
              "    }\n",
              "</style>\n",
              "<table border=\"1\" class=\"dataframe\">\n",
              "  <thead>\n",
              "    <tr style=\"text-align: right;\">\n",
              "      <th></th>\n",
              "      <th>driver_id</th>\n",
              "      <th>ride_id</th>\n",
              "      <th>ride_distance</th>\n",
              "      <th>ride_prime_time</th>\n",
              "      <th>driver_onboard_date</th>\n",
              "      <th>request_time</th>\n",
              "      <th>accept_time</th>\n",
              "      <th>arrive_time</th>\n",
              "      <th>pickup_time</th>\n",
              "      <th>dropoff_time</th>\n",
              "      <th>ride_duration</th>\n",
              "      <th>avg_speed</th>\n",
              "    </tr>\n",
              "  </thead>\n",
              "  <tbody>\n",
              "    <tr>\n",
              "      <th>0</th>\n",
              "      <td>002be0ffdc997bd5c50703158b7c2491</td>\n",
              "      <td>006d61cf7446e682f7bc50b0f8a5bea5</td>\n",
              "      <td>1811</td>\n",
              "      <td>50</td>\n",
              "      <td>2016-03-29</td>\n",
              "      <td>2016-04-23 02:13:50</td>\n",
              "      <td>2016-04-23 02:14:15</td>\n",
              "      <td>2016-04-23 02:16:36</td>\n",
              "      <td>2016-04-23 02:16:40</td>\n",
              "      <td>2016-04-23 02:22:07</td>\n",
              "      <td>5.450000</td>\n",
              "      <td>19.937615</td>\n",
              "    </tr>\n",
              "    <tr>\n",
              "      <th>1</th>\n",
              "      <td>002be0ffdc997bd5c50703158b7c2491</td>\n",
              "      <td>01b522c5c3a756fbdb12e95e87507eda</td>\n",
              "      <td>3362</td>\n",
              "      <td>0</td>\n",
              "      <td>2016-03-29</td>\n",
              "      <td>2016-03-29 19:00:49</td>\n",
              "      <td>2016-03-29 19:00:52</td>\n",
              "      <td>2016-03-29 19:03:57</td>\n",
              "      <td>2016-03-29 19:04:01</td>\n",
              "      <td>2016-03-29 19:17:30</td>\n",
              "      <td>13.483333</td>\n",
              "      <td>14.960692</td>\n",
              "    </tr>\n",
              "    <tr>\n",
              "      <th>2</th>\n",
              "      <td>002be0ffdc997bd5c50703158b7c2491</td>\n",
              "      <td>029227c4c2971ce69ff2274dc798ef43</td>\n",
              "      <td>3282</td>\n",
              "      <td>0</td>\n",
              "      <td>2016-03-29</td>\n",
              "      <td>2016-06-21 11:56:31</td>\n",
              "      <td>2016-06-21 11:56:39</td>\n",
              "      <td>2016-06-21 12:01:32</td>\n",
              "      <td>2016-06-21 12:01:35</td>\n",
              "      <td>2016-06-21 12:11:07</td>\n",
              "      <td>9.533333</td>\n",
              "      <td>20.655944</td>\n",
              "    </tr>\n",
              "    <tr>\n",
              "      <th>3</th>\n",
              "      <td>002be0ffdc997bd5c50703158b7c2491</td>\n",
              "      <td>034e861343a63ac3c18a9ceb1ce0ac69</td>\n",
              "      <td>65283</td>\n",
              "      <td>25</td>\n",
              "      <td>2016-03-29</td>\n",
              "      <td>2016-05-19 09:15:29</td>\n",
              "      <td>2016-05-19 09:15:33</td>\n",
              "      <td>2016-05-19 09:18:20</td>\n",
              "      <td>2016-05-19 09:18:20</td>\n",
              "      <td>2016-05-19 10:13:58</td>\n",
              "      <td>55.633333</td>\n",
              "      <td>70.407070</td>\n",
              "    </tr>\n",
              "    <tr>\n",
              "      <th>4</th>\n",
              "      <td>002be0ffdc997bd5c50703158b7c2491</td>\n",
              "      <td>034f2e614a2f9fc7f1c2f77647d1b981</td>\n",
              "      <td>4115</td>\n",
              "      <td>100</td>\n",
              "      <td>2016-03-29</td>\n",
              "      <td>2016-04-20 22:05:30</td>\n",
              "      <td>2016-04-20 22:05:32</td>\n",
              "      <td>2016-04-20 22:07:03</td>\n",
              "      <td>2016-04-20 22:07:02</td>\n",
              "      <td>2016-04-20 22:20:45</td>\n",
              "      <td>13.716667</td>\n",
              "      <td>18.000000</td>\n",
              "    </tr>\n",
              "  </tbody>\n",
              "</table>\n",
              "</div>"
            ],
            "text/plain": [
              "                          driver_id                           ride_id  \\\n",
              "0  002be0ffdc997bd5c50703158b7c2491  006d61cf7446e682f7bc50b0f8a5bea5   \n",
              "1  002be0ffdc997bd5c50703158b7c2491  01b522c5c3a756fbdb12e95e87507eda   \n",
              "2  002be0ffdc997bd5c50703158b7c2491  029227c4c2971ce69ff2274dc798ef43   \n",
              "3  002be0ffdc997bd5c50703158b7c2491  034e861343a63ac3c18a9ceb1ce0ac69   \n",
              "4  002be0ffdc997bd5c50703158b7c2491  034f2e614a2f9fc7f1c2f77647d1b981   \n",
              "\n",
              "   ride_distance  ride_prime_time driver_onboard_date        request_time  \\\n",
              "0           1811               50          2016-03-29 2016-04-23 02:13:50   \n",
              "1           3362                0          2016-03-29 2016-03-29 19:00:49   \n",
              "2           3282                0          2016-03-29 2016-06-21 11:56:31   \n",
              "3          65283               25          2016-03-29 2016-05-19 09:15:29   \n",
              "4           4115              100          2016-03-29 2016-04-20 22:05:30   \n",
              "\n",
              "          accept_time         arrive_time         pickup_time  \\\n",
              "0 2016-04-23 02:14:15 2016-04-23 02:16:36 2016-04-23 02:16:40   \n",
              "1 2016-03-29 19:00:52 2016-03-29 19:03:57 2016-03-29 19:04:01   \n",
              "2 2016-06-21 11:56:39 2016-06-21 12:01:32 2016-06-21 12:01:35   \n",
              "3 2016-05-19 09:15:33 2016-05-19 09:18:20 2016-05-19 09:18:20   \n",
              "4 2016-04-20 22:05:32 2016-04-20 22:07:03 2016-04-20 22:07:02   \n",
              "\n",
              "         dropoff_time  ride_duration  avg_speed  \n",
              "0 2016-04-23 02:22:07       5.450000  19.937615  \n",
              "1 2016-03-29 19:17:30      13.483333  14.960692  \n",
              "2 2016-06-21 12:11:07       9.533333  20.655944  \n",
              "3 2016-05-19 10:13:58      55.633333  70.407070  \n",
              "4 2016-04-20 22:20:45      13.716667  18.000000  "
            ]
          },
          "metadata": {
            "tags": []
          },
          "execution_count": 22
        }
      ]
    },
    {
      "metadata": {
        "id": "pY1HObnECCIx",
        "colab_type": "code",
        "colab": {
          "base_uri": "https://localhost:8080/",
          "height": 68
        },
        "outputId": "154cc3bf-fa1b-4ed4-8fd0-4eb4c392250b"
      },
      "cell_type": "code",
      "source": [
        "df.groupby('driver_id').mean()['avg_speed'].sort_values(ascending = False).head(1)"
      ],
      "execution_count": 20,
      "outputs": [
        {
          "output_type": "execute_result",
          "data": {
            "text/plain": [
              "driver_id\n",
              "0f057c0c73054f569a59a0880b91cbb0    44.981137\n",
              "Name: avg_speed, dtype: float64"
            ]
          },
          "metadata": {
            "tags": []
          },
          "execution_count": 20
        }
      ]
    },
    {
      "metadata": {
        "id": "a56AOYy8CwSX",
        "colab_type": "code",
        "colab": {
          "base_uri": "https://localhost:8080/",
          "height": 343
        },
        "outputId": "0c74c352-c78e-4607-88ae-c0cf61ed1ff6"
      },
      "cell_type": "code",
      "source": [
        "plt.figure(figsize = (20,5))\n",
        "df.groupby('driver_id').mean()['avg_speed'].sort_values(ascending = False).plot()"
      ],
      "execution_count": 25,
      "outputs": [
        {
          "output_type": "execute_result",
          "data": {
            "text/plain": [
              "<matplotlib.axes._subplots.AxesSubplot at 0x7f7bc92439b0>"
            ]
          },
          "metadata": {
            "tags": []
          },
          "execution_count": 25
        },
        {
          "output_type": "display_data",
          "data": {
            "image/png": "[encoded data removed]",
            "text/plain": [
              "<Figure size 1440x360 with 1 Axes>"
            ]
          },
          "metadata": {
            "tags": []
          }
        }
      ]
    },
    {
      "metadata": {
        "id": "bpSrtuIhC2wL",
        "colab_type": "code",
        "colab": {}
      },
      "cell_type": "code",
      "source": [
        ""
      ],
      "execution_count": 0,
      "outputs": []
    },
    {
      "metadata": {
        "id": "Dgo0xs49Dxkg",
        "colab_type": "text"
      },
      "cell_type": "markdown",
      "source": [
        "# Descriptive statistics"
      ]
    },
    {
      "metadata": {
        "id": "7RuG5kalDzWf",
        "colab_type": "code",
        "colab": {
          "base_uri": "https://localhost:8080/",
          "height": 421
        },
        "outputId": "466a9dfe-2fd0-4b7d-cac0-e98af45a6587"
      },
      "cell_type": "code",
      "source": [
        "f, a = plt.subplots(1,3, figsize = (20,5))\n",
        "sb.distplot(df.ride_distance, ax = a[0]); a[0].set_title('Ride Distance')\n",
        "sb.distplot(df.ride_duration, ax = a[1]); a[1].set_title('Ride duration')\n",
        "sb.distplot(df.avg_speed, ax = a[2]); a[2].set_title('Avg speed')"
      ],
      "execution_count": 27,
      "outputs": [
        {
          "output_type": "stream",
          "text": [
            "/usr/local/lib/python3.6/dist-packages/matplotlib/axes/_axes.py:6521: MatplotlibDeprecationWarning: \n",
            "The 'normed' kwarg was deprecated in Matplotlib 2.1 and will be removed in 3.1. Use 'density' instead.\n",
            "  alternative=\"'density'\", removal=\"3.1\")\n"
          ],
          "name": "stderr"
        },
        {
          "output_type": "execute_result",
          "data": {
            "text/plain": [
              "Text(0.5, 1.0, 'Avg speed')"
            ]
          },
          "metadata": {
            "tags": []
          },
          "execution_count": 27
        },
        {
          "output_type": "display_data",
          "data": {
            "image/png": "[encoded data removed]",
            "text/plain": [
              "<Figure size 1440x360 with 3 Axes>"
            ]
          },
          "metadata": {
            "tags": []
          }
        }
      ]
    },
    {
      "metadata": {
        "id": "xDxTSo7oEEOB",
        "colab_type": "code",
        "colab": {
          "base_uri": "https://localhost:8080/",
          "height": 421
        },
        "outputId": "326e0c33-0949-483f-d01d-10f843fcdccd"
      },
      "cell_type": "code",
      "source": [
        "f, a = plt.subplots(1,3, figsize = (20,5))\n",
        "sb.distplot(df[df.ride_distance < 50000]['ride_distance'], ax = a[0]); a[0].set_title('Ride Distance')\n",
        "sb.distplot(df[df.ride_duration < 80]['ride_duration'], ax = a[1]); a[1].set_title('Ride duration')\n",
        "sb.distplot(df.avg_speed, ax = a[2]); a[2].set_title('Avg speed')"
      ],
      "execution_count": 31,
      "outputs": [
        {
          "output_type": "stream",
          "text": [
            "/usr/local/lib/python3.6/dist-packages/matplotlib/axes/_axes.py:6521: MatplotlibDeprecationWarning: \n",
            "The 'normed' kwarg was deprecated in Matplotlib 2.1 and will be removed in 3.1. Use 'density' instead.\n",
            "  alternative=\"'density'\", removal=\"3.1\")\n"
          ],
          "name": "stderr"
        },
        {
          "output_type": "execute_result",
          "data": {
            "text/plain": [
              "Text(0.5, 1.0, 'Avg speed')"
            ]
          },
          "metadata": {
            "tags": []
          },
          "execution_count": 31
        },
        {
          "output_type": "display_data",
          "data": {
            "image/png": "[encoded data removed]",
            "text/plain": [
              "<Figure size 1440x360 with 3 Axes>"
            ]
          },
          "metadata": {
            "tags": []
          }
        }
      ]
    },
    {
      "metadata": {
        "id": "MIMNnGakE0XP",
        "colab_type": "code",
        "colab": {
          "base_uri": "https://localhost:8080/",
          "height": 337
        },
        "outputId": "211a20b4-8a64-4b34-ec32-d74d68e78a2e"
      },
      "cell_type": "code",
      "source": [
        "f, a = plt.subplots(1,2, figsize = (20,5))\n",
        "a[0].scatter(df.ride_distance, df.ride_duration)\n",
        "a[1].scatter(df[df.ride_distance < 50000].ride_distance, df[df.ride_distance < 50000].ride_duration)"
      ],
      "execution_count": 34,
      "outputs": [
        {
          "output_type": "execute_result",
          "data": {
            "text/plain": [
              "<matplotlib.collections.PathCollection at 0x7f7bb56fcdd8>"
            ]
          },
          "metadata": {
            "tags": []
          },
          "execution_count": 34
        },
        {
          "output_type": "display_data",
          "data": {
            "image/png": "[encoded data removed]",
            "text/plain": [
              "<Figure size 1440x360 with 2 Axes>"
            ]
          },
          "metadata": {
            "tags": []
          }
        }
      ]
    },
    {
      "metadata": {
        "id": "ZsasHIqTFOpJ",
        "colab_type": "code",
        "colab": {
          "base_uri": "https://localhost:8080/",
          "height": 163
        },
        "outputId": "52bd0023-99c4-4c21-909e-c134d7154130"
      },
      "cell_type": "code",
      "source": [
        "plt.scatter((df.pickup_time-df.request_time), plt.ride_duration)"
      ],
      "execution_count": 1,
      "outputs": [
        {
          "output_type": "error",
          "ename": "NameError",
          "evalue": "ignored",
          "traceback": [
            "\u001b[0;31m---------------------------------------------------------------------------\u001b[0m",
            "\u001b[0;31mNameError\u001b[0m                                 Traceback (most recent call last)",
            "\u001b[0;32m<ipython-input-1-4ac4d44e3e44>\u001b[0m in \u001b[0;36m<module>\u001b[0;34m()\u001b[0m\n\u001b[0;32m----> 1\u001b[0;31m \u001b[0mplt\u001b[0m\u001b[0;34m.\u001b[0m\u001b[0mscatter\u001b[0m\u001b[0;34m(\u001b[0m\u001b[0;34m(\u001b[0m\u001b[0mdf\u001b[0m\u001b[0;34m.\u001b[0m\u001b[0mpickup_time\u001b[0m\u001b[0;34m-\u001b[0m\u001b[0mdf\u001b[0m\u001b[0;34m.\u001b[0m\u001b[0mrequest_time\u001b[0m\u001b[0;34m)\u001b[0m\u001b[0;34m,\u001b[0m \u001b[0mplt\u001b[0m\u001b[0;34m.\u001b[0m\u001b[0mride_duration\u001b[0m\u001b[0;34m)\u001b[0m\u001b[0;34m\u001b[0m\u001b[0;34m\u001b[0m\u001b[0m\n\u001b[0m",
            "\u001b[0;31mNameError\u001b[0m: name 'plt' is not defined"
          ]
        }
      ]
    },
    {
      "metadata": {
        "id": "Euax9kNVGEA7",
        "colab_type": "code",
        "colab": {}
      },
      "cell_type": "code",
      "source": [
        ""
      ],
      "execution_count": 0,
      "outputs": []
    }
  ]
}