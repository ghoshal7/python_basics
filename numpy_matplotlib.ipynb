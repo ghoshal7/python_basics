{
  "nbformat": 4,
  "nbformat_minor": 0,
  "metadata": {
    "colab": {
      "name": "numpy-matplotlib.ipynb",
      "version": "0.3.2",
      "provenance": [],
      "include_colab_link": true
    },
    "kernelspec": {
      "name": "python3",
      "display_name": "Python 3"
    }
  },
  "cells": [
    {
      "cell_type": "markdown",
      "metadata": {
        "id": "view-in-github",
        "colab_type": "text"
      },
      "source": [
        "<a href=\"https://colab.research.google.com/github/ghoshal7/python_basics/blob/master/numpy_matplotlib.ipynb\" target=\"_parent\"><img src=\"https://colab.research.google.com/assets/colab-badge.svg\" alt=\"Open In Colab\"/></a>"
      ]
    },
    {
      "metadata": {
        "id": "UFOTLh61zfsJ",
        "colab_type": "text"
      },
      "cell_type": "markdown",
      "source": [
        "# Numpy\n",
        "NumPy (short for Numerical Python) is a powerful package to do data science/ analytics. It provides an efficient interface to store and operate dense data buffers, and it could help us perform mathmatical operation on vectors, matrices and arrays."
      ]
    },
    {
      "metadata": {
        "id": "YEe1XxAZzYpR",
        "colab_type": "code",
        "outputId": "fe872c68-74cd-44a9-c1f3-522dd85c0976",
        "colab": {
          "base_uri": "https://localhost:8080/",
          "height": 34
        }
      },
      "cell_type": "code",
      "source": [
        "import numpy\n",
        "# We could also check the current NumPy version\n",
        "numpy.version.version"
      ],
      "execution_count": 0,
      "outputs": [
        {
          "output_type": "execute_result",
          "data": {
            "text/plain": [
              "'1.14.6'"
            ]
          },
          "metadata": {
            "tags": []
          },
          "execution_count": 2
        }
      ]
    },
    {
      "metadata": {
        "id": "WUTrn5uv0zQS",
        "colab_type": "code",
        "outputId": "abb39289-5a9a-41a5-8dcf-3818fc081ecb",
        "colab": {
          "base_uri": "https://localhost:8080/",
          "height": 34
        }
      },
      "cell_type": "code",
      "source": [
        "# We could also create an \"alias\" for our convience.\n",
        "# Here, we use \"np\" to stand for NumPy.\n",
        "import numpy as np\n",
        "\n",
        "# The same result.\n",
        "np.version.version"
      ],
      "execution_count": 0,
      "outputs": [
        {
          "output_type": "execute_result",
          "data": {
            "text/plain": [
              "'1.14.6'"
            ]
          },
          "metadata": {
            "tags": []
          },
          "execution_count": 3
        }
      ]
    },
    {
      "metadata": {
        "id": "hcz_bI8y022a",
        "colab_type": "code",
        "outputId": "54e2bde7-0b6b-486a-e65a-55a6ec8afda8",
        "colab": {
          "base_uri": "https://localhost:8080/",
          "height": 119
        }
      },
      "cell_type": "code",
      "source": [
        "# An example one-dimensional Numpy array. By default, the numbers are considered integers.\n",
        "a = np.array([1,2,3,4,5])\n",
        "print(a)\n",
        "\n",
        "print(np.ndim(a))\n",
        "\n",
        "print(np.size(a))\n",
        "\n",
        "print(np.shape(a))\n",
        "\n",
        "print(np.mean(a))\n",
        "\n",
        "print(np.std(a))"
      ],
      "execution_count": 0,
      "outputs": [
        {
          "output_type": "stream",
          "text": [
            "[1 2 3 4 5]\n",
            "1\n",
            "5\n",
            "(5,)\n",
            "3.0\n",
            "1.4142135623730951\n"
          ],
          "name": "stdout"
        }
      ]
    },
    {
      "metadata": {
        "id": "wk3RTaKB05me",
        "colab_type": "code",
        "outputId": "d41740d3-6738-46a5-da55-8da87576c873",
        "colab": {
          "base_uri": "https://localhost:8080/",
          "height": 51
        }
      },
      "cell_type": "code",
      "source": [
        "# Can instead specify that values are floats.\n",
        "a = np.array([1,2,3,4,5], dtype = np.float64)\n",
        "print(a)\n",
        "print(a.dtype)"
      ],
      "execution_count": 0,
      "outputs": [
        {
          "output_type": "stream",
          "text": [
            "[1. 2. 3. 4. 5.]\n",
            "float64\n"
          ],
          "name": "stdout"
        }
      ]
    },
    {
      "metadata": {
        "id": "Yo3597pf1GqR",
        "colab_type": "code",
        "outputId": "79097c4c-6da2-464c-9bfc-a44086bb469e",
        "colab": {
          "base_uri": "https://localhost:8080/",
          "height": 34
        }
      },
      "cell_type": "code",
      "source": [
        "\n",
        "# A two-dimensional Numpy array.\n",
        "b = np.array([[1,2,3,4,5],[6,7,8,9,10]])\n",
        "print(np.ndim(b))"
      ],
      "execution_count": 0,
      "outputs": [
        {
          "output_type": "stream",
          "text": [
            "2\n"
          ],
          "name": "stdout"
        }
      ]
    },
    {
      "metadata": {
        "id": "CjcaAI0z1NXF",
        "colab_type": "code",
        "outputId": "4db49283-69d9-483d-c694-22bc3c552cab",
        "colab": {
          "base_uri": "https://localhost:8080/",
          "height": 85
        }
      },
      "cell_type": "code",
      "source": [
        ""
      ],
      "execution_count": 0,
      "outputs": [
        {
          "output_type": "stream",
          "text": [
            "[[ 1  2  3  4  5]\n",
            " [ 6  7  8  9 10]]\n",
            "[[ 6  7  8  9 10]\n",
            " [ 1  2  3  4  5]]\n"
          ],
          "name": "stdout"
        }
      ]
    },
    {
      "metadata": {
        "id": "MW3nlVHa1hN5",
        "colab_type": "text"
      },
      "cell_type": "markdown",
      "source": [
        "## Useful function\n",
        "\n",
        "**1.   Reshaping**\n",
        "\n"
      ]
    },
    {
      "metadata": {
        "id": "ZdbQ5oE_2Ic5",
        "colab_type": "code",
        "outputId": "1e29db21-1b8f-4f3c-9aef-5e9956f0071f",
        "colab": {
          "base_uri": "https://localhost:8080/",
          "height": 85
        }
      },
      "cell_type": "code",
      "source": [
        "a = np.array(list(range(1,17))).reshape(4,4)\n",
        "print(a)"
      ],
      "execution_count": 0,
      "outputs": [
        {
          "output_type": "stream",
          "text": [
            "[[ 1  2  3  4]\n",
            " [ 5  6  7  8]\n",
            " [ 9 10 11 12]\n",
            " [13 14 15 16]]\n"
          ],
          "name": "stdout"
        }
      ]
    },
    {
      "metadata": {
        "id": "AhetSM_Z2mU8",
        "colab_type": "code",
        "outputId": "3340192b-8383-4a46-fd48-db27e5209b26",
        "colab": {
          "base_uri": "https://localhost:8080/",
          "height": 323
        }
      },
      "cell_type": "code",
      "source": [
        "print('Reverse order')\n",
        "print(a[::-1])\n",
        "\n",
        "print('Convert to 1D - flatten')\n",
        "print(a.reshape(-1))  # are they all same?\n",
        "print(a.flatten()) \n",
        "print(np.ravel(a))\n",
        "\n",
        "print('rectangular reshaping')\n",
        "print(a.reshape(2,8))\n",
        "\n",
        "print('increase ndim')\n",
        "print(a.reshape(2,2,4))"
      ],
      "execution_count": 0,
      "outputs": [
        {
          "output_type": "stream",
          "text": [
            "Reverse order\n",
            "[[13 14 15 16]\n",
            " [ 9 10 11 12]\n",
            " [ 5  6  7  8]\n",
            " [ 1  2  3  4]]\n",
            "Convert to 1D - flatten\n",
            "[ 1  2  3  4  5  6  7  8  9 10 11 12 13 14 15 16]\n",
            "[ 1  2  3  4  5  6  7  8  9 10 11 12 13 14 15 16]\n",
            "[ 1  2  3  4  5  6  7  8  9 10 11 12 13 14 15 16]\n",
            "rectangular reshaping\n",
            "[[ 1  2  3  4  5  6  7  8]\n",
            " [ 9 10 11 12 13 14 15 16]]\n",
            "increase ndim\n",
            "[[[ 1  2  3  4]\n",
            "  [ 5  6  7  8]]\n",
            "\n",
            " [[ 9 10 11 12]\n",
            "  [13 14 15 16]]]\n"
          ],
          "name": "stdout"
        }
      ]
    },
    {
      "metadata": {
        "id": "7ERcgFpn15pP",
        "colab_type": "text"
      },
      "cell_type": "markdown",
      "source": [
        "**2.   Range / Linspace**\n",
        "\n",
        "Create regularly-spaced numbers on an interval. \n",
        "\n",
        "'**linspace**'- to specify **number of values** \n",
        "\n",
        "'**arange**' - to specify the **step length**. \n",
        "\n",
        "Notice that 'linspace' includes the final endpoint while 'arange' does not.\n"
      ]
    },
    {
      "metadata": {
        "id": "CBbHki_f4W3f",
        "colab_type": "code",
        "outputId": "45815a21-1383-4de6-9b85-e5c3e8b45b06",
        "colab": {
          "base_uri": "https://localhost:8080/",
          "height": 51
        }
      },
      "cell_type": "code",
      "source": [
        "print(np.linspace(0, 10, 5))\n",
        "print(np.arange(0, 12.5, 2.5)) # does not include the end value"
      ],
      "execution_count": 0,
      "outputs": [
        {
          "output_type": "stream",
          "text": [
            "[ 0.   2.5  5.   7.5 10. ]\n",
            "[ 0.   2.5  5.   7.5 10. ]\n"
          ],
          "name": "stdout"
        }
      ]
    },
    {
      "metadata": {
        "id": "dVl3BSSp4-gj",
        "colab_type": "code",
        "outputId": "880e12bf-6abf-47ed-b919-031e132813c6",
        "colab": {
          "base_uri": "https://localhost:8080/",
          "height": 51
        }
      },
      "cell_type": "code",
      "source": [
        "print(list(range(0,12)))\n",
        "print(list(range(0,12,2)))"
      ],
      "execution_count": 0,
      "outputs": [
        {
          "output_type": "stream",
          "text": [
            "[0, 1, 2, 3, 4, 5, 6, 7, 8, 9, 10, 11]\n",
            "[0, 2, 4, 6, 8, 10]\n"
          ],
          "name": "stdout"
        }
      ]
    },
    {
      "metadata": {
        "id": "UoM4L9ry7kSA",
        "colab_type": "code",
        "outputId": "6dc4abd3-1b9c-45ae-8190-e9e0142200cb",
        "colab": {
          "base_uri": "https://localhost:8080/",
          "height": 51
        }
      },
      "cell_type": "code",
      "source": [
        "print(np.logspace(1,10, 5, base = 10)) # NOTE: linspace and logspace - by default prints 50 values"
      ],
      "execution_count": 0,
      "outputs": [
        {
          "output_type": "stream",
          "text": [
            "[1.00000000e+01 1.77827941e+03 3.16227766e+05 5.62341325e+07\n",
            " 1.00000000e+10]\n"
          ],
          "name": "stdout"
        }
      ]
    },
    {
      "metadata": {
        "id": "Pf6E9Iuz2CWj",
        "colab_type": "text"
      },
      "cell_type": "markdown",
      "source": [
        "\n",
        "\n",
        "**3. Operations**\n",
        "\n",
        "\n",
        "\n"
      ]
    },
    {
      "metadata": {
        "id": "idEp-Z8i49yc",
        "colab_type": "code",
        "outputId": "069ff740-690e-4483-f6fe-f37e0bb5ed0c",
        "colab": {
          "base_uri": "https://localhost:8080/",
          "height": 374
        }
      },
      "cell_type": "code",
      "source": [
        "a = np.arange(1,10).reshape(3,3)\n",
        "b = np.copy(a)\n",
        "print('SUM')\n",
        "c = a+b\n",
        "print(c)\n",
        "print('for same matrix using axis')\n",
        "print(c.sum(axis=1)) #elements of same row added\n",
        "print()\n",
        "print('ELEMENT WISE MULTIPLICATION')\n",
        "print(a*b)\n",
        "print()\n",
        "print('DOT PRODUCT') #remember : dot product of 2 matrix is matrix ==> n,p X p,m = n,m\n",
        "print(np.dot(a,b))\n",
        "print()\n",
        "print('TRANSPOSE')\n",
        "print(a.T)"
      ],
      "execution_count": 0,
      "outputs": [
        {
          "output_type": "stream",
          "text": [
            "SUM\n",
            "[[ 2  4  6]\n",
            " [ 8 10 12]\n",
            " [14 16 18]]\n",
            "for same matrix using axis\n",
            "[12 30 48]\n",
            "\n",
            "ELEMENT WISE MULTIPLICATION\n",
            "[[ 1  4  9]\n",
            " [16 25 36]\n",
            " [49 64 81]]\n",
            "\n",
            "DOT PRODUCT\n",
            "[[ 30  36  42]\n",
            " [ 66  81  96]\n",
            " [102 126 150]]\n",
            "\n",
            "TRANSPOSE\n",
            "[[1 4 7]\n",
            " [2 5 8]\n",
            " [3 6 9]]\n"
          ],
          "name": "stdout"
        }
      ]
    },
    {
      "metadata": {
        "id": "3rT8yQMQ6o4E",
        "colab_type": "text"
      },
      "cell_type": "markdown",
      "source": [
        "**4. Special matrix**"
      ]
    },
    {
      "metadata": {
        "id": "Iz3YgxG36nwD",
        "colab_type": "code",
        "outputId": "69289e1e-b88c-4937-c493-dbe13968944b",
        "colab": {
          "base_uri": "https://localhost:8080/",
          "height": 391
        }
      },
      "cell_type": "code",
      "source": [
        "print('ONES')\n",
        "print(np.ones((2,3)))\n",
        "print()\n",
        "print('ZEROS')\n",
        "print(np.zeros((3,3)))\n",
        "print()\n",
        "print('1 @ diag ==> EYE')\n",
        "print('k = 0')\n",
        "print(np.eye(M=3, N=3, k = 0))\n",
        "print('k = 1')\n",
        "print(np.eye(M=3, N=3, k = 1))\n",
        "print('k = -1')\n",
        "print(np.eye(M=5, N=3, k = -1))"
      ],
      "execution_count": 0,
      "outputs": [
        {
          "output_type": "stream",
          "text": [
            "ONES\n",
            "[[1. 1. 1.]\n",
            " [1. 1. 1.]]\n",
            "\n",
            "ZEROS\n",
            "[[0. 0. 0.]\n",
            " [0. 0. 0.]\n",
            " [0. 0. 0.]]\n",
            "\n",
            "1 @ diag ==> EYE\n",
            "k = 0\n",
            "[[1. 0. 0.]\n",
            " [0. 1. 0.]\n",
            " [0. 0. 1.]]\n",
            "k = 1\n",
            "[[0. 1. 0.]\n",
            " [0. 0. 1.]\n",
            " [0. 0. 0.]]\n",
            "k = -1\n",
            "[[0. 0. 0. 0. 0.]\n",
            " [1. 0. 0. 0. 0.]\n",
            " [0. 1. 0. 0. 0.]]\n"
          ],
          "name": "stdout"
        }
      ]
    },
    {
      "metadata": {
        "id": "SP3q94Hh8m0b",
        "colab_type": "text"
      },
      "cell_type": "markdown",
      "source": [
        "**5. Special functions**"
      ]
    },
    {
      "metadata": {
        "id": "GME5LHBF1R_u",
        "colab_type": "code",
        "outputId": "546ce731-e649-4454-9dca-6f8ba90f102a",
        "colab": {
          "base_uri": "https://localhost:8080/",
          "height": 34
        }
      },
      "cell_type": "code",
      "source": [
        "# exponential function\n",
        "x = np.array([1,2,3])\n",
        "print('sigmoid_x = ',1/(1+np.exp(-x)))"
      ],
      "execution_count": 0,
      "outputs": [
        {
          "output_type": "stream",
          "text": [
            "sigmoid_x =  [0.73105858 0.88079708 0.95257413]\n"
          ],
          "name": "stdout"
        }
      ]
    },
    {
      "metadata": {
        "id": "lSCaEtXw86zH",
        "colab_type": "code",
        "outputId": "2bd14035-59be-4111-ee52-020c27f5f953",
        "colab": {
          "base_uri": "https://localhost:8080/",
          "height": 68
        }
      },
      "cell_type": "code",
      "source": [
        "# normalizing -- x/||x||\n",
        "x = np.array([[1,2,3],[4,5,6]])\n",
        "mod_x = np.linalg.norm(x)\n",
        "print(x/mod_x, '\\n', 'mod value = ', mod_x)"
      ],
      "execution_count": 0,
      "outputs": [
        {
          "output_type": "stream",
          "text": [
            "[[0.10482848 0.20965697 0.31448545]\n",
            " [0.41931393 0.52414242 0.6289709 ]] \n",
            " mod value =  9.539392014169456\n"
          ],
          "name": "stdout"
        }
      ]
    },
    {
      "metadata": {
        "id": "dJBJ77Ev_N_D",
        "colab_type": "text"
      },
      "cell_type": "markdown",
      "source": [
        "## Vectorization with numpy"
      ]
    },
    {
      "metadata": {
        "id": "ctfJts7O-oKa",
        "colab_type": "code",
        "outputId": "8d2e4f2a-639c-4987-8f96-436df1469cf8",
        "colab": {
          "base_uri": "https://localhost:8080/",
          "height": 51
        }
      },
      "cell_type": "code",
      "source": [
        "import time\n",
        "\n",
        "x1 = [9, 2, 5, 0, 0, 7, 5, 0, 0, 0, 9, 2, 5, 0, 0]\n",
        "x2 = [9, 2, 2, 9, 0, 9, 2, 5, 0, 0, 9, 2, 5, 0, 0]\n",
        "\n",
        "### CLASSIC OUTER PRODUCT IMPLEMENTATION ###  Note: Outer product = xx' (which gives a matrix, by col X row)\n",
        "tic = time.process_time()\n",
        "outer = np.zeros((len(x1),len(x2))) # we create a len(x1)*len(x2) matrix with only zeros\n",
        "for i in range(len(x1)):\n",
        "    for j in range(len(x2)):\n",
        "        outer[i,j] = x1[i]*x2[j]\n",
        "toc = time.process_time()\n",
        "#print (\"outer = \" + str(outer))\n",
        "print('--- Computation time = '+str(1000*(toc - tic)) + \"ms\")\n",
        "      \n",
        "### VECTORIZED OUTER PRODUCT ###\n",
        "tic = time.process_time()\n",
        "outer = np.outer(x1,x2)\n",
        "toc = time.process_time()\n",
        "#print (\"outer = \" + str(outer))\n",
        "print('--- Computation time = ' + str(1000*(toc - tic)) + \"ms\")"
      ],
      "execution_count": 0,
      "outputs": [
        {
          "output_type": "stream",
          "text": [
            "--- Computation time = 0.2717210000002801ms\n",
            "--- Computation time = 0.1454009999997119ms\n"
          ],
          "name": "stdout"
        }
      ]
    },
    {
      "metadata": {
        "id": "N4nsOBuq_fdI",
        "colab_type": "code",
        "colab": {}
      },
      "cell_type": "code",
      "source": [
        ""
      ],
      "execution_count": 0,
      "outputs": []
    }
  ]
}