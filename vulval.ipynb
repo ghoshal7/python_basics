{
  "nbformat": 4,
  "nbformat_minor": 0,
  "metadata": {
    "colab": {
      "name": "Untitled8.ipynb",
      "version": "0.3.2",
      "provenance": [],
      "include_colab_link": true
    },
    "kernelspec": {
      "name": "python3",
      "display_name": "Python 3"
    }
  },
  "cells": [
    {
      "cell_type": "markdown",
      "metadata": {
        "id": "view-in-github",
        "colab_type": "text"
      },
      "source": [
        "<a href=\"https://colab.research.google.com/github/ghoshal7/python_basics/blob/master/vulval.ipynb\" target=\"_parent\"><img src=\"https://colab.research.google.com/assets/colab-badge.svg\" alt=\"Open In Colab\"/></a>"
      ]
    },
    {
      "metadata": {
        "id": "Ll-L000lARWp",
        "colab_type": "text"
      },
      "cell_type": "markdown",
      "source": [
        "# LIST"
      ]
    },
    {
      "metadata": {
        "id": "aM6xWcPeAGzq",
        "colab_type": "code",
        "colab": {
          "base_uri": "https://localhost:8080/",
          "height": 68
        },
        "outputId": "9ff5eb98-7d48-4016-ac1b-6e1ef9485f14"
      },
      "cell_type": "code",
      "source": [
        "# Concating and Adding \n",
        "a = [1,2]; b = [3,4]; print(a+b)\n",
        "print([x + y for x, y in zip(a,b)])\n",
        "\n",
        "# for list_of_lists\n",
        "lists_of_lists = [[1, 2, 3], [4, 5, 6]]\n",
        "[sum(x) for x in zip(*lists_of_lists)]\n",
        "\n",
        "## indexing - reversing\n",
        "import numpy as np\n",
        "c = np.arange(1,20)\n",
        "print(c[::-1])"
      ],
      "execution_count": 3,
      "outputs": [
        {
          "output_type": "stream",
          "text": [
            "[1, 2, 3, 4]\n",
            "[4, 6]\n",
            "[19 18 17 16 15 14 13 12 11 10  9  8  7  6  5  4  3  2  1]\n"
          ],
          "name": "stdout"
        }
      ]
    },
    {
      "metadata": {
        "id": "8U0dRXPbAs-B",
        "colab_type": "text"
      },
      "cell_type": "markdown",
      "source": [
        "# Wrapper function"
      ]
    },
    {
      "metadata": {
        "id": "5UyAF5YXGtWZ",
        "colab_type": "code",
        "colab": {
          "base_uri": "https://localhost:8080/",
          "height": 34
        },
        "outputId": "46503b51-827c-468e-b7b7-be60bb772269"
      },
      "cell_type": "code",
      "source": [
        "def cyl_vol(r):\n",
        "  pi = 3.14\n",
        "  def get_vol(h):\n",
        "    return pi*r**2*h\n",
        "  return get_vol\n",
        "\n",
        "r = 10; h = 20\n",
        "\n",
        "cyl_vol(r)"
      ],
      "execution_count": 5,
      "outputs": [
        {
          "output_type": "execute_result",
          "data": {
            "text/plain": [
              "<function __main__.cyl_vol.<locals>.get_vol>"
            ]
          },
          "metadata": {
            "tags": []
          },
          "execution_count": 5
        }
      ]
    },
    {
      "metadata": {
        "id": "RFloRzCYPAFX",
        "colab_type": "code",
        "colab": {
          "base_uri": "https://localhost:8080/",
          "height": 34
        },
        "outputId": "a5ab4386-71e0-4986-a67c-7129df0a725b"
      },
      "cell_type": "code",
      "source": [
        "find_vol = cyl_vol(10) # Now, note: find_vol is a function of h. cyl_vol calls a func, which is get_vol, a func of h\n",
        "find_vol(20) # input h -- WOW!"
      ],
      "execution_count": 7,
      "outputs": [
        {
          "output_type": "execute_result",
          "data": {
            "text/plain": [
              "6280.0"
            ]
          },
          "metadata": {
            "tags": []
          },
          "execution_count": 7
        }
      ]
    },
    {
      "metadata": {
        "id": "VkXNvXE0Aay7",
        "colab_type": "code",
        "colab": {
          "base_uri": "https://localhost:8080/",
          "height": 34
        },
        "outputId": "a93ddffe-071e-4621-f568-d3f6d11c45e0"
      },
      "cell_type": "code",
      "source": [
        "# ?? don't know how it works\n",
        "\n",
        "from string import punctuation\n",
        "\n",
        "def pipeline_wrapper(func):\n",
        "  \n",
        "  def to_lower(x):\n",
        "    return x.lower()\n",
        "  \n",
        "  def remove_punc(x):\n",
        "    for p in punctuation:\n",
        "      x = x.replace(p, '')\n",
        "    return x\n",
        "  \n",
        "  def wrapper(*args, **kwargs):\n",
        "    x = to_lower(*args, **kwargs)\n",
        "    x = remove_punc(x)\n",
        "    return func(x)\n",
        "  return wrapper\n",
        "\n",
        "@pipeline_wrapper\n",
        "def tokenize_whitespace(inText):\n",
        "  return inText.split()\n",
        "\n",
        "s = \"String. With; Punctuation?\"\n",
        "\n",
        "print(tokenize_whitespace(s))"
      ],
      "execution_count": 4,
      "outputs": [
        {
          "output_type": "stream",
          "text": [
            "['string', 'with', 'punctuation']\n"
          ],
          "name": "stdout"
        }
      ]
    },
    {
      "metadata": {
        "id": "YhWVa_kqAa5g",
        "colab_type": "code",
        "colab": {}
      },
      "cell_type": "code",
      "source": [
        ""
      ],
      "execution_count": 0,
      "outputs": []
    }
  ]
}