{
  "nbformat": 4,
  "nbformat_minor": 0,
  "metadata": {
    "colab": {
      "name": "MLE_fb.ipynb",
      "version": "0.3.2",
      "provenance": [],
      "collapsed_sections": [],
      "include_colab_link": true
    },
    "kernelspec": {
      "name": "python3",
      "display_name": "Python 3"
    }
  },
  "cells": [
    {
      "cell_type": "markdown",
      "metadata": {
        "id": "view-in-github",
        "colab_type": "text"
      },
      "source": [
        "<a href=\"https://colab.research.google.com/github/ghoshal7/python_basics/blob/master/MLE_fb.ipynb\" target=\"_parent\"><img src=\"https://colab.research.google.com/assets/colab-badge.svg\" alt=\"Open In Colab\"/></a>"
      ]
    },
    {
      "metadata": {
        "id": "YrISInBpTh5d",
        "colab_type": "text"
      },
      "cell_type": "markdown",
      "source": [
        "# ML Engineer"
      ]
    },
    {
      "metadata": {
        "id": "_311-8YRPdyh",
        "colab_type": "text"
      },
      "cell_type": "markdown",
      "source": [
        "1. coding BFS\n",
        "2. coding Binary Tree\n",
        "3. Machine Learning design  \n",
        "\n",
        "program algorithms/data structures such as arrays, trees, quick sort, radix sort, heaps, hashes"
      ]
    },
    {
      "metadata": {
        "id": "RgnpG2RcQGRg",
        "colab_type": "text"
      },
      "cell_type": "markdown",
      "source": [
        "**1. A code for dot product of two sparse vectors.**"
      ]
    },
    {
      "metadata": {
        "id": "thxX-5-IQKXn",
        "colab_type": "code",
        "colab": {}
      },
      "cell_type": "code",
      "source": [
        "# glassdoor\n",
        "def sparse_dot_product(vec1, vec2):\n",
        "    \"\"\"\n",
        "    input: vec1 and vec2 list of tuples\n",
        "           representing sparse vectors\n",
        "\n",
        "    outut: the dot product of the two vectors.\n",
        "    \"\"\"\n",
        "    len1 = len(vec1)\n",
        "    len2 = len(vec2)\n",
        "    if (len1==0) or (len2==0):\n",
        "      raise ValueError('One of the vectors is empty!')\n",
        "\n",
        "    pointer1 = 0\n",
        "    pointer2 = 0\n",
        "    product = 0\n",
        "\n",
        "    while (pointer1 & len1) and (pointer2 & len2):\n",
        "      if vec1[pointer1][0] == vec2[pointer2][0]:\n",
        "        product += (vec1[pointer1][1] * vec2[pointer2][1])\n",
        "        pointer1 += 1\n",
        "        pointer2 += 1\n",
        "      elif vec1[pointer1][0] & vec2[pointer2][0]:\n",
        "        pointer1 += 1\n",
        "      elif vec2[pointer2][0] & vec1[pointer1][0]:\n",
        "        pointer2 += 1\n",
        "\n",
        "      return product"
      ],
      "execution_count": 0,
      "outputs": []
    },
    {
      "metadata": {
        "id": "b_uENHjOL6ZU",
        "colab_type": "text"
      },
      "cell_type": "markdown",
      "source": [
        "**2. Given two sparse matrices, how would you compute the dot product?  **"
      ]
    },
    {
      "metadata": {
        "id": "2GbaOiw9MDDr",
        "colab_type": "code",
        "colab": {}
      },
      "cell_type": "code",
      "source": [
        ""
      ],
      "execution_count": 0,
      "outputs": []
    },
    {
      "metadata": {
        "id": "lXmaIo6UNIkK",
        "colab_type": "text"
      },
      "cell_type": "markdown",
      "source": [
        "**2.  implement a trie tree.**"
      ]
    },
    {
      "metadata": {
        "id": "a-5TtQwJNQqa",
        "colab_type": "code",
        "colab": {}
      },
      "cell_type": "code",
      "source": [
        ""
      ],
      "execution_count": 0,
      "outputs": []
    },
    {
      "metadata": {
        "id": "cglVLYRmNRg7",
        "colab_type": "text"
      },
      "cell_type": "markdown",
      "source": [
        "**3. Given 2 sets of words [\"cat\", \"bat\", \"mat\"]\n",
        "    ---> ordering  = [c,b,a,t] \n",
        "    --->  Return TRUE when the word is words[] are sorted in lexicographic order as in ordering**"
      ]
    },
    {
      "metadata": {
        "id": "a-7-Y5aENnk6",
        "colab_type": "code",
        "colab": {}
      },
      "cell_type": "code",
      "source": [
        ""
      ],
      "execution_count": 0,
      "outputs": []
    },
    {
      "metadata": {
        "id": "lUtMpOTRO-94",
        "colab_type": "text"
      },
      "cell_type": "markdown",
      "source": [
        "**4. given a binary image, count the number of 4-directional connected components.**"
      ]
    },
    {
      "metadata": {
        "id": "4NKQRi6GPSq4",
        "colab_type": "code",
        "colab": {}
      },
      "cell_type": "code",
      "source": [
        ""
      ],
      "execution_count": 0,
      "outputs": []
    },
    {
      "metadata": {
        "id": "v013p-ZEPTPA",
        "colab_type": "text"
      },
      "cell_type": "markdown",
      "source": [
        "**5. Given an infinite chessboard, find shortest distance for a  knight to move from position A to position B**"
      ]
    },
    {
      "metadata": {
        "id": "2d605th4PVWo",
        "colab_type": "code",
        "colab": {}
      },
      "cell_type": "code",
      "source": [
        "# bfs"
      ],
      "execution_count": 0,
      "outputs": []
    },
    {
      "metadata": {
        "id": "VQ3gbZvOPqrw",
        "colab_type": "text"
      },
      "cell_type": "markdown",
      "source": [
        "**6. Serialize and de-serialize a binary tree**"
      ]
    },
    {
      "metadata": {
        "id": "zDrf6lERPWap",
        "colab_type": "code",
        "colab": {}
      },
      "cell_type": "code",
      "source": [
        ""
      ],
      "execution_count": 0,
      "outputs": []
    },
    {
      "metadata": {
        "id": "CB2SwgRzPx5o",
        "colab_type": "text"
      },
      "cell_type": "markdown",
      "source": [
        "**7. Given a binary tree, write a function to find if this tree is a search binary tree or not.**"
      ]
    },
    {
      "metadata": {
        "id": "apIR6CDlPz9I",
        "colab_type": "code",
        "colab": {}
      },
      "cell_type": "code",
      "source": [
        ""
      ],
      "execution_count": 0,
      "outputs": []
    },
    {
      "metadata": {
        "id": "aTINWxLJP0ao",
        "colab_type": "text"
      },
      "cell_type": "markdown",
      "source": [
        "**8. Given an array, write a function that returns a samples from the array**"
      ]
    },
    {
      "metadata": {
        "id": "kzQJmLRLP5r3",
        "colab_type": "code",
        "colab": {}
      },
      "cell_type": "code",
      "source": [
        ""
      ],
      "execution_count": 0,
      "outputs": []
    },
    {
      "metadata": {
        "id": "CbN6d8czRjUW",
        "colab_type": "text"
      },
      "cell_type": "markdown",
      "source": [
        "# Data Scientist"
      ]
    },
    {
      "metadata": {
        "id": "WYIvlKlwTwCF",
        "colab_type": "text"
      },
      "cell_type": "markdown",
      "source": [
        "**1. The interviewer gave multiple prompts for which you were required to generate syntax. For example: open file, merge file, identify cases, merge files, recode, descriptives, basic computations.**"
      ]
    },
    {
      "metadata": {
        "id": "33WPfo2IRYxG",
        "colab_type": "code",
        "colab": {}
      },
      "cell_type": "code",
      "source": [
        ""
      ],
      "execution_count": 0,
      "outputs": []
    },
    {
      "metadata": {
        "id": "258G6bAMUqjU",
        "colab_type": "text"
      },
      "cell_type": "markdown",
      "source": [
        "**2. how could graph theory be used to verify users' information?.**"
      ]
    },
    {
      "metadata": {
        "id": "hSzYFwPAV1bi",
        "colab_type": "code",
        "colab": {}
      },
      "cell_type": "code",
      "source": [
        ""
      ],
      "execution_count": 0,
      "outputs": []
    },
    {
      "metadata": {
        "id": "gvAXiMFoV16q",
        "colab_type": "text"
      },
      "cell_type": "markdown",
      "source": [
        "**3. SQL queries with basic group by, self joins and inner queries. The problem could be solved by analytical queries  **"
      ]
    },
    {
      "metadata": {
        "id": "FGGLxfZaWBAh",
        "colab_type": "code",
        "colab": {}
      },
      "cell_type": "code",
      "source": [
        ""
      ],
      "execution_count": 0,
      "outputs": []
    },
    {
      "metadata": {
        "id": "IlFqhO9LWSxD",
        "colab_type": "text"
      },
      "cell_type": "markdown",
      "source": [
        "**4. ?? SQL. And why the number of likes are increasing?**"
      ]
    },
    {
      "metadata": {
        "id": "6x1UINm1WWOR",
        "colab_type": "code",
        "colab": {}
      },
      "cell_type": "code",
      "source": [
        ""
      ],
      "execution_count": 0,
      "outputs": []
    },
    {
      "metadata": {
        "id": "NIxMnOaFWW5Z",
        "colab_type": "text"
      },
      "cell_type": "markdown",
      "source": [
        "**5. i) There's a game where you are given two fair six-sided dice and asked to roll. If the sum of the values on the dice equals seven, then you win 21 dollars. However, you must pay $5 to play each time you roll both dice. Do you play this game?**\n",
        "\n",
        "\n",
        "ii) What is the probability of making money from this game?**\n",
        "\n",
        "**We at Facebook would like to develop a way to estimate the month and day of people's birthdays, regardless of whether people give us that information directly. What methods would you propose, and data would you use, to help with that task?**"
      ]
    },
    {
      "metadata": {
        "id": "njL5KF8PW1Ex",
        "colab_type": "code",
        "colab": {}
      },
      "cell_type": "code",
      "source": [
        "'''\n",
        "For the last part ---\n",
        "\n",
        "\n",
        "A.  Do we have some initial data for month and day of specifice regional inhabitant? If we have then we can measue mean and sd of the sample and estimate that 66.7% people will fall into first sd, \n",
        "95% ppl will be in second sd. Then we can focus on a specific area (say in +-1 sd) of the normal curve and make similarity score based on what they like (music, books etc) and cluster those users. \n",
        "Those clustered users will be centered around a month/day because they share same interest.\n",
        "\n",
        "B. In addition of tracking wishes posts on his/her wall, we can use:\n",
        "- events (s)he does with his closest friends or coworkers\n",
        "- when and how often does (s)he go on vacation\n",
        "- based on his/her likes, we can use zodiac signs info and also use similarity with other people whose bdays are known already\n",
        "\n",
        "C. I wonder if the answer is simpler --look at when people on their wall congratulate them.\n",
        "\n",
        "D. - People do NOT wish to post birthday\n",
        "        - Monitor activity trends\n",
        "            - People, especially not frequently interacting friends sending messages about happy birthday\n",
        "            - Posting pictures about birthday\n",
        "            - family members post about birthday are trustworthy\n",
        "    - People forget to update their birthday on profile\n",
        "        - Design testing\n",
        "            - Birthday wishes function: design a box of birthday wishes and friends can anonymously send gifts\n",
        "            - Questionnaires: send friendly reminder\n",
        "            - Import from other sites\n",
        "            \n",
        "\n",
        "\n",
        "'''"
      ],
      "execution_count": 0,
      "outputs": []
    },
    {
      "metadata": {
        "id": "8mlfu4lTX85I",
        "colab_type": "text"
      },
      "cell_type": "markdown",
      "source": [
        "**6. Given an list A of objects and another list B which is identical to A except that one element is removed, find that removed element. **"
      ]
    },
    {
      "metadata": {
        "id": "1sWpZw_LX-Bg",
        "colab_type": "code",
        "colab": {}
      },
      "cell_type": "code",
      "source": [
        ""
      ],
      "execution_count": 0,
      "outputs": []
    },
    {
      "metadata": {
        "id": "sLtFjIxsYIMY",
        "colab_type": "text"
      },
      "cell_type": "markdown",
      "source": [
        "**7.  using data to analyze missing/wrong information  **"
      ]
    },
    {
      "metadata": {
        "id": "BPk9UNnUYKKA",
        "colab_type": "code",
        "colab": {}
      },
      "cell_type": "code",
      "source": [
        ""
      ],
      "execution_count": 0,
      "outputs": []
    },
    {
      "metadata": {
        "id": "-kGo0M2HZ9CO",
        "colab_type": "text"
      },
      "cell_type": "markdown",
      "source": [
        "# Others"
      ]
    },
    {
      "metadata": {
        "id": "Ye5KEeA4Z_KG",
        "colab_type": "text"
      },
      "cell_type": "markdown",
      "source": [
        "**Q2 How would you run an A/B test if you cannot guarantee that the two groups are randomized? **"
      ]
    },
    {
      "metadata": {
        "id": "f35NlQ_mZ-U9",
        "colab_type": "code",
        "colab": {}
      },
      "cell_type": "code",
      "source": [
        ""
      ],
      "execution_count": 0,
      "outputs": []
    }
  ]
}