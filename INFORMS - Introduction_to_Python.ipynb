{
  "nbformat": 4,
  "nbformat_minor": 0,
  "metadata": {
    "colab": {
      "name": "Introduction to Python.ipynb",
      "version": "0.3.2",
      "provenance": [],
      "collapsed_sections": [
        "ZfIUASDhh5SA",
        "jDhICRb9iTLZ",
        "Avy70yakjlGO",
        "35a8Os2pju5_",
        "Jy3PhAAklcLD",
        "gZnt6Md2nRnb",
        "r5hJuk7enW58"
      ],
      "include_colab_link": true
    },
    "kernelspec": {
      "name": "python3",
      "display_name": "Python 3"
    }
  },
  "cells": [
    {
      "cell_type": "markdown",
      "metadata": {
        "id": "view-in-github",
        "colab_type": "text"
      },
      "source": [
        "<a href=\"https://colab.research.google.com/github/ghoshal7/python_basics/blob/master/INFORMS%20-%20Introduction_to_Python.ipynb\" target=\"_parent\"><img src=\"https://colab.research.google.com/assets/colab-badge.svg\" alt=\"Open In Colab\"/></a>"
      ]
    },
    {
      "metadata": {
        "id": "Qj5DHvoHhzu8",
        "colab_type": "text"
      },
      "cell_type": "markdown",
      "source": [
        "# 1. Introduction\n",
        "\n",
        "* 5 main data types : Numbers, String, List, Tuple, Dictionary "
      ]
    },
    {
      "metadata": {
        "id": "ZfIUASDhh5SA",
        "colab_type": "text"
      },
      "cell_type": "markdown",
      "source": [
        "## 1.1. Numbers\n",
        "\n",
        "* 7 basic arithmatic operators : +, -, *, /, %, //, **"
      ]
    },
    {
      "metadata": {
        "id": "4mHeYQf1j5UA",
        "colab_type": "code",
        "colab": {}
      },
      "cell_type": "code",
      "source": [
        ""
      ],
      "execution_count": 0,
      "outputs": []
    },
    {
      "metadata": {
        "id": "P2EMRgZPj5Wk",
        "colab_type": "code",
        "colab": {}
      },
      "cell_type": "code",
      "source": [
        ""
      ],
      "execution_count": 0,
      "outputs": []
    },
    {
      "metadata": {
        "id": "y-KUioUYg8FW",
        "colab_type": "code",
        "colab": {}
      },
      "cell_type": "code",
      "source": [
        "print('7 + 3 = ', 7+3)\n",
        "print('7 - 3 = ', 7-3)\n",
        "print('7 * 3 = ', 7*3)\n",
        "print('7 / 3 = ', 7/3)\n",
        "print('7 % 3 = ', 7%3)\n",
        "print('7 // 3 = ', 7//3)\n",
        "print('7 ** 3 = ', 7**3)\n",
        "\n",
        "# Order matters : PEMDAS\n",
        "# print('1+2-3*4 is different from (1+2-3)*4 ,\\n i.e.', \n",
        "#      '1+2-3*4 is', 1+2-3*4, 'but, (1+2-3)*4 is', (1+2-3)*4)"
      ],
      "execution_count": 0,
      "outputs": []
    },
    {
      "metadata": {
        "id": "bEPBdyhSiSxh",
        "colab_type": "code",
        "colab": {}
      },
      "cell_type": "code",
      "source": [
        ""
      ],
      "execution_count": 0,
      "outputs": []
    },
    {
      "metadata": {
        "id": "1b7ghyAkiTDy",
        "colab_type": "code",
        "colab": {}
      },
      "cell_type": "code",
      "source": [
        ""
      ],
      "execution_count": 0,
      "outputs": []
    },
    {
      "metadata": {
        "id": "jDhICRb9iTLZ",
        "colab_type": "text"
      },
      "cell_type": "markdown",
      "source": [
        "## 1.2. Strings\n",
        "\n",
        "*  ' . ' / \" . \" / ' ' '  ...  ' ' ''\n",
        "*  \\  ,   '\\n' ,    '\\t'\n",
        "* string operations\n",
        "* regular expression"
      ]
    },
    {
      "metadata": {
        "id": "Enxc_bp6j6yQ",
        "colab_type": "code",
        "colab": {}
      },
      "cell_type": "code",
      "source": [
        ""
      ],
      "execution_count": 0,
      "outputs": []
    },
    {
      "metadata": {
        "id": "1KRncXFEj60p",
        "colab_type": "code",
        "colab": {}
      },
      "cell_type": "code",
      "source": [
        ""
      ],
      "execution_count": 0,
      "outputs": []
    },
    {
      "metadata": {
        "id": "xAdE2YtPid4c",
        "colab_type": "code",
        "colab": {}
      },
      "cell_type": "code",
      "source": [
        "\n",
        "string_0 = 'Howdy! Aggie rocks.'\n",
        "\n",
        "string_1 = '''Howdy!\n",
        "Aggie rocks.'''\n",
        "\n",
        "print(string_0)\n",
        "print(string_1)\n",
        "\n",
        "#print('\\n')\n",
        "\n",
        "#string_2 = string_0*5\n",
        "#print(string_2)"
      ],
      "execution_count": 0,
      "outputs": []
    },
    {
      "metadata": {
        "id": "klHt24AgivZz",
        "colab_type": "code",
        "colab": {
          "base_uri": "https://localhost:8080/",
          "height": 34
        },
        "outputId": "c58fb3a4-358e-4d0f-9733-af4abce1439c"
      },
      "cell_type": "code",
      "source": [
        "print('abcd \\t efgh')"
      ],
      "execution_count": 2,
      "outputs": [
        {
          "output_type": "stream",
          "text": [
            "abcd \t efgh\n"
          ],
          "name": "stdout"
        }
      ]
    },
    {
      "metadata": {
        "id": "nFSSEUe4i0dM",
        "colab_type": "code",
        "colab": {}
      },
      "cell_type": "code",
      "source": [
        ""
      ],
      "execution_count": 0,
      "outputs": []
    },
    {
      "metadata": {
        "id": "ffLFR6kCjWPM",
        "colab_type": "code",
        "colab": {}
      },
      "cell_type": "code",
      "source": [
        ""
      ],
      "execution_count": 0,
      "outputs": []
    },
    {
      "metadata": {
        "id": "Avy70yakjlGO",
        "colab_type": "text"
      },
      "cell_type": "markdown",
      "source": [
        "## 1.3. List"
      ]
    },
    {
      "metadata": {
        "id": "ePQ36t-hj8np",
        "colab_type": "code",
        "colab": {}
      },
      "cell_type": "code",
      "source": [
        ""
      ],
      "execution_count": 0,
      "outputs": []
    },
    {
      "metadata": {
        "id": "h_ye8sWsj8p_",
        "colab_type": "code",
        "colab": {}
      },
      "cell_type": "code",
      "source": [
        ""
      ],
      "execution_count": 0,
      "outputs": []
    },
    {
      "metadata": {
        "id": "3ReDxzr9jr8Z",
        "colab_type": "code",
        "colab": {}
      },
      "cell_type": "code",
      "source": [
        "skills = ['R', 'Python', 'Tableau', 'SQL']\n",
        "print(skills)\n",
        "\n",
        "print('first training :', skills[0])\n",
        "\n",
        "order = [1,2,3,4]\n",
        "dac = [skills, order]   # dac = data_analytics_club\n",
        "print(dac)\n",
        "\n",
        "single_list = skills+order\n",
        "print(single_list)\n",
        "\n",
        "skills.append('MATLAB')\n",
        "print(skills)\n",
        "\n",
        "skills.insert(0, 'Data Analytics')\n",
        "print(skills)\n",
        "\n",
        "\n",
        "# skills.remove('SQL')\n",
        "# print(skills)\n",
        "# del skills[4]"
      ],
      "execution_count": 0,
      "outputs": []
    },
    {
      "metadata": {
        "id": "5XrmQgMqjupO",
        "colab_type": "code",
        "colab": {}
      },
      "cell_type": "code",
      "source": [
        ""
      ],
      "execution_count": 0,
      "outputs": []
    },
    {
      "metadata": {
        "id": "BcK9K0Rpjurm",
        "colab_type": "code",
        "colab": {}
      },
      "cell_type": "code",
      "source": [
        ""
      ],
      "execution_count": 0,
      "outputs": []
    },
    {
      "metadata": {
        "id": "35a8Os2pju5_",
        "colab_type": "text"
      },
      "cell_type": "markdown",
      "source": [
        "## 1.4. Tuple"
      ]
    },
    {
      "metadata": {
        "id": "CajY53RMkKzf",
        "colab_type": "code",
        "colab": {}
      },
      "cell_type": "code",
      "source": [
        "# Similar to list, but unlike LIST, we CANNOT change a Tuple once it's created\n",
        "skills_t0 = 'R', 'Python', 'Tableau', 'SQL'\n",
        "skills_t1 = (1,2,3,4)\n",
        "dac_t = skills_t0 + skills_t1\n",
        "\n",
        "print (skills[2])\n",
        "print (skills_t1[2])\n",
        "print (dac_t)\n",
        "\n",
        "#ERROR when try to change a tuple\n",
        "skills[0] = 'X'\n",
        "\n",
        "#-------------\n",
        "#Convertion\n",
        "new_list = list(dac_t)\n",
        "print(type(new_list))\n",
        "\n",
        "new_tupple = tuple(dac)\n",
        "print(type(new_tupple))"
      ],
      "execution_count": 0,
      "outputs": []
    },
    {
      "metadata": {
        "id": "i-mAOXstkMbQ",
        "colab_type": "code",
        "colab": {}
      },
      "cell_type": "code",
      "source": [
        ""
      ],
      "execution_count": 0,
      "outputs": []
    },
    {
      "metadata": {
        "id": "G7s7C5uGkMvn",
        "colab_type": "code",
        "colab": {}
      },
      "cell_type": "code",
      "source": [
        ""
      ],
      "execution_count": 0,
      "outputs": []
    },
    {
      "metadata": {
        "id": "eN-K8tcykNCo",
        "colab_type": "text"
      },
      "cell_type": "markdown",
      "source": [
        "## 1.5. Dictionary"
      ]
    },
    {
      "metadata": {
        "id": "jnXZ0-J6kU54",
        "colab_type": "code",
        "colab": {}
      },
      "cell_type": "code",
      "source": [
        "US_currency_0 = {'Dollar':'100 cents', 'Quarters':'25 cents', 'Dime':'10 cents', 'Penny':'5 cents'}\n",
        "US_currency_1 = {'Dollar':100, 'Quarters':25, 'Dime':10, 'Penny':5}\n",
        "\n",
        "print('US_currency_0 = ', US_currency_0)\n",
        "print ('US_currency_1 = ', US_currency_1)\n",
        "\n",
        "US_currency_1 ['EUR'] = 1.23\n",
        "print('US_currency_1 = ', US_currency_1)\n",
        "\n",
        "print(US_currency_0['Dollar'])\n",
        "print(US_currency_1['Quarters'])\n",
        "\n",
        "print(US_currency_1.get('Penny'))\n",
        "\n",
        "US_currency_0['Dime'] = 10\n",
        "\n",
        "print('US_currency_0 = ', US_currency_0)\n",
        "\n",
        "print('KEYS = ', US_currency_0.keys(),'||', 'data type = ', type(US_currency_1.keys()))\n",
        "print('VALUES = ', US_currency_0.values(),'||', 'data type = ', type(US_currency_1.keys()))\n",
        "print('ITEMS = ', US_currency_0.items(),'||', 'data type = ', type(US_currency_1.keys()))\n",
        "\n",
        "# ----------------\n",
        "\n",
        "# word = ['One', 'Two', 'Three', 'Four', 'Five']\n",
        "# numbers = [1, 2, 3, 4, 5]\n",
        "# d = zip(word,numbers)\n",
        "# print (dict(d))"
      ],
      "execution_count": 0,
      "outputs": []
    },
    {
      "metadata": {
        "id": "4xr1T4sZkXrB",
        "colab_type": "code",
        "colab": {}
      },
      "cell_type": "code",
      "source": [
        ""
      ],
      "execution_count": 0,
      "outputs": []
    },
    {
      "metadata": {
        "id": "x5SAjMwpkXtS",
        "colab_type": "code",
        "colab": {}
      },
      "cell_type": "code",
      "source": [
        ""
      ],
      "execution_count": 0,
      "outputs": []
    },
    {
      "metadata": {
        "id": "4jJIHtJEkg2x",
        "colab_type": "text"
      },
      "cell_type": "markdown",
      "source": [
        "# 2. Variables"
      ]
    },
    {
      "metadata": {
        "id": "vr8vAhKCksjx",
        "colab_type": "code",
        "colab": {}
      },
      "cell_type": "code",
      "source": [
        ""
      ],
      "execution_count": 0,
      "outputs": []
    },
    {
      "metadata": {
        "id": "3376VL4okuSj",
        "colab_type": "text"
      },
      "cell_type": "markdown",
      "source": [
        "# 3. Built in function\n",
        "\n",
        "**General** \n",
        "* print, type, input, int, str \\\n",
        "\n",
        "**Arithmatic**\n",
        "* round, abs, complex, divmod, isinstance \n",
        "\n",
        "**List, Tuple**\n",
        "* len, min, max, list, count, append, extend, index, insert, pop, del, reverse, sort/sorted, find,\\  \n",
        "\n",
        "**String**\n",
        "* capitalize, upper, lower, endswith, center, join, split, replace, strip \\ \n",
        "\n",
        "**Dictionary** \n",
        "* zip, values, keys, items"
      ]
    },
    {
      "metadata": {
        "id": "Jy3PhAAklcLD",
        "colab_type": "text"
      },
      "cell_type": "markdown",
      "source": [
        "## 3.1. General"
      ]
    },
    {
      "metadata": {
        "id": "5NK9WDUalMOi",
        "colab_type": "code",
        "colab": {}
      },
      "cell_type": "code",
      "source": [
        "# print\n",
        "a = 'string'\n",
        "b = 1000\n",
        "c = [1,2,3,4,5]\n",
        "d = (1,2,3,4,5)\n",
        "e = {'Texas' : 'USA', 'Kolkata' : 'India'}\n",
        "\n",
        "print(a)\n",
        "print(b)\n",
        "print(c)\n",
        "print(d)\n",
        "print(e)"
      ],
      "execution_count": 0,
      "outputs": []
    },
    {
      "metadata": {
        "id": "tKpawg50lj89",
        "colab_type": "code",
        "colab": {}
      },
      "cell_type": "code",
      "source": [
        "#type\n",
        "print(type(a), type(b), type(c), type(d), type(e))\n",
        "type(b)"
      ],
      "execution_count": 0,
      "outputs": []
    },
    {
      "metadata": {
        "id": "W4vBqTV_l-Mn",
        "colab_type": "code",
        "colab": {}
      },
      "cell_type": "code",
      "source": [
        "#input\n",
        "x = input('Enter any input here =')\n",
        "print(x)\n",
        "\n",
        "#error\n",
        "#print(x+5)"
      ],
      "execution_count": 0,
      "outputs": []
    },
    {
      "metadata": {
        "id": "hYQtHy5vmD7o",
        "colab_type": "code",
        "colab": {}
      },
      "cell_type": "code",
      "source": [
        "# input\n",
        "x = input('Enter any input here =')\n",
        "x = int(x)\n",
        "print(x+8)"
      ],
      "execution_count": 0,
      "outputs": []
    },
    {
      "metadata": {
        "id": "euFqW5HwmD-5",
        "colab_type": "code",
        "colab": {}
      },
      "cell_type": "code",
      "source": [
        "# string\n",
        "x = input('Enter value for x = ')\n",
        "y = x+ str(1)\n",
        "print(y)"
      ],
      "execution_count": 0,
      "outputs": []
    },
    {
      "metadata": {
        "id": "EMyc3dr1mQTf",
        "colab_type": "code",
        "colab": {}
      },
      "cell_type": "code",
      "source": [
        ""
      ],
      "execution_count": 0,
      "outputs": []
    },
    {
      "metadata": {
        "id": "dNNjM8iBmQWX",
        "colab_type": "code",
        "colab": {}
      },
      "cell_type": "code",
      "source": [
        ""
      ],
      "execution_count": 0,
      "outputs": []
    },
    {
      "metadata": {
        "id": "i2awm1uelkVc",
        "colab_type": "text"
      },
      "cell_type": "markdown",
      "source": [
        "## 3.2. Arithmatic"
      ]
    },
    {
      "metadata": {
        "id": "p8qRUH37lnL0",
        "colab_type": "code",
        "colab": {}
      },
      "cell_type": "code",
      "source": [
        "# round( ) function rounds the input value to a specified number of places or to the nearest integer.\n",
        "\n",
        "print (round(5.6231)) \n",
        "print (round(5.6231, 2))"
      ],
      "execution_count": 0,
      "outputs": []
    },
    {
      "metadata": {
        "id": "5riIoFLOmbrY",
        "colab_type": "code",
        "colab": {}
      },
      "cell_type": "code",
      "source": [
        "# complex( ) is used to define a complex number and abs( ) outputs the absolute value of the same.\n",
        "\n",
        "#abs\n",
        "print(abs(-5))\n",
        "\n",
        "c =complex('5+2j')\n",
        "print (abs(c))"
      ],
      "execution_count": 0,
      "outputs": []
    },
    {
      "metadata": {
        "id": "D-PlJP2lmbtv",
        "colab_type": "code",
        "colab": {}
      },
      "cell_type": "code",
      "source": [
        "# divmod(x,y) outputs the quotient and the remainder in a tuple in the format (quotient, remainder).\n",
        "\n",
        "# divmod\n",
        "divmod(9,2)\n",
        "\n",
        "# type(divmod(9,2))\n",
        "#[q,r] = divmod(9,2)"
      ],
      "execution_count": 0,
      "outputs": []
    },
    {
      "metadata": {
        "id": "ZmNlUt2Dmbwq",
        "colab_type": "code",
        "colab": {}
      },
      "cell_type": "code",
      "source": [
        "# isinstance( ) returns True, if the first argument is an instance of that class. Multiple classes can also be checked at once.\n",
        "\n",
        "print (isinstance(1, int))\n",
        "print (isinstance(1.0,int))\n",
        "print (isinstance(1.0,(int,float)))\n",
        "\n",
        "#print(isinstance([1,2], (int)))\n",
        "#print(isinstance([1,2][0], (int)))"
      ],
      "execution_count": 0,
      "outputs": []
    },
    {
      "metadata": {
        "id": "MWue6p7jloJV",
        "colab_type": "code",
        "colab": {}
      },
      "cell_type": "code",
      "source": [
        ""
      ],
      "execution_count": 0,
      "outputs": []
    },
    {
      "metadata": {
        "id": "pGvOjpk_loPs",
        "colab_type": "text"
      },
      "cell_type": "markdown",
      "source": [
        "## 3.3. List , Tuple"
      ]
    },
    {
      "metadata": {
        "id": "qcMozDBrlrUb",
        "colab_type": "code",
        "colab": {}
      },
      "cell_type": "code",
      "source": [
        "# LIST\n",
        "\n",
        "fruits = ['apple', 'orange', 'pineapple', 'mangoes', 'banana']\n",
        "nums = [13,24,85,44,11,7,8,2,56,47]"
      ],
      "execution_count": 0,
      "outputs": []
    },
    {
      "metadata": {
        "id": "gZnt6Md2nRnb",
        "colab_type": "text"
      },
      "cell_type": "markdown",
      "source": [
        "### 3.3.1. len( ) is used to find the length of the list or the number of elements in a list."
      ]
    },
    {
      "metadata": {
        "id": "v8oJQadEls2V",
        "colab_type": "code",
        "colab": {}
      },
      "cell_type": "code",
      "source": [
        "\n",
        "print(len(fruits),',',len(nums))"
      ],
      "execution_count": 0,
      "outputs": []
    },
    {
      "metadata": {
        "id": "r5hJuk7enW58",
        "colab_type": "text"
      },
      "cell_type": "markdown",
      "source": [
        "### 3.3.2. min( ) and max( ) gives the minimum and maximum value in the list, if the list consists of all integer elements."
      ]
    },
    {
      "metadata": {
        "id": "QTE0oKdonXFc",
        "colab_type": "code",
        "colab": {}
      },
      "cell_type": "code",
      "source": [
        "print(min(nums), ',', max(nums))"
      ],
      "execution_count": 0,
      "outputs": []
    },
    {
      "metadata": {
        "id": "-x6kmQDGnl5d",
        "colab_type": "text"
      },
      "cell_type": "markdown",
      "source": [
        "* In a list with elements as string, max( ) and min( ) is applicable. max( ) would return a string element whose <a href = 'https://en.wikipedia.org/wiki/ASCII'> ASCII value </a> is the highest and the lowest when min( ) is used."
      ]
    },
    {
      "metadata": {
        "id": "AeyPMcQ9nrQd",
        "colab_type": "code",
        "colab": {}
      },
      "cell_type": "code",
      "source": [
        "print(min(fruits),',', max(fruits))"
      ],
      "execution_count": 0,
      "outputs": []
    },
    {
      "metadata": {
        "id": "gzk1lXZ4nXac",
        "colab_type": "text"
      },
      "cell_type": "markdown",
      "source": [
        "* Note that only the first index of each element is considered each time and if they value is the same then second index considered so on and so forth."
      ]
    },
    {
      "metadata": {
        "id": "VOCZWyeGnXiL",
        "colab_type": "code",
        "colab": {}
      },
      "cell_type": "code",
      "source": [
        "\n",
        "print(min(words, key = len), ',', max(words, key = len))"
      ],
      "execution_count": 0,
      "outputs": []
    },
    {
      "metadata": {
        "id": "uK1VSLEroL6l",
        "colab_type": "text"
      },
      "cell_type": "markdown",
      "source": [
        "* But what if numbers are declared as strings?"
      ]
    },
    {
      "metadata": {
        "id": "lUfPgpSQoOSl",
        "colab_type": "code",
        "colab": {}
      },
      "cell_type": "code",
      "source": [
        "nlist = ['1','94','93','1000']\n",
        "print (max(nlist),',',min(nlist))"
      ],
      "execution_count": 0,
      "outputs": []
    },
    {
      "metadata": {
        "id": "mMFdPiEtnXoT",
        "colab_type": "text"
      },
      "cell_type": "markdown",
      "source": [
        "### 3.3.3. list() function converts A string can be converted into a list of characters"
      ]
    },
    {
      "metadata": {
        "id": "qi1pNoeGnXu4",
        "colab_type": "code",
        "colab": {}
      },
      "cell_type": "code",
      "source": [
        "list('Howdy!')\n",
        "\n",
        "# # also converts tuples into list\n",
        "# tu = (1,2,3)\n",
        "# li = list(tu)"
      ],
      "execution_count": 0,
      "outputs": []
    },
    {
      "metadata": {
        "id": "GiJhT-dSnX0O",
        "colab_type": "text"
      },
      "cell_type": "markdown",
      "source": [
        "### 3.3.4. count( ) is used to count the number of a particular element that is present in the list."
      ]
    },
    {
      "metadata": {
        "id": "gQ3blbDznX6v",
        "colab_type": "code",
        "colab": {}
      },
      "cell_type": "code",
      "source": [
        "num = [1,2,3,2,3,23,1,3,1,3,111,3,211,321,1]\n",
        "num.count(1)"
      ],
      "execution_count": 0,
      "outputs": []
    },
    {
      "metadata": {
        "id": "7mT4FCWHnYAE",
        "colab_type": "text"
      },
      "cell_type": "markdown",
      "source": [
        "### 3.3.5. append( ) function can also be used to add a entire list at the end. Observe that the resultant list becomes a nested list."
      ]
    },
    {
      "metadata": {
        "id": "HCpEdsMBnYG6",
        "colab_type": "code",
        "colab": {}
      },
      "cell_type": "code",
      "source": [
        "lst1 = [5,4,2,8]\n",
        "num.append(lst1)\n",
        "print(num)"
      ],
      "execution_count": 0,
      "outputs": []
    },
    {
      "metadata": {
        "id": "q9WQUDezpOVA",
        "colab_type": "text"
      },
      "cell_type": "markdown",
      "source": [
        "- But if nested list is not what is desired then extend( ) function can be used."
      ]
    },
    {
      "metadata": {
        "id": "yiqOatu5pOlw",
        "colab_type": "code",
        "colab": {}
      },
      "cell_type": "code",
      "source": [
        "num = [1,2,3,2,3,23,1,3,1,3,111,3,211,321,1]\n",
        "num.extend(lst1)\n",
        "print(num)"
      ],
      "execution_count": 0,
      "outputs": []
    },
    {
      "metadata": {
        "id": "VuHEAAUopoEr",
        "colab_type": "text"
      },
      "cell_type": "markdown",
      "source": [
        "### 3.3.6. index( ) is used to find the index value of a particular element. Note that if there are multiple elements of the same value then the first index value of that element is returned."
      ]
    },
    {
      "metadata": {
        "id": "0GaQvWQLpoPr",
        "colab_type": "code",
        "colab": {}
      },
      "cell_type": "code",
      "source": [
        "num.index(3)"
      ],
      "execution_count": 0,
      "outputs": []
    },
    {
      "metadata": {
        "id": "ZYChv09np-37",
        "colab_type": "text"
      },
      "cell_type": "markdown",
      "source": [
        "### 3.3.7. insert(x,y) inserts y at x position."
      ]
    },
    {
      "metadata": {
        "id": "s1jIX8Dwp-9S",
        "colab_type": "code",
        "colab": {}
      },
      "cell_type": "code",
      "source": [
        "num.insert(5, 'name')\n",
        "print (num)"
      ],
      "execution_count": 0,
      "outputs": []
    },
    {
      "metadata": {
        "id": "g9IluAbVrjRA",
        "colab_type": "text"
      },
      "cell_type": "markdown",
      "source": [
        "- insert(x,y) inserts but does not replace element. If you want to replace the element with another element you simply assign the value to that particular index"
      ]
    },
    {
      "metadata": {
        "id": "HzlDmhF-rqfh",
        "colab_type": "code",
        "colab": {}
      },
      "cell_type": "code",
      "source": [
        "num[5] = 'boo'\n",
        "num"
      ],
      "execution_count": 0,
      "outputs": []
    },
    {
      "metadata": {
        "id": "a8VM3VzPrvy6",
        "colab_type": "text"
      },
      "cell_type": "markdown",
      "source": [
        "### 3.3.8. pop( ) function return the last element in the list. This is similar to the operation of a stack. Hence it wouldn't be wrong to tell that lists can be used as a stack."
      ]
    },
    {
      "metadata": {
        "id": "MrZl0cXrrv9R",
        "colab_type": "code",
        "colab": {}
      },
      "cell_type": "code",
      "source": [
        "print(num.pop())\n",
        "print(num)\n",
        "print(num.pop(0))\n",
        "print(num)"
      ],
      "execution_count": 0,
      "outputs": []
    },
    {
      "metadata": {
        "id": "iobfYcUcrwVq",
        "colab_type": "text"
      },
      "cell_type": "markdown",
      "source": [
        "- pop( ) is used to remove element based on it's index value which can be assigned to a variable. One can also remove element by specifying the element itself using the remove( ) function"
      ]
    },
    {
      "metadata": {
        "id": "ZioeI10xrwd7",
        "colab_type": "code",
        "colab": {}
      },
      "cell_type": "code",
      "source": [
        "num.remove('boo')\n",
        "print(num)"
      ],
      "execution_count": 0,
      "outputs": []
    },
    {
      "metadata": {
        "id": "eBP6tKmHsEXK",
        "colab_type": "text"
      },
      "cell_type": "markdown",
      "source": [
        "- Alternative to remove function but with using index value is del"
      ]
    },
    {
      "metadata": {
        "id": "qRcIh3FxsEe7",
        "colab_type": "code",
        "colab": {}
      },
      "cell_type": "code",
      "source": [
        "del num[0]\n",
        "print(num)"
      ],
      "execution_count": 0,
      "outputs": []
    },
    {
      "metadata": {
        "id": "B5mzNjSasJAk",
        "colab_type": "text"
      },
      "cell_type": "markdown",
      "source": [
        "### 3.3.9. reverse() function reverses the entire elements present in the list"
      ]
    },
    {
      "metadata": {
        "id": "4h00nge3sJa6",
        "colab_type": "code",
        "colab": {}
      },
      "cell_type": "code",
      "source": [
        "num.reverse()\n",
        "print(num)"
      ],
      "execution_count": 0,
      "outputs": []
    },
    {
      "metadata": {
        "id": "obWpa4kTsJlb",
        "colab_type": "text"
      },
      "cell_type": "markdown",
      "source": [
        "### 3.3.10. Python offers built in operation sort( ) to arrange the elements in ascending order."
      ]
    },
    {
      "metadata": {
        "id": "ipnRZpLIsJt8",
        "colab_type": "code",
        "colab": {}
      },
      "cell_type": "code",
      "source": [
        "num.sort()\n",
        "print(num)\n",
        "print(sorted(num))"
      ],
      "execution_count": 0,
      "outputs": []
    },
    {
      "metadata": {
        "id": "Y5110s4UsJ0a",
        "colab_type": "text"
      },
      "cell_type": "markdown",
      "source": [
        "- For descending order , By default the reverse condition will be False for reverse. Hence changing it to True would arrange the elements in descending order."
      ]
    },
    {
      "metadata": {
        "id": "QRtObFdBsJ6S",
        "colab_type": "code",
        "colab": {}
      },
      "cell_type": "code",
      "source": [
        "num.sort(reverse = True)\n",
        "print(num)"
      ],
      "execution_count": 0,
      "outputs": []
    },
    {
      "metadata": {
        "id": "gKH1MKaKls8O",
        "colab_type": "text"
      },
      "cell_type": "markdown",
      "source": [
        "## 3.4. Strings"
      ]
    },
    {
      "metadata": {
        "id": "KkSd30MPlvTV",
        "colab_type": "code",
        "colab": {}
      },
      "cell_type": "code",
      "source": [
        ""
      ],
      "execution_count": 0,
      "outputs": []
    },
    {
      "metadata": {
        "id": "RNeMfz2ClwDW",
        "colab_type": "code",
        "colab": {}
      },
      "cell_type": "code",
      "source": [
        ""
      ],
      "execution_count": 0,
      "outputs": []
    },
    {
      "metadata": {
        "id": "Pue1oAxClwa-",
        "colab_type": "text"
      },
      "cell_type": "markdown",
      "source": [
        "## 3.5. Dictionary"
      ]
    },
    {
      "metadata": {
        "id": "u4JA_jO3l2bk",
        "colab_type": "code",
        "colab": {}
      },
      "cell_type": "code",
      "source": [
        ""
      ],
      "execution_count": 0,
      "outputs": []
    },
    {
      "metadata": {
        "id": "aI5WBriYl3DX",
        "colab_type": "code",
        "colab": {}
      },
      "cell_type": "code",
      "source": [
        ""
      ],
      "execution_count": 0,
      "outputs": []
    },
    {
      "metadata": {
        "id": "5rD1LKjYl3R_",
        "colab_type": "text"
      },
      "cell_type": "markdown",
      "source": [
        ""
      ]
    }
  ]
}