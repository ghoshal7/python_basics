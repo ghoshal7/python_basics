{
  "nbformat": 4,
  "nbformat_minor": 0,
  "metadata": {
    "colab": {
      "name": "Introduction to Python.ipynb",
      "version": "0.3.2",
      "provenance": [],
      "collapsed_sections": [
        "ZfIUASDhh5SA",
        "jDhICRb9iTLZ",
        "Avy70yakjlGO",
        "35a8Os2pju5_",
        "Jy3PhAAklcLD",
        "gZnt6Md2nRnb",
        "r5hJuk7enW58"
      ],
      "include_colab_link": true
    },
    "kernelspec": {
      "name": "python3",
      "display_name": "Python 3"
    }
  },
  "cells": [
    {
      "cell_type": "markdown",
      "metadata": {
        "id": "view-in-github",
        "colab_type": "text"
      },
      "source": [
        "<a href=\"https://colab.research.google.com/github/ghoshal7/python_basics/blob/master/INFORMS%20-%20Introduction_to_Python.ipynb\" target=\"_parent\"><img src=\"https://colab.research.google.com/assets/colab-badge.svg\" alt=\"Open In Colab\"/></a>"
      ]
    },
    {
      "metadata": {
        "id": "Qj5DHvoHhzu8",
        "colab_type": "text"
      },
      "cell_type": "markdown",
      "source": [
        "# 1. Introduction\n",
        "\n",
        "* 5 main data types : Numbers, String, List, Tuple, Dictionary "
      ]
    },
    {
      "metadata": {
        "id": "ZfIUASDhh5SA",
        "colab_type": "text"
      },
      "cell_type": "markdown",
      "source": [
        "## 1.1. Numbers\n",
        "\n",
        "* 7 basic arithmatic operators : +, -, *, /, %, //, **"
      ]
    },
    {
      "metadata": {
        "id": "4mHeYQf1j5UA",
        "colab_type": "code",
        "colab": {}
      },
      "cell_type": "code",
      "source": [
        ""
      ],
      "execution_count": 0,
      "outputs": []
    },
    {
      "metadata": {
        "id": "P2EMRgZPj5Wk",
        "colab_type": "code",
        "colab": {}
      },
      "cell_type": "code",
      "source": [
        ""
      ],
      "execution_count": 0,
      "outputs": []
    },
    {
      "metadata": {
        "id": "y-KUioUYg8FW",
        "colab_type": "code",
        "colab": {}
      },
      "cell_type": "code",
      "source": [
        "print('7 + 3 = ', 7+3)\n",
        "print('7 - 3 = ', 7-3)\n",
        "print('7 * 3 = ', 7*3)\n",
        "print('7 / 3 = ', 7/3)\n",
        "print('7 % 3 = ', 7%3)\n",
        "print('7 // 3 = ', 7//3)\n",
        "print('7 ** 3 = ', 7**3)\n",
        "\n",
        "# Order matters : PEMDAS\n",
        "# print('1+2-3*4 is different from (1+2-3)*4 ,\\n i.e.', \n",
        "#      '1+2-3*4 is', 1+2-3*4, 'but, (1+2-3)*4 is', (1+2-3)*4)"
      ],
      "execution_count": 0,
      "outputs": []
    },
    {
      "metadata": {
        "id": "bEPBdyhSiSxh",
        "colab_type": "code",
        "colab": {}
      },
      "cell_type": "code",
      "source": [
        ""
      ],
      "execution_count": 0,
      "outputs": []
    },
    {
      "metadata": {
        "id": "1b7ghyAkiTDy",
        "colab_type": "code",
        "colab": {}
      },
      "cell_type": "code",
      "source": [
        ""
      ],
      "execution_count": 0,
      "outputs": []
    },
    {
      "metadata": {
        "id": "jDhICRb9iTLZ",
        "colab_type": "text"
      },
      "cell_type": "markdown",
      "source": [
        "## 1.2. Strings\n",
        "\n",
        "*  ' . ' / \" . \" / ' ' '  ...  ' ' ''\n",
        "*  \\  ,   '\\n' ,    '\\t'\n",
        "* string operations"
      ]
    },
    {
      "metadata": {
        "id": "Enxc_bp6j6yQ",
        "colab_type": "code",
        "colab": {}
      },
      "cell_type": "code",
      "source": [
        ""
      ],
      "execution_count": 0,
      "outputs": []
    },
    {
      "metadata": {
        "id": "1KRncXFEj60p",
        "colab_type": "code",
        "colab": {}
      },
      "cell_type": "code",
      "source": [
        ""
      ],
      "execution_count": 0,
      "outputs": []
    },
    {
      "metadata": {
        "id": "xAdE2YtPid4c",
        "colab_type": "code",
        "colab": {}
      },
      "cell_type": "code",
      "source": [
        "\n",
        "string_0 = 'Howdy! Aggie rocks.'\n",
        "\n",
        "string_1 = '''Howdy!\n",
        "Aggie rocks.'''\n",
        "\n",
        "print(string_0)\n",
        "print(string_1)\n",
        "\n",
        "#print('\\n')\n",
        "\n",
        "#string_2 = string_0*5\n",
        "#print(string_2)"
      ],
      "execution_count": 0,
      "outputs": []
    },
    {
      "metadata": {
        "id": "klHt24AgivZz",
        "colab_type": "code",
        "outputId": "c58fb3a4-358e-4d0f-9733-af4abce1439c",
        "colab": {
          "base_uri": "https://localhost:8080/",
          "height": 34
        }
      },
      "cell_type": "code",
      "source": [
        "print('abcd \\t efgh')"
      ],
      "execution_count": 0,
      "outputs": [
        {
          "output_type": "stream",
          "text": [
            "abcd \t efgh\n"
          ],
          "name": "stdout"
        }
      ]
    },
    {
      "metadata": {
        "id": "ffLFR6kCjWPM",
        "colab_type": "code",
        "colab": {}
      },
      "cell_type": "code",
      "source": [
        ""
      ],
      "execution_count": 0,
      "outputs": []
    },
    {
      "metadata": {
        "id": "Avy70yakjlGO",
        "colab_type": "text"
      },
      "cell_type": "markdown",
      "source": [
        "## 1.3. List"
      ]
    },
    {
      "metadata": {
        "id": "ePQ36t-hj8np",
        "colab_type": "code",
        "colab": {}
      },
      "cell_type": "code",
      "source": [
        ""
      ],
      "execution_count": 0,
      "outputs": []
    },
    {
      "metadata": {
        "id": "h_ye8sWsj8p_",
        "colab_type": "code",
        "colab": {}
      },
      "cell_type": "code",
      "source": [
        ""
      ],
      "execution_count": 0,
      "outputs": []
    },
    {
      "metadata": {
        "id": "3ReDxzr9jr8Z",
        "colab_type": "code",
        "colab": {}
      },
      "cell_type": "code",
      "source": [
        "skills = ['R', 'Python', 'Tableau', 'SQL']\n",
        "print(skills)\n",
        "\n",
        "print('first training :', skills[0])\n",
        "\n",
        "order = [1,2,3,4]\n",
        "dac = [skills, order]   # dac = data_analytics_club\n",
        "print(dac)\n",
        "\n",
        "single_list = skills+order\n",
        "print(single_list)\n",
        "\n",
        "skills.append('MATLAB')\n",
        "print(skills)\n",
        "\n",
        "skills.insert(0, 'Data Analytics')\n",
        "print(skills)\n",
        "\n",
        "\n",
        "# skills.remove('SQL')\n",
        "# print(skills)\n",
        "# del skills[4]"
      ],
      "execution_count": 0,
      "outputs": []
    },
    {
      "metadata": {
        "id": "5XrmQgMqjupO",
        "colab_type": "code",
        "colab": {}
      },
      "cell_type": "code",
      "source": [
        ""
      ],
      "execution_count": 0,
      "outputs": []
    },
    {
      "metadata": {
        "id": "BcK9K0Rpjurm",
        "colab_type": "code",
        "colab": {}
      },
      "cell_type": "code",
      "source": [
        ""
      ],
      "execution_count": 0,
      "outputs": []
    },
    {
      "metadata": {
        "id": "35a8Os2pju5_",
        "colab_type": "text"
      },
      "cell_type": "markdown",
      "source": [
        "## 1.4. Tuple"
      ]
    },
    {
      "metadata": {
        "id": "CajY53RMkKzf",
        "colab_type": "code",
        "colab": {}
      },
      "cell_type": "code",
      "source": [
        "# Similar to list, but unlike LIST, we CANNOT change a Tuple once it's created\n",
        "skills_t0 = 'R', 'Python', 'Tableau', 'SQL'\n",
        "skills_t1 = (1,2,3,4)\n",
        "dac_t = skills_t0 + skills_t1\n",
        "\n",
        "print (skills[2])\n",
        "print (skills_t1[2])\n",
        "print (dac_t)\n",
        "\n",
        "#ERROR when try to change a tuple\n",
        "skills[0] = 'X'\n",
        "\n",
        "#-------------\n",
        "#Convertion\n",
        "new_list = list(dac_t)\n",
        "print(type(new_list))\n",
        "\n",
        "new_tupple = tuple(dac)\n",
        "print(type(new_tupple))"
      ],
      "execution_count": 0,
      "outputs": []
    },
    {
      "metadata": {
        "id": "i-mAOXstkMbQ",
        "colab_type": "code",
        "colab": {}
      },
      "cell_type": "code",
      "source": [
        ""
      ],
      "execution_count": 0,
      "outputs": []
    },
    {
      "metadata": {
        "id": "G7s7C5uGkMvn",
        "colab_type": "code",
        "colab": {}
      },
      "cell_type": "code",
      "source": [
        ""
      ],
      "execution_count": 0,
      "outputs": []
    },
    {
      "metadata": {
        "id": "eN-K8tcykNCo",
        "colab_type": "text"
      },
      "cell_type": "markdown",
      "source": [
        "## 1.5. Dictionary"
      ]
    },
    {
      "metadata": {
        "id": "jnXZ0-J6kU54",
        "colab_type": "code",
        "colab": {}
      },
      "cell_type": "code",
      "source": [
        "US_currency_0 = {'Dollar':'100 cents', 'Quarters':'25 cents', 'Dime':'10 cents', 'Penny':'5 cents'}\n",
        "US_currency_1 = {'Dollar':100, 'Quarters':25, 'Dime':10, 'Penny':5}\n",
        "\n",
        "print('US_currency_0 = ', US_currency_0)\n",
        "print ('US_currency_1 = ', US_currency_1)\n",
        "\n",
        "US_currency_1 ['EUR'] = 1.23\n",
        "print('US_currency_1 = ', US_currency_1)\n",
        "\n",
        "print(US_currency_0['Dollar'])\n",
        "print(US_currency_1['Quarters'])\n",
        "\n",
        "print(US_currency_1.get('Penny'))\n",
        "\n",
        "US_currency_0['Dime'] = 10\n",
        "\n",
        "print('US_currency_0 = ', US_currency_0)\n",
        "\n",
        "print('KEYS = ', US_currency_0.keys(),'||', 'data type = ', type(US_currency_1.keys()))\n",
        "print('VALUES = ', US_currency_0.values(),'||', 'data type = ', type(US_currency_1.keys()))\n",
        "print('ITEMS = ', US_currency_0.items(),'||', 'data type = ', type(US_currency_1.keys()))\n",
        "\n",
        "# ----------------\n",
        "\n",
        "# word = ['One', 'Two', 'Three', 'Four', 'Five']\n",
        "# numbers = [1, 2, 3, 4, 5]\n",
        "# d = zip(word,numbers)\n",
        "# print (dict(d))"
      ],
      "execution_count": 0,
      "outputs": []
    },
    {
      "metadata": {
        "id": "4xr1T4sZkXrB",
        "colab_type": "code",
        "colab": {}
      },
      "cell_type": "code",
      "source": [
        ""
      ],
      "execution_count": 0,
      "outputs": []
    },
    {
      "metadata": {
        "id": "x5SAjMwpkXtS",
        "colab_type": "code",
        "colab": {}
      },
      "cell_type": "code",
      "source": [
        ""
      ],
      "execution_count": 0,
      "outputs": []
    },
    {
      "metadata": {
        "id": "4jJIHtJEkg2x",
        "colab_type": "text"
      },
      "cell_type": "markdown",
      "source": [
        "# 2. Variables\n",
        "\n",
        "* We use \"=\" to assign a value to a variable \\ \n",
        "* We can refer to the value with its name. #### Type of variables:\n",
        "\n",
        "**numerical:**  \n",
        "* int (integer): a number without a fractional part.\n",
        "* float (floating): a number that has both an integer and fractional part.\n",
        "**non-numerical:**\n",
        "* str (string): a type of data to represent text.\n",
        "* bool (boolean): a type to represent logical values. (Can only be \"True\" or \"False.\" Note that the first letter must be capitalized.) "
      ]
    },
    {
      "metadata": {
        "id": "vr8vAhKCksjx",
        "colab_type": "code",
        "colab": {}
      },
      "cell_type": "code",
      "source": [
        "# ASSIGNMENT\n",
        "x = 5\n",
        "y = x+10\n",
        "print('x = ', x,';', 'y = ', y)\n",
        "#----------\n",
        "# TYPES\n",
        "Z = 100  #integer\n",
        "X = 13.7\n",
        "Y = 'Data Analytics Club is awesome!'\n",
        "W = True\n",
        "\n",
        "print(type(Z), type(X), type(Y), type(W))\n",
        "#----------\n",
        "# BOOLEAN\n",
        "z = 10\n",
        "x = 10.0\n",
        "print(z == x)\n",
        "print(z == y)"
      ],
      "execution_count": 0,
      "outputs": []
    },
    {
      "metadata": {
        "id": "3376VL4okuSj",
        "colab_type": "text"
      },
      "cell_type": "markdown",
      "source": [
        "# 3. Built in function\n",
        "\n",
        "**General** \n",
        "* print, type, input, int, str \\\n",
        "\n",
        "**Arithmatic**\n",
        "* round, abs, complex, divmod, isinstance \n",
        "\n",
        "**List, Tuple**\n",
        "* len, min, max, list, count, append, extend, index, insert, pop, del, reverse, sort/sorted, find,\\  \n",
        "\n",
        "**String**\n",
        "* capitalize, upper, lower, endswith, center, join, split, replace, strip \\ \n",
        "\n",
        "**Dictionary** \n",
        "* zip, values, keys, items"
      ]
    },
    {
      "metadata": {
        "id": "Jy3PhAAklcLD",
        "colab_type": "text"
      },
      "cell_type": "markdown",
      "source": [
        "## 3.1. General"
      ]
    },
    {
      "metadata": {
        "id": "5NK9WDUalMOi",
        "colab_type": "code",
        "colab": {}
      },
      "cell_type": "code",
      "source": [
        "# print\n",
        "a = 'string'\n",
        "b = 1000\n",
        "c = [1,2,3,4,5]\n",
        "d = (1,2,3,4,5)\n",
        "e = {'Texas' : 'USA', 'Kolkata' : 'India'}\n",
        "\n",
        "print(a)\n",
        "print(b)\n",
        "print(c)\n",
        "print(d)\n",
        "print(e)"
      ],
      "execution_count": 0,
      "outputs": []
    },
    {
      "metadata": {
        "id": "tKpawg50lj89",
        "colab_type": "code",
        "colab": {}
      },
      "cell_type": "code",
      "source": [
        "#type\n",
        "print(type(a), type(b), type(c), type(d), type(e))\n",
        "type(b)"
      ],
      "execution_count": 0,
      "outputs": []
    },
    {
      "metadata": {
        "id": "W4vBqTV_l-Mn",
        "colab_type": "code",
        "colab": {}
      },
      "cell_type": "code",
      "source": [
        "#input\n",
        "x = input('Enter any input here =')\n",
        "print(x)\n",
        "\n",
        "#error\n",
        "#print(x+5)"
      ],
      "execution_count": 0,
      "outputs": []
    },
    {
      "metadata": {
        "id": "hYQtHy5vmD7o",
        "colab_type": "code",
        "colab": {}
      },
      "cell_type": "code",
      "source": [
        "# input\n",
        "x = input('Enter any input here =')\n",
        "x = int(x)\n",
        "print(x+8)"
      ],
      "execution_count": 0,
      "outputs": []
    },
    {
      "metadata": {
        "id": "euFqW5HwmD-5",
        "colab_type": "code",
        "colab": {}
      },
      "cell_type": "code",
      "source": [
        "# string\n",
        "x = input('Enter value for x = ')\n",
        "y = x+ str(1)\n",
        "print(y)"
      ],
      "execution_count": 0,
      "outputs": []
    },
    {
      "metadata": {
        "id": "EMyc3dr1mQTf",
        "colab_type": "code",
        "colab": {}
      },
      "cell_type": "code",
      "source": [
        ""
      ],
      "execution_count": 0,
      "outputs": []
    },
    {
      "metadata": {
        "id": "dNNjM8iBmQWX",
        "colab_type": "code",
        "colab": {}
      },
      "cell_type": "code",
      "source": [
        ""
      ],
      "execution_count": 0,
      "outputs": []
    },
    {
      "metadata": {
        "id": "i2awm1uelkVc",
        "colab_type": "text"
      },
      "cell_type": "markdown",
      "source": [
        "## 3.2. Arithmatic"
      ]
    },
    {
      "metadata": {
        "id": "p8qRUH37lnL0",
        "colab_type": "code",
        "colab": {}
      },
      "cell_type": "code",
      "source": [
        "# round( ) function rounds the input value to a specified number of places or to the nearest integer.\n",
        "\n",
        "print (round(5.6231)) \n",
        "print (round(5.6231, 2))"
      ],
      "execution_count": 0,
      "outputs": []
    },
    {
      "metadata": {
        "id": "5riIoFLOmbrY",
        "colab_type": "code",
        "colab": {}
      },
      "cell_type": "code",
      "source": [
        "# complex( ) is used to define a complex number and abs( ) outputs the absolute value of the same.\n",
        "\n",
        "#abs\n",
        "print(abs(-5))\n",
        "\n",
        "c =complex('5+2j')\n",
        "print (abs(c))"
      ],
      "execution_count": 0,
      "outputs": []
    },
    {
      "metadata": {
        "id": "D-PlJP2lmbtv",
        "colab_type": "code",
        "colab": {}
      },
      "cell_type": "code",
      "source": [
        "# divmod(x,y) outputs the quotient and the remainder in a tuple in the format (quotient, remainder).\n",
        "\n",
        "# divmod\n",
        "divmod(9,2)\n",
        "\n",
        "# type(divmod(9,2))\n",
        "#[q,r] = divmod(9,2)"
      ],
      "execution_count": 0,
      "outputs": []
    },
    {
      "metadata": {
        "id": "ZmNlUt2Dmbwq",
        "colab_type": "code",
        "colab": {}
      },
      "cell_type": "code",
      "source": [
        "# isinstance( ) returns True, if the first argument is an instance of that class. Multiple classes can also be checked at once.\n",
        "\n",
        "print (isinstance(1, int))\n",
        "print (isinstance(1.0,int))\n",
        "print (isinstance(1.0,(int,float)))\n",
        "\n",
        "#print(isinstance([1,2], (int)))\n",
        "#print(isinstance([1,2][0], (int)))"
      ],
      "execution_count": 0,
      "outputs": []
    },
    {
      "metadata": {
        "id": "MWue6p7jloJV",
        "colab_type": "code",
        "colab": {}
      },
      "cell_type": "code",
      "source": [
        ""
      ],
      "execution_count": 0,
      "outputs": []
    },
    {
      "metadata": {
        "id": "pGvOjpk_loPs",
        "colab_type": "text"
      },
      "cell_type": "markdown",
      "source": [
        "## 3.3. List , Tuple"
      ]
    },
    {
      "metadata": {
        "id": "qcMozDBrlrUb",
        "colab_type": "code",
        "colab": {}
      },
      "cell_type": "code",
      "source": [
        "# LIST\n",
        "\n",
        "fruits = ['apple', 'orange', 'pineapple', 'mangoes', 'banana']\n",
        "nums = [13,24,85,44,11,7,8,2,56,47]"
      ],
      "execution_count": 0,
      "outputs": []
    },
    {
      "metadata": {
        "id": "gZnt6Md2nRnb",
        "colab_type": "text"
      },
      "cell_type": "markdown",
      "source": [
        "### 3.3.1. len( ) is used to find the length of the list or the number of elements in a list."
      ]
    },
    {
      "metadata": {
        "id": "v8oJQadEls2V",
        "colab_type": "code",
        "colab": {}
      },
      "cell_type": "code",
      "source": [
        "\n",
        "print(len(fruits),',',len(nums))"
      ],
      "execution_count": 0,
      "outputs": []
    },
    {
      "metadata": {
        "id": "r5hJuk7enW58",
        "colab_type": "text"
      },
      "cell_type": "markdown",
      "source": [
        "### 3.3.2. min( ) and max( ) gives the minimum and maximum value in the list, if the list consists of all integer elements."
      ]
    },
    {
      "metadata": {
        "id": "QTE0oKdonXFc",
        "colab_type": "code",
        "colab": {}
      },
      "cell_type": "code",
      "source": [
        "print(min(nums), ',', max(nums))"
      ],
      "execution_count": 0,
      "outputs": []
    },
    {
      "metadata": {
        "id": "-x6kmQDGnl5d",
        "colab_type": "text"
      },
      "cell_type": "markdown",
      "source": [
        "* In a list with elements as string, max( ) and min( ) is applicable. max( ) would return a string element whose <a href = 'https://en.wikipedia.org/wiki/ASCII'> ASCII value </a> is the highest and the lowest when min( ) is used."
      ]
    },
    {
      "metadata": {
        "id": "AeyPMcQ9nrQd",
        "colab_type": "code",
        "colab": {}
      },
      "cell_type": "code",
      "source": [
        "print(min(fruits),',', max(fruits))"
      ],
      "execution_count": 0,
      "outputs": []
    },
    {
      "metadata": {
        "id": "gzk1lXZ4nXac",
        "colab_type": "text"
      },
      "cell_type": "markdown",
      "source": [
        "* Note that only the first index of each element is considered each time and if they value is the same then second index considered so on and so forth."
      ]
    },
    {
      "metadata": {
        "id": "VOCZWyeGnXiL",
        "colab_type": "code",
        "colab": {}
      },
      "cell_type": "code",
      "source": [
        "\n",
        "print(min(words, key = len), ',', max(words, key = len))"
      ],
      "execution_count": 0,
      "outputs": []
    },
    {
      "metadata": {
        "id": "uK1VSLEroL6l",
        "colab_type": "text"
      },
      "cell_type": "markdown",
      "source": [
        "* But what if numbers are declared as strings?"
      ]
    },
    {
      "metadata": {
        "id": "lUfPgpSQoOSl",
        "colab_type": "code",
        "colab": {}
      },
      "cell_type": "code",
      "source": [
        "nlist = ['1','94','93','1000']\n",
        "print (max(nlist),',',min(nlist))"
      ],
      "execution_count": 0,
      "outputs": []
    },
    {
      "metadata": {
        "id": "mMFdPiEtnXoT",
        "colab_type": "text"
      },
      "cell_type": "markdown",
      "source": [
        "### 3.3.3. list() function converts A string can be converted into a list of characters"
      ]
    },
    {
      "metadata": {
        "id": "qi1pNoeGnXu4",
        "colab_type": "code",
        "colab": {}
      },
      "cell_type": "code",
      "source": [
        "list('Howdy!')\n",
        "\n",
        "# # also converts tuples into list\n",
        "# tu = (1,2,3)\n",
        "# li = list(tu)"
      ],
      "execution_count": 0,
      "outputs": []
    },
    {
      "metadata": {
        "id": "GiJhT-dSnX0O",
        "colab_type": "text"
      },
      "cell_type": "markdown",
      "source": [
        "### 3.3.4. count( ) is used to count the number of a particular element that is present in the list."
      ]
    },
    {
      "metadata": {
        "id": "gQ3blbDznX6v",
        "colab_type": "code",
        "colab": {}
      },
      "cell_type": "code",
      "source": [
        "num = [1,2,3,2,3,23,1,3,1,3,111,3,211,321,1]\n",
        "num.count(1)"
      ],
      "execution_count": 0,
      "outputs": []
    },
    {
      "metadata": {
        "id": "7mT4FCWHnYAE",
        "colab_type": "text"
      },
      "cell_type": "markdown",
      "source": [
        "### 3.3.5. append( ) function can also be used to add a entire list at the end. Observe that the resultant list becomes a nested list."
      ]
    },
    {
      "metadata": {
        "id": "HCpEdsMBnYG6",
        "colab_type": "code",
        "colab": {}
      },
      "cell_type": "code",
      "source": [
        "lst1 = [5,4,2,8]\n",
        "num.append(lst1)\n",
        "print(num)"
      ],
      "execution_count": 0,
      "outputs": []
    },
    {
      "metadata": {
        "id": "q9WQUDezpOVA",
        "colab_type": "text"
      },
      "cell_type": "markdown",
      "source": [
        "- But if nested list is not what is desired then extend( ) function can be used."
      ]
    },
    {
      "metadata": {
        "id": "yiqOatu5pOlw",
        "colab_type": "code",
        "colab": {}
      },
      "cell_type": "code",
      "source": [
        "num = [1,2,3,2,3,23,1,3,1,3,111,3,211,321,1]\n",
        "num.extend(lst1)\n",
        "print(num)"
      ],
      "execution_count": 0,
      "outputs": []
    },
    {
      "metadata": {
        "id": "VuHEAAUopoEr",
        "colab_type": "text"
      },
      "cell_type": "markdown",
      "source": [
        "### 3.3.6. index( ) is used to find the index value of a particular element. Note that if there are multiple elements of the same value then the first index value of that element is returned."
      ]
    },
    {
      "metadata": {
        "id": "0GaQvWQLpoPr",
        "colab_type": "code",
        "colab": {}
      },
      "cell_type": "code",
      "source": [
        "num.index(3)"
      ],
      "execution_count": 0,
      "outputs": []
    },
    {
      "metadata": {
        "id": "ZYChv09np-37",
        "colab_type": "text"
      },
      "cell_type": "markdown",
      "source": [
        "### 3.3.7. insert(x,y) inserts y at x position."
      ]
    },
    {
      "metadata": {
        "id": "s1jIX8Dwp-9S",
        "colab_type": "code",
        "colab": {}
      },
      "cell_type": "code",
      "source": [
        "num.insert(5, 'name')\n",
        "print (num)"
      ],
      "execution_count": 0,
      "outputs": []
    },
    {
      "metadata": {
        "id": "g9IluAbVrjRA",
        "colab_type": "text"
      },
      "cell_type": "markdown",
      "source": [
        "- insert(x,y) inserts but does not replace element. If you want to replace the element with another element you simply assign the value to that particular index"
      ]
    },
    {
      "metadata": {
        "id": "HzlDmhF-rqfh",
        "colab_type": "code",
        "colab": {}
      },
      "cell_type": "code",
      "source": [
        "num[5] = 'boo'\n",
        "num"
      ],
      "execution_count": 0,
      "outputs": []
    },
    {
      "metadata": {
        "id": "a8VM3VzPrvy6",
        "colab_type": "text"
      },
      "cell_type": "markdown",
      "source": [
        "### 3.3.8. pop( ) function return the last element in the list. This is similar to the operation of a stack. Hence it wouldn't be wrong to tell that lists can be used as a stack."
      ]
    },
    {
      "metadata": {
        "id": "MrZl0cXrrv9R",
        "colab_type": "code",
        "colab": {}
      },
      "cell_type": "code",
      "source": [
        "print(num.pop())\n",
        "print(num)\n",
        "print(num.pop(0))\n",
        "print(num)"
      ],
      "execution_count": 0,
      "outputs": []
    },
    {
      "metadata": {
        "id": "iobfYcUcrwVq",
        "colab_type": "text"
      },
      "cell_type": "markdown",
      "source": [
        "- pop( ) is used to remove element based on it's index value which can be assigned to a variable. One can also remove element by specifying the element itself using the remove( ) function"
      ]
    },
    {
      "metadata": {
        "id": "ZioeI10xrwd7",
        "colab_type": "code",
        "colab": {}
      },
      "cell_type": "code",
      "source": [
        "num.remove('boo')\n",
        "print(num)"
      ],
      "execution_count": 0,
      "outputs": []
    },
    {
      "metadata": {
        "id": "eBP6tKmHsEXK",
        "colab_type": "text"
      },
      "cell_type": "markdown",
      "source": [
        "- Alternative to remove function but with using index value is del"
      ]
    },
    {
      "metadata": {
        "id": "qRcIh3FxsEe7",
        "colab_type": "code",
        "colab": {}
      },
      "cell_type": "code",
      "source": [
        "del num[0]\n",
        "print(num)"
      ],
      "execution_count": 0,
      "outputs": []
    },
    {
      "metadata": {
        "id": "B5mzNjSasJAk",
        "colab_type": "text"
      },
      "cell_type": "markdown",
      "source": [
        "### 3.3.9. reverse() function reverses the entire elements present in the list"
      ]
    },
    {
      "metadata": {
        "id": "4h00nge3sJa6",
        "colab_type": "code",
        "colab": {}
      },
      "cell_type": "code",
      "source": [
        "num.reverse()\n",
        "print(num)"
      ],
      "execution_count": 0,
      "outputs": []
    },
    {
      "metadata": {
        "id": "obWpa4kTsJlb",
        "colab_type": "text"
      },
      "cell_type": "markdown",
      "source": [
        "### 3.3.10. Python offers built in operation sort( ) to arrange the elements in ascending order."
      ]
    },
    {
      "metadata": {
        "id": "ipnRZpLIsJt8",
        "colab_type": "code",
        "colab": {}
      },
      "cell_type": "code",
      "source": [
        "num.sort()\n",
        "print(num)\n",
        "print(sorted(num))"
      ],
      "execution_count": 0,
      "outputs": []
    },
    {
      "metadata": {
        "id": "Y5110s4UsJ0a",
        "colab_type": "text"
      },
      "cell_type": "markdown",
      "source": [
        "- For descending order , By default the reverse condition will be False for reverse. Hence changing it to True would arrange the elements in descending order."
      ]
    },
    {
      "metadata": {
        "id": "QRtObFdBsJ6S",
        "colab_type": "code",
        "colab": {}
      },
      "cell_type": "code",
      "source": [
        "num.sort(reverse = True)\n",
        "print(num)"
      ],
      "execution_count": 0,
      "outputs": []
    },
    {
      "metadata": {
        "id": "gKH1MKaKls8O",
        "colab_type": "text"
      },
      "cell_type": "markdown",
      "source": [
        "## 3.4. Strings"
      ]
    },
    {
      "metadata": {
        "id": "KkSd30MPlvTV",
        "colab_type": "code",
        "colab": {}
      },
      "cell_type": "code",
      "source": [
        "my_str = 'remember you are unique!'\n",
        "print(my_str)"
      ],
      "execution_count": 0,
      "outputs": []
    },
    {
      "metadata": {
        "id": "JYj1OP-_6DFn",
        "colab_type": "text"
      },
      "cell_type": "markdown",
      "source": [
        "### 3.4.1.  Indexing and Slicing - Similar to List & Tuple"
      ]
    },
    {
      "metadata": {
        "id": "RNeMfz2ClwDW",
        "colab_type": "code",
        "colab": {}
      },
      "cell_type": "code",
      "source": [
        "\n",
        "print(my_str[3])\n",
        "print(my_str[9:])"
      ],
      "execution_count": 0,
      "outputs": []
    },
    {
      "metadata": {
        "id": "80WBUJi26P7h",
        "colab_type": "text"
      },
      "cell_type": "markdown",
      "source": [
        "### 3.4.2. capitalize( ), upper(), lower() "
      ]
    },
    {
      "metadata": {
        "id": "aUAGuRYo6Zd5",
        "colab_type": "code",
        "colab": {}
      },
      "cell_type": "code",
      "source": [
        "print(my_str.capitalize())\n",
        "print(my_str.upper())\n",
        "print(my_str.lower())"
      ],
      "execution_count": 0,
      "outputs": []
    },
    {
      "metadata": {
        "id": "7ZCVoUAU6aLK",
        "colab_type": "text"
      },
      "cell_type": "markdown",
      "source": [
        "### 3.4.3. join( )"
      ]
    },
    {
      "metadata": {
        "id": "u2zZpiLR6hiK",
        "colab_type": "code",
        "colab": {}
      },
      "cell_type": "code",
      "source": [
        "my_str.join('*_-+=@')"
      ],
      "execution_count": 0,
      "outputs": []
    },
    {
      "metadata": {
        "id": "jtAsNurs6zuS",
        "colab_type": "text"
      },
      "cell_type": "markdown",
      "source": [
        "### 3.4.4.  split( ) "
      ]
    },
    {
      "metadata": {
        "id": "KJZQcKmS6zFD",
        "colab_type": "code",
        "colab": {}
      },
      "cell_type": "code",
      "source": [
        "my_str.split()"
      ],
      "execution_count": 0,
      "outputs": []
    },
    {
      "metadata": {
        "id": "UorQPkWi64_E",
        "colab_type": "code",
        "colab": {}
      },
      "cell_type": "code",
      "source": [
        "my_str_1 = 'Remember, you\\'re unique, like evveryone else'\n",
        "print(my_str_1.split(','))\n",
        "print(my_str_1.split('e'))"
      ],
      "execution_count": 0,
      "outputs": []
    },
    {
      "metadata": {
        "id": "JIOekFPh7Bkr",
        "colab_type": "text"
      },
      "cell_type": "markdown",
      "source": [
        "### 3.4.5. replace( ) "
      ]
    },
    {
      "metadata": {
        "id": "pQ-WrpJX7Eh7",
        "colab_type": "code",
        "colab": {}
      },
      "cell_type": "code",
      "source": [
        "print(my_str_1.replace('Remember', 'Don\\'t forget'))"
      ],
      "execution_count": 0,
      "outputs": []
    },
    {
      "metadata": {
        "id": "V3mSDjJT7ExF",
        "colab_type": "text"
      },
      "cell_type": "markdown",
      "source": [
        "### 3.4.6. strip( )"
      ]
    },
    {
      "metadata": {
        "id": "TJBy8urt7E7L",
        "colab_type": "code",
        "outputId": "850a7eb4-bc73-40ce-b89a-3699eff51bc8",
        "colab": {
          "base_uri": "https://localhost:8080/",
          "height": 54
        }
      },
      "cell_type": "code",
      "source": [
        "f = '    hello      '\n",
        "print(f)\n",
        "g = f.strip()\n",
        "print(g)"
      ],
      "execution_count": 0,
      "outputs": [
        {
          "output_type": "stream",
          "text": [
            "    hello      \n",
            "hello\n"
          ],
          "name": "stdout"
        }
      ]
    },
    {
      "metadata": {
        "id": "FwrYdC_g7kiz",
        "colab_type": "code",
        "colab": {}
      },
      "cell_type": "code",
      "source": [
        "f1 ='   ***----hello---*******    '\n",
        "g1 = f1.strip(' *-')\n",
        "print(g1)"
      ],
      "execution_count": 0,
      "outputs": []
    },
    {
      "metadata": {
        "id": "Pue1oAxClwa-",
        "colab_type": "text"
      },
      "cell_type": "markdown",
      "source": [
        "## 3.5. Dictionary"
      ]
    },
    {
      "metadata": {
        "id": "u4JA_jO3l2bk",
        "colab_type": "code",
        "colab": {}
      },
      "cell_type": "code",
      "source": [
        "d0 = {}\n",
        "d0['One'] = 1\n",
        "d0['OneTwo'] = 12 \n",
        "print (d0)"
      ],
      "execution_count": 0,
      "outputs": []
    },
    {
      "metadata": {
        "id": "wYDGEe4Z7uhb",
        "colab_type": "text"
      },
      "cell_type": "markdown",
      "source": [
        "### 3.5.1. zip()"
      ]
    },
    {
      "metadata": {
        "id": "KQsd84p38FrT",
        "colab_type": "code",
        "colab": {}
      },
      "cell_type": "code",
      "source": [
        "d2={}\n",
        "for i in range(len(names)):\n",
        "    d2[names[i]] = numbers[i]\n",
        "print (d2)"
      ],
      "execution_count": 0,
      "outputs": []
    },
    {
      "metadata": {
        "id": "aI5WBriYl3DX",
        "colab_type": "code",
        "outputId": "540a2620-4ac5-450e-df10-7d885d17ca0a",
        "colab": {
          "base_uri": "https://localhost:8080/",
          "height": 35
        }
      },
      "cell_type": "code",
      "source": [
        "names = ['One', 'Two', 'Three', 'Four', 'Five']\n",
        "numbers = [1, 2, 3, 4, 5]\n",
        "d1 = dict(zip(names,numbers))\n",
        "print (d1)"
      ],
      "execution_count": 0,
      "outputs": [
        {
          "output_type": "stream",
          "text": [
            "{'One': 1, 'Two': 2, 'Three': 3, 'Four': 4, 'Five': 5}\n"
          ],
          "name": "stdout"
        }
      ]
    },
    {
      "metadata": {
        "id": "5rD1LKjYl3R_",
        "colab_type": "text"
      },
      "cell_type": "markdown",
      "source": [
        "### 3.5.2. values(), keys(), items()"
      ]
    },
    {
      "metadata": {
        "id": "2lKHyctB8WDR",
        "colab_type": "code",
        "colab": {}
      },
      "cell_type": "code",
      "source": [
        "d2.values()"
      ],
      "execution_count": 0,
      "outputs": []
    },
    {
      "metadata": {
        "id": "erqjpFCz8aYT",
        "colab_type": "code",
        "colab": {}
      },
      "cell_type": "code",
      "source": [
        "d2.keys()"
      ],
      "execution_count": 0,
      "outputs": []
    },
    {
      "metadata": {
        "id": "bJjhKMRr8b2M",
        "colab_type": "code",
        "colab": {}
      },
      "cell_type": "code",
      "source": [
        "d2.items()"
      ],
      "execution_count": 0,
      "outputs": []
    },
    {
      "metadata": {
        "id": "q9TI5RMdAcRa",
        "colab_type": "text"
      },
      "cell_type": "markdown",
      "source": [
        "# 4. numpy"
      ]
    },
    {
      "metadata": {
        "id": "wKRj1DT7Aiwx",
        "colab_type": "code",
        "outputId": "99c51eeb-1e53-45cf-d691-1933e0dc25bb",
        "colab": {
          "base_uri": "https://localhost:8080/",
          "height": 35
        }
      },
      "cell_type": "code",
      "source": [
        "import numpy as np\n",
        "# We could also check the current NumPy version\n",
        "numpy.version.version"
      ],
      "execution_count": 0,
      "outputs": [
        {
          "output_type": "execute_result",
          "data": {
            "text/plain": [
              "'1.14.6'"
            ]
          },
          "metadata": {
            "tags": []
          },
          "execution_count": 12
        }
      ]
    },
    {
      "metadata": {
        "id": "k8S3fHx2Anig",
        "colab_type": "code",
        "colab": {}
      },
      "cell_type": "code",
      "source": [
        "# An example one-dimensional Numpy array. By default, the numbers are considered integers.\n",
        "a = np.array([1,2,3,4,5])\n",
        "print(a)\n",
        "\n",
        "print(np.ndim(a))\n",
        "\n",
        "print(np.size(a))\n",
        "\n",
        "print(np.shape(a))\n",
        "\n",
        "print(np.mean(a))\n",
        "\n",
        "print(np.std(a))"
      ],
      "execution_count": 0,
      "outputs": []
    },
    {
      "metadata": {
        "id": "BE1adBhGA6lC",
        "colab_type": "code",
        "colab": {}
      },
      "cell_type": "code",
      "source": [
        "# Can instead specify that values are floats.\n",
        "a = np.array([1,2,3,4,5], dtype = np.float64)\n",
        "print(a)\n",
        "print(a.dtype)"
      ],
      "execution_count": 0,
      "outputs": []
    },
    {
      "metadata": {
        "id": "QNWrEMxkA_Xk",
        "colab_type": "code",
        "colab": {}
      },
      "cell_type": "code",
      "source": [
        "# A two-dimensional Numpy array.\n",
        "b = np.array([[1,2,3,4,5],[6,7,8,9,10]])\n",
        "print(np.ndim(b))"
      ],
      "execution_count": 0,
      "outputs": []
    },
    {
      "metadata": {
        "id": "kY0vBIi3BESs",
        "colab_type": "text"
      },
      "cell_type": "markdown",
      "source": [
        "## 4.1. Useful function"
      ]
    },
    {
      "metadata": {
        "id": "JoZRP_ewBKta",
        "colab_type": "text"
      },
      "cell_type": "markdown",
      "source": [
        "### 4.1.1. reshape()"
      ]
    },
    {
      "metadata": {
        "id": "nLVJLTTLBAh6",
        "colab_type": "code",
        "outputId": "0f54b458-82f3-4467-ecbc-b7033ed8764e",
        "colab": {
          "base_uri": "https://localhost:8080/",
          "height": 35
        }
      },
      "cell_type": "code",
      "source": [
        "a = np.array(list(range(1,17)))\n",
        "print(a)"
      ],
      "execution_count": 0,
      "outputs": [
        {
          "output_type": "execute_result",
          "data": {
            "text/plain": [
              "array([ 1,  2,  3,  4,  5,  6,  7,  8,  9, 10, 11, 12, 13, 14, 15, 16])"
            ]
          },
          "metadata": {
            "tags": []
          },
          "execution_count": 13
        }
      ]
    },
    {
      "metadata": {
        "id": "0sKTgwMdBbCQ",
        "colab_type": "code",
        "outputId": "68d02a26-3efb-4094-8c89-e22138b712b9",
        "colab": {
          "base_uri": "https://localhost:8080/",
          "height": 90
        }
      },
      "cell_type": "code",
      "source": [
        "a = a.reshape(4,4)\n",
        "print(a)"
      ],
      "execution_count": 0,
      "outputs": [
        {
          "output_type": "stream",
          "text": [
            "[[ 1  2  3  4]\n",
            " [ 5  6  7  8]\n",
            " [ 9 10 11 12]\n",
            " [13 14 15 16]]\n"
          ],
          "name": "stdout"
        }
      ]
    },
    {
      "metadata": {
        "id": "OvNz6V5xCTki",
        "colab_type": "code",
        "outputId": "cb976757-f662-4a04-f70b-a6caad1343f1",
        "colab": {
          "base_uri": "https://localhost:8080/",
          "height": 108
        }
      },
      "cell_type": "code",
      "source": [
        "a.reshape(2,2,4)"
      ],
      "execution_count": 0,
      "outputs": [
        {
          "output_type": "execute_result",
          "data": {
            "text/plain": [
              "array([[[ 1,  2,  3,  4],\n",
              "        [ 5,  6,  7,  8]],\n",
              "\n",
              "       [[ 9, 10, 11, 12],\n",
              "        [13, 14, 15, 16]]])"
            ]
          },
          "metadata": {
            "tags": []
          },
          "execution_count": 21
        }
      ]
    },
    {
      "metadata": {
        "id": "Gm-7JzkCB_iq",
        "colab_type": "text"
      },
      "cell_type": "markdown",
      "source": [
        "### 4.1.2. slice & dice"
      ]
    },
    {
      "metadata": {
        "id": "EIAhf6lXBgrw",
        "colab_type": "code",
        "outputId": "6d097654-5e0b-4931-e645-07af4ead6672",
        "colab": {
          "base_uri": "https://localhost:8080/",
          "height": 54
        }
      },
      "cell_type": "code",
      "source": [
        "a[1:3,2:4]"
      ],
      "execution_count": 0,
      "outputs": [
        {
          "output_type": "execute_result",
          "data": {
            "text/plain": [
              "array([[ 7,  8],\n",
              "       [11, 12]])"
            ]
          },
          "metadata": {
            "tags": []
          },
          "execution_count": 20
        }
      ]
    },
    {
      "metadata": {
        "id": "ejZBfQO6CgkS",
        "colab_type": "text"
      },
      "cell_type": "markdown",
      "source": [
        "### 4.1.3. arange / linspace ()\n",
        "\n",
        "'linspace'- to specify number of values\n",
        "\n",
        "'arange' - to specify the step length."
      ]
    },
    {
      "metadata": {
        "id": "1sRuU3VhBkpg",
        "colab_type": "code",
        "outputId": "e45025dd-14a7-41e6-a16c-36b5173bf172",
        "colab": {
          "base_uri": "https://localhost:8080/",
          "height": 54
        }
      },
      "cell_type": "code",
      "source": [
        "print(np.linspace(0, 10, 5))\n",
        "print(np.arange(0, 12.5, 2.5)) # does not include the end value"
      ],
      "execution_count": 0,
      "outputs": [
        {
          "output_type": "stream",
          "text": [
            "[ 0.   2.5  5.   7.5 10. ]\n",
            "[ 0.   2.5  5.   7.5 10. ]\n"
          ],
          "name": "stdout"
        }
      ]
    },
    {
      "metadata": {
        "id": "lKY07OpzEarR",
        "colab_type": "code",
        "colab": {}
      },
      "cell_type": "code",
      "source": [
        "print(np.logspace(1,10, 5, base = 10))"
      ],
      "execution_count": 0,
      "outputs": []
    },
    {
      "metadata": {
        "id": "CfEmjKzAEm3c",
        "colab_type": "text"
      },
      "cell_type": "markdown",
      "source": [
        "### 4.1.4. Operations"
      ]
    },
    {
      "metadata": {
        "id": "M_Eii9CfEx3M",
        "colab_type": "code",
        "colab": {}
      },
      "cell_type": "code",
      "source": [
        "a = np.arange(1,10).reshape(3,3)\n",
        "b = np.copy(a)"
      ],
      "execution_count": 0,
      "outputs": []
    },
    {
      "metadata": {
        "id": "Z45JJ_ZkE0xk",
        "colab_type": "code",
        "colab": {}
      },
      "cell_type": "code",
      "source": [
        "# sum\n",
        "c = a+b\n",
        "print(c)"
      ],
      "execution_count": 0,
      "outputs": []
    },
    {
      "metadata": {
        "id": "J5B_OSPjE56m",
        "colab_type": "code",
        "colab": {}
      },
      "cell_type": "code",
      "source": [
        "# ELEMENT WISE MULTIPLICATION\n",
        "print(a*b)"
      ],
      "execution_count": 0,
      "outputs": []
    },
    {
      "metadata": {
        "id": "AVbfOMnhFHT0",
        "colab_type": "code",
        "outputId": "0aa0a035-446b-47cf-e254-3c266443f5a4",
        "colab": {
          "base_uri": "https://localhost:8080/",
          "height": 72
        }
      },
      "cell_type": "code",
      "source": [
        "# DOT Product\n",
        "np.dot(a,b)"
      ],
      "execution_count": 0,
      "outputs": [
        {
          "output_type": "execute_result",
          "data": {
            "text/plain": [
              "array([[ 30,  36,  42],\n",
              "       [ 66,  81,  96],\n",
              "       [102, 126, 150]])"
            ]
          },
          "metadata": {
            "tags": []
          },
          "execution_count": 24
        }
      ]
    },
    {
      "metadata": {
        "id": "v-BXRb-hFQJs",
        "colab_type": "code",
        "outputId": "5395e9eb-c173-47d4-b515-4eabbc7ab4ce",
        "colab": {
          "base_uri": "https://localhost:8080/",
          "height": 72
        }
      },
      "cell_type": "code",
      "source": [
        "# transpose\n",
        "print(a.T)"
      ],
      "execution_count": 0,
      "outputs": [
        {
          "output_type": "stream",
          "text": [
            "[[1 4 7]\n",
            " [2 5 8]\n",
            " [3 6 9]]\n"
          ],
          "name": "stdout"
        }
      ]
    },
    {
      "metadata": {
        "id": "t2NYhw0MFdt9",
        "colab_type": "text"
      },
      "cell_type": "markdown",
      "source": [
        "### 4.1.5. Special matrices"
      ]
    },
    {
      "metadata": {
        "id": "jI3WxB2JFkPM",
        "colab_type": "code",
        "outputId": "7bdf97f5-7ebc-42f9-fb61-2e09c5c3e692",
        "colab": {
          "base_uri": "https://localhost:8080/",
          "height": 90
        }
      },
      "cell_type": "code",
      "source": [
        "# ONES\n",
        "print(np.ones(10))\n",
        "\n",
        "print('-' * 100)\n",
        "print(np.ones((2,3)))"
      ],
      "execution_count": 0,
      "outputs": [
        {
          "output_type": "stream",
          "text": [
            "[1. 1. 1. 1. 1. 1. 1. 1. 1. 1.]\n",
            "----------------------------------------------------------------------------------------------------\n",
            "[[1. 1. 1.]\n",
            " [1. 1. 1.]]\n"
          ],
          "name": "stdout"
        }
      ]
    },
    {
      "metadata": {
        "id": "EGfbM4Z7FzA8",
        "colab_type": "code",
        "outputId": "98c9fd23-a007-4bf6-f226-4220e07304c5",
        "colab": {
          "base_uri": "https://localhost:8080/",
          "height": 72
        }
      },
      "cell_type": "code",
      "source": [
        "# Zeros\n",
        "np.zeros((3,3))"
      ],
      "execution_count": 0,
      "outputs": [
        {
          "output_type": "execute_result",
          "data": {
            "text/plain": [
              "array([[0., 0., 0.],\n",
              "       [0., 0., 0.],\n",
              "       [0., 0., 0.]])"
            ]
          },
          "metadata": {
            "tags": []
          },
          "execution_count": 29
        }
      ]
    },
    {
      "metadata": {
        "id": "Vr7Yp-84F41E",
        "colab_type": "code",
        "outputId": "bd0c43e4-5498-458f-d13c-8b561a808f85",
        "colab": {
          "base_uri": "https://localhost:8080/",
          "height": 72
        }
      },
      "cell_type": "code",
      "source": [
        "# identity matrix\n",
        "np.eye(3,3)"
      ],
      "execution_count": 0,
      "outputs": [
        {
          "output_type": "execute_result",
          "data": {
            "text/plain": [
              "array([[1., 0., 0.],\n",
              "       [0., 1., 0.],\n",
              "       [0., 0., 1.]])"
            ]
          },
          "metadata": {
            "tags": []
          },
          "execution_count": 30
        }
      ]
    },
    {
      "metadata": {
        "id": "9-UKq8lhGAVd",
        "colab_type": "code",
        "outputId": "08014490-faeb-409d-e3c5-3975fa8c04ea",
        "colab": {
          "base_uri": "https://localhost:8080/",
          "height": 72
        }
      },
      "cell_type": "code",
      "source": [
        "np.eye(M=3, N=3, k = 1)"
      ],
      "execution_count": 0,
      "outputs": [
        {
          "output_type": "execute_result",
          "data": {
            "text/plain": [
              "array([[0., 1., 0.],\n",
              "       [0., 0., 1.],\n",
              "       [0., 0., 0.]])"
            ]
          },
          "metadata": {
            "tags": []
          },
          "execution_count": 31
        }
      ]
    },
    {
      "metadata": {
        "id": "doinm5J8GRfu",
        "colab_type": "text"
      },
      "cell_type": "markdown",
      "source": [
        "### 4.1.6. Special Functions"
      ]
    },
    {
      "metadata": {
        "id": "SXqsaqJsGAbz",
        "colab_type": "code",
        "outputId": "0d0457a5-ee4c-4287-9b2e-2ff13c490aa8",
        "colab": {
          "base_uri": "https://localhost:8080/",
          "height": 35
        }
      },
      "cell_type": "code",
      "source": [
        "np.random.randint(5)"
      ],
      "execution_count": 0,
      "outputs": [
        {
          "output_type": "execute_result",
          "data": {
            "text/plain": [
              "2"
            ]
          },
          "metadata": {
            "tags": []
          },
          "execution_count": 33
        }
      ]
    },
    {
      "metadata": {
        "id": "-i-WZjCrGrdk",
        "colab_type": "code",
        "outputId": "47a00676-0311-44a7-ae8a-9af6d0cb7875",
        "colab": {
          "base_uri": "https://localhost:8080/",
          "height": 54
        }
      },
      "cell_type": "code",
      "source": [
        "np.random.randint(low = 10, high = 20, size = (2,3))"
      ],
      "execution_count": 0,
      "outputs": [
        {
          "output_type": "execute_result",
          "data": {
            "text/plain": [
              "array([[13, 10, 17],\n",
              "       [16, 12, 14]])"
            ]
          },
          "metadata": {
            "tags": []
          },
          "execution_count": 34
        }
      ]
    },
    {
      "metadata": {
        "id": "fTe446_VGtas",
        "colab_type": "code",
        "outputId": "311aab76-2c6b-4f83-8f48-57665bb313f8",
        "colab": {
          "base_uri": "https://localhost:8080/",
          "height": 35
        }
      },
      "cell_type": "code",
      "source": [
        "np.random.uniform(0,1,2)"
      ],
      "execution_count": 0,
      "outputs": [
        {
          "output_type": "execute_result",
          "data": {
            "text/plain": [
              "array([0.94421758, 0.7286637 ])"
            ]
          },
          "metadata": {
            "tags": []
          },
          "execution_count": 40
        }
      ]
    },
    {
      "metadata": {
        "id": "XVHDHykiHGvD",
        "colab_type": "code",
        "outputId": "1b1bc9b3-cac9-4ec0-9ba7-257844b505f8",
        "colab": {
          "base_uri": "https://localhost:8080/",
          "height": 54
        }
      },
      "cell_type": "code",
      "source": [
        "np.random.randn(2,4)"
      ],
      "execution_count": 0,
      "outputs": [
        {
          "output_type": "execute_result",
          "data": {
            "text/plain": [
              "array([[-0.49424675,  0.76829315, -0.7575317 , -1.38150308],\n",
              "       [-1.85766064, -0.28763254,  0.11957554,  0.21109041]])"
            ]
          },
          "metadata": {
            "tags": []
          },
          "execution_count": 44
        }
      ]
    },
    {
      "metadata": {
        "id": "EhQSFFd4H4RM",
        "colab_type": "code",
        "colab": {}
      },
      "cell_type": "code",
      "source": [
        ""
      ],
      "execution_count": 0,
      "outputs": []
    },
    {
      "metadata": {
        "id": "PuAFBnypCpjb",
        "colab_type": "text"
      },
      "cell_type": "markdown",
      "source": [
        "## 4.2. Vectorization"
      ]
    },
    {
      "metadata": {
        "id": "XvssyW1BIuRm",
        "colab_type": "code",
        "colab": {}
      },
      "cell_type": "code",
      "source": [
        "import time\n",
        "\n",
        "x1 = [9, 2, 5, 0, 0, 7, 5, 0, 0, 0, 9, 2, 5, 0, 0]\n",
        "x2 = [9, 2, 2, 9, 0, 9, 2, 5, 0, 0, 9, 2, 5, 0, 0]"
      ],
      "execution_count": 0,
      "outputs": []
    },
    {
      "metadata": {
        "id": "jnTvO0dKIxTH",
        "colab_type": "code",
        "outputId": "c3df7238-6ab7-434d-a192-f1e4e32b7417",
        "colab": {
          "base_uri": "https://localhost:8080/",
          "height": 35
        }
      },
      "cell_type": "code",
      "source": [
        "### CLASSIC OUTER PRODUCT IMPLEMENTATION ###  Note: Outer product = xx'\n",
        "tic = time.process_time()\n",
        "\n",
        "outer = np.zeros((len(x1),len(x2))) # we create a len(x1)*len(x2) matrix with only zeros\n",
        "\n",
        "for i in range(len(x1)):\n",
        "    for j in range(len(x2)):\n",
        "        outer[i,j] = x1[i]*x2[j]\n",
        "        \n",
        "toc = time.process_time()\n",
        "\n",
        "#print (\"outer = \" + str(outer))\n",
        "print('--- Computation time = '+str(1000*(toc - tic)) + \"ms\")"
      ],
      "execution_count": 0,
      "outputs": [
        {
          "output_type": "stream",
          "text": [
            "--- Computation time = 0.9945959999999587ms\n"
          ],
          "name": "stdout"
        }
      ]
    },
    {
      "metadata": {
        "id": "r_5VjHAZIxX1",
        "colab_type": "code",
        "outputId": "519d1c5b-0a53-4a71-f851-7e5a6814934d",
        "colab": {
          "base_uri": "https://localhost:8080/",
          "height": 35
        }
      },
      "cell_type": "code",
      "source": [
        "### VECTORIZED OUTER PRODUCT ###\n",
        "tic = time.process_time()\n",
        "outer = np.outer(x1,x2)\n",
        "toc = time.process_time()\n",
        "#print (\"outer = \" + str(outer))\n",
        "print('--- Computation time = ' + str(1000*(toc - tic)) + \"ms\")"
      ],
      "execution_count": 0,
      "outputs": [
        {
          "output_type": "stream",
          "text": [
            "--- Computation time = 0.1535490000001971ms\n"
          ],
          "name": "stdout"
        }
      ]
    },
    {
      "metadata": {
        "id": "RilCseuvIxdD",
        "colab_type": "code",
        "colab": {}
      },
      "cell_type": "code",
      "source": [
        ""
      ],
      "execution_count": 0,
      "outputs": []
    },
    {
      "metadata": {
        "id": "7S0697oeDM_U",
        "colab_type": "text"
      },
      "cell_type": "markdown",
      "source": [
        "# 5. pandas\n",
        "\n",
        "pandas is library for data manupulation and analysis, **built on** numpy and scipy"
      ]
    },
    {
      "metadata": {
        "id": "HLGbNIAGP1wS",
        "colab_type": "code",
        "outputId": "56c1be56-4075-4457-a4a0-85c1c97bb04d",
        "colab": {
          "base_uri": "https://localhost:8080/",
          "height": 35
        }
      },
      "cell_type": "code",
      "source": [
        "data = {'Days' : [1,2,3,4,5], 'Visitors' : [1000, 800, 900, 750, 980], 'Bounce_rate' : [25, 22, 24,18, 24], 'States' : ['TX', 'NC', 'CA', 'NY', 'FL']}\n",
        "print(data)"
      ],
      "execution_count": 0,
      "outputs": [
        {
          "output_type": "stream",
          "text": [
            "{'Days': [1, 2, 3, 4, 5], 'Visitors': [1000, 800, 900, 750, 980], 'Bounce_rate': [25, 22, 24, 18, 24], 'States': ['TX', 'NC', 'CA', 'NY', 'FL']}\n"
          ],
          "name": "stdout"
        }
      ]
    },
    {
      "metadata": {
        "id": "_MGBrVNaCwEw",
        "colab_type": "code",
        "colab": {}
      },
      "cell_type": "code",
      "source": [
        "import pandas as pd\n",
        "\n",
        "df = pd.DataFrame(data)"
      ],
      "execution_count": 0,
      "outputs": []
    },
    {
      "metadata": {
        "id": "2wC_vQI6Pdpa",
        "colab_type": "code",
        "outputId": "3bd0fecb-acc2-4b00-a091-7b3b21b8ca60",
        "colab": {
          "base_uri": "https://localhost:8080/",
          "height": 198
        }
      },
      "cell_type": "code",
      "source": [
        "df.head()"
      ],
      "execution_count": 0,
      "outputs": [
        {
          "output_type": "execute_result",
          "data": {
            "text/html": [
              "<div>\n",
              "<style scoped>\n",
              "    .dataframe tbody tr th:only-of-type {\n",
              "        vertical-align: middle;\n",
              "    }\n",
              "\n",
              "    .dataframe tbody tr th {\n",
              "        vertical-align: top;\n",
              "    }\n",
              "\n",
              "    .dataframe thead th {\n",
              "        text-align: right;\n",
              "    }\n",
              "</style>\n",
              "<table border=\"1\" class=\"dataframe\">\n",
              "  <thead>\n",
              "    <tr style=\"text-align: right;\">\n",
              "      <th></th>\n",
              "      <th>Bounce_rate</th>\n",
              "      <th>Days</th>\n",
              "      <th>States</th>\n",
              "      <th>Visitors</th>\n",
              "    </tr>\n",
              "  </thead>\n",
              "  <tbody>\n",
              "    <tr>\n",
              "      <th>0</th>\n",
              "      <td>25</td>\n",
              "      <td>1</td>\n",
              "      <td>TX</td>\n",
              "      <td>1000</td>\n",
              "    </tr>\n",
              "    <tr>\n",
              "      <th>1</th>\n",
              "      <td>22</td>\n",
              "      <td>2</td>\n",
              "      <td>NC</td>\n",
              "      <td>800</td>\n",
              "    </tr>\n",
              "    <tr>\n",
              "      <th>2</th>\n",
              "      <td>24</td>\n",
              "      <td>3</td>\n",
              "      <td>CA</td>\n",
              "      <td>900</td>\n",
              "    </tr>\n",
              "    <tr>\n",
              "      <th>3</th>\n",
              "      <td>18</td>\n",
              "      <td>4</td>\n",
              "      <td>NY</td>\n",
              "      <td>750</td>\n",
              "    </tr>\n",
              "    <tr>\n",
              "      <th>4</th>\n",
              "      <td>24</td>\n",
              "      <td>5</td>\n",
              "      <td>FL</td>\n",
              "      <td>980</td>\n",
              "    </tr>\n",
              "  </tbody>\n",
              "</table>\n",
              "</div>"
            ],
            "text/plain": [
              "   Bounce_rate  Days States  Visitors\n",
              "0           25     1     TX      1000\n",
              "1           22     2     NC       800\n",
              "2           24     3     CA       900\n",
              "3           18     4     NY       750\n",
              "4           24     5     FL       980"
            ]
          },
          "metadata": {
            "tags": []
          },
          "execution_count": 81
        }
      ]
    },
    {
      "metadata": {
        "id": "VzNUXAVmRIjM",
        "colab_type": "text"
      },
      "cell_type": "markdown",
      "source": [
        "## 5.1. Slicing"
      ]
    },
    {
      "metadata": {
        "id": "89Cxz5FtPj9g",
        "colab_type": "code",
        "outputId": "4d7922ec-c4de-4475-875d-02b6443dd311",
        "colab": {
          "base_uri": "https://localhost:8080/",
          "height": 108
        }
      },
      "cell_type": "code",
      "source": [
        "# easy way - head & tail\n",
        "\n",
        "df.head(2)"
      ],
      "execution_count": 0,
      "outputs": [
        {
          "output_type": "execute_result",
          "data": {
            "text/html": [
              "<div>\n",
              "<style scoped>\n",
              "    .dataframe tbody tr th:only-of-type {\n",
              "        vertical-align: middle;\n",
              "    }\n",
              "\n",
              "    .dataframe tbody tr th {\n",
              "        vertical-align: top;\n",
              "    }\n",
              "\n",
              "    .dataframe thead th {\n",
              "        text-align: right;\n",
              "    }\n",
              "</style>\n",
              "<table border=\"1\" class=\"dataframe\">\n",
              "  <thead>\n",
              "    <tr style=\"text-align: right;\">\n",
              "      <th></th>\n",
              "      <th>Bounce_rate</th>\n",
              "      <th>Days</th>\n",
              "      <th>Visitors</th>\n",
              "    </tr>\n",
              "  </thead>\n",
              "  <tbody>\n",
              "    <tr>\n",
              "      <th>0</th>\n",
              "      <td>25</td>\n",
              "      <td>1</td>\n",
              "      <td>1000</td>\n",
              "    </tr>\n",
              "    <tr>\n",
              "      <th>1</th>\n",
              "      <td>22</td>\n",
              "      <td>2</td>\n",
              "      <td>800</td>\n",
              "    </tr>\n",
              "  </tbody>\n",
              "</table>\n",
              "</div>"
            ],
            "text/plain": [
              "   Bounce_rate  Days  Visitors\n",
              "0           25     1      1000\n",
              "1           22     2       800"
            ]
          },
          "metadata": {
            "tags": []
          },
          "execution_count": 78
        }
      ]
    },
    {
      "metadata": {
        "id": "QZgEjfwFRNUi",
        "colab_type": "text"
      },
      "cell_type": "markdown",
      "source": [
        "## 5.2. Changing index"
      ]
    },
    {
      "metadata": {
        "id": "X5FyibRyRNdL",
        "colab_type": "code",
        "outputId": "fa7c9420-db3a-4157-92f7-78e66f3bc5d7",
        "colab": {
          "base_uri": "https://localhost:8080/",
          "height": 228
        }
      },
      "cell_type": "code",
      "source": [
        "df.set_index('Days')"
      ],
      "execution_count": 0,
      "outputs": [
        {
          "output_type": "execute_result",
          "data": {
            "text/html": [
              "<div>\n",
              "<style scoped>\n",
              "    .dataframe tbody tr th:only-of-type {\n",
              "        vertical-align: middle;\n",
              "    }\n",
              "\n",
              "    .dataframe tbody tr th {\n",
              "        vertical-align: top;\n",
              "    }\n",
              "\n",
              "    .dataframe thead th {\n",
              "        text-align: right;\n",
              "    }\n",
              "</style>\n",
              "<table border=\"1\" class=\"dataframe\">\n",
              "  <thead>\n",
              "    <tr style=\"text-align: right;\">\n",
              "      <th></th>\n",
              "      <th>Bounce_rate</th>\n",
              "      <th>States</th>\n",
              "      <th>Visitors</th>\n",
              "    </tr>\n",
              "    <tr>\n",
              "      <th>Days</th>\n",
              "      <th></th>\n",
              "      <th></th>\n",
              "      <th></th>\n",
              "    </tr>\n",
              "  </thead>\n",
              "  <tbody>\n",
              "    <tr>\n",
              "      <th>1</th>\n",
              "      <td>25</td>\n",
              "      <td>TX</td>\n",
              "      <td>1000</td>\n",
              "    </tr>\n",
              "    <tr>\n",
              "      <th>2</th>\n",
              "      <td>22</td>\n",
              "      <td>NC</td>\n",
              "      <td>800</td>\n",
              "    </tr>\n",
              "    <tr>\n",
              "      <th>3</th>\n",
              "      <td>24</td>\n",
              "      <td>CA</td>\n",
              "      <td>900</td>\n",
              "    </tr>\n",
              "    <tr>\n",
              "      <th>4</th>\n",
              "      <td>18</td>\n",
              "      <td>NY</td>\n",
              "      <td>750</td>\n",
              "    </tr>\n",
              "    <tr>\n",
              "      <th>5</th>\n",
              "      <td>24</td>\n",
              "      <td>FL</td>\n",
              "      <td>980</td>\n",
              "    </tr>\n",
              "  </tbody>\n",
              "</table>\n",
              "</div>"
            ],
            "text/plain": [
              "      Bounce_rate States  Visitors\n",
              "Days                              \n",
              "1              25     TX      1000\n",
              "2              22     NC       800\n",
              "3              24     CA       900\n",
              "4              18     NY       750\n",
              "5              24     FL       980"
            ]
          },
          "metadata": {
            "tags": []
          },
          "execution_count": 85
        }
      ]
    },
    {
      "metadata": {
        "id": "0XmMS4PvRNkg",
        "colab_type": "text"
      },
      "cell_type": "markdown",
      "source": [
        "## 5.3. Data Conversion"
      ]
    },
    {
      "metadata": {
        "id": "bhRXbXOIRNst",
        "colab_type": "code",
        "outputId": "fd6627cd-a2e0-49ad-cc47-379f9773c21c",
        "colab": {
          "base_uri": "https://localhost:8080/",
          "height": 228
        }
      },
      "cell_type": "code",
      "source": [
        "df.rename(columns={'Visitors' : 'Users'})"
      ],
      "execution_count": 0,
      "outputs": [
        {
          "output_type": "execute_result",
          "data": {
            "text/html": [
              "<div>\n",
              "<style scoped>\n",
              "    .dataframe tbody tr th:only-of-type {\n",
              "        vertical-align: middle;\n",
              "    }\n",
              "\n",
              "    .dataframe tbody tr th {\n",
              "        vertical-align: top;\n",
              "    }\n",
              "\n",
              "    .dataframe thead th {\n",
              "        text-align: right;\n",
              "    }\n",
              "</style>\n",
              "<table border=\"1\" class=\"dataframe\">\n",
              "  <thead>\n",
              "    <tr style=\"text-align: right;\">\n",
              "      <th></th>\n",
              "      <th>Bounce_rate</th>\n",
              "      <th>States</th>\n",
              "      <th>Users</th>\n",
              "    </tr>\n",
              "    <tr>\n",
              "      <th>Days</th>\n",
              "      <th></th>\n",
              "      <th></th>\n",
              "      <th></th>\n",
              "    </tr>\n",
              "  </thead>\n",
              "  <tbody>\n",
              "    <tr>\n",
              "      <th>1</th>\n",
              "      <td>25</td>\n",
              "      <td>TX</td>\n",
              "      <td>1000</td>\n",
              "    </tr>\n",
              "    <tr>\n",
              "      <th>2</th>\n",
              "      <td>22</td>\n",
              "      <td>NC</td>\n",
              "      <td>800</td>\n",
              "    </tr>\n",
              "    <tr>\n",
              "      <th>3</th>\n",
              "      <td>24</td>\n",
              "      <td>CA</td>\n",
              "      <td>900</td>\n",
              "    </tr>\n",
              "    <tr>\n",
              "      <th>4</th>\n",
              "      <td>18</td>\n",
              "      <td>NY</td>\n",
              "      <td>750</td>\n",
              "    </tr>\n",
              "    <tr>\n",
              "      <th>5</th>\n",
              "      <td>24</td>\n",
              "      <td>FL</td>\n",
              "      <td>980</td>\n",
              "    </tr>\n",
              "  </tbody>\n",
              "</table>\n",
              "</div>"
            ],
            "text/plain": [
              "      Bounce_rate States  Users\n",
              "Days                           \n",
              "1              25     TX   1000\n",
              "2              22     NC    800\n",
              "3              24     CA    900\n",
              "4              18     NY    750\n",
              "5              24     FL    980"
            ]
          },
          "metadata": {
            "tags": []
          },
          "execution_count": 89
        }
      ]
    },
    {
      "metadata": {
        "id": "SHVWf4l8ROMO",
        "colab_type": "text"
      },
      "cell_type": "markdown",
      "source": [
        "## 5.4. Merging"
      ]
    },
    {
      "metadata": {
        "id": "qH0b0mgLROV0",
        "colab_type": "code",
        "outputId": "d41a0266-9313-4c1c-fc2e-3725176e0d6f",
        "colab": {
          "base_uri": "https://localhost:8080/",
          "height": 198
        }
      },
      "cell_type": "code",
      "source": [
        "state_table = pd.DataFrame({'States': ['TX', 'NC', 'CA', 'NY', 'FL'], 'state_name' : ['Texas', 'North Carolina', 'California', 'New York', 'Florida']})\n",
        "\n",
        "state_table"
      ],
      "execution_count": 0,
      "outputs": [
        {
          "output_type": "execute_result",
          "data": {
            "text/html": [
              "<div>\n",
              "<style scoped>\n",
              "    .dataframe tbody tr th:only-of-type {\n",
              "        vertical-align: middle;\n",
              "    }\n",
              "\n",
              "    .dataframe tbody tr th {\n",
              "        vertical-align: top;\n",
              "    }\n",
              "\n",
              "    .dataframe thead th {\n",
              "        text-align: right;\n",
              "    }\n",
              "</style>\n",
              "<table border=\"1\" class=\"dataframe\">\n",
              "  <thead>\n",
              "    <tr style=\"text-align: right;\">\n",
              "      <th></th>\n",
              "      <th>States</th>\n",
              "      <th>state_name</th>\n",
              "    </tr>\n",
              "  </thead>\n",
              "  <tbody>\n",
              "    <tr>\n",
              "      <th>0</th>\n",
              "      <td>TX</td>\n",
              "      <td>Texas</td>\n",
              "    </tr>\n",
              "    <tr>\n",
              "      <th>1</th>\n",
              "      <td>NC</td>\n",
              "      <td>North Carolina</td>\n",
              "    </tr>\n",
              "    <tr>\n",
              "      <th>2</th>\n",
              "      <td>CA</td>\n",
              "      <td>California</td>\n",
              "    </tr>\n",
              "    <tr>\n",
              "      <th>3</th>\n",
              "      <td>NY</td>\n",
              "      <td>New York</td>\n",
              "    </tr>\n",
              "    <tr>\n",
              "      <th>4</th>\n",
              "      <td>FL</td>\n",
              "      <td>Florida</td>\n",
              "    </tr>\n",
              "  </tbody>\n",
              "</table>\n",
              "</div>"
            ],
            "text/plain": [
              "  States      state_name\n",
              "0     TX           Texas\n",
              "1     NC  North Carolina\n",
              "2     CA      California\n",
              "3     NY        New York\n",
              "4     FL         Florida"
            ]
          },
          "metadata": {
            "tags": []
          },
          "execution_count": 83
        }
      ]
    },
    {
      "metadata": {
        "id": "Jrz8rAIITDwr",
        "colab_type": "code",
        "outputId": "f8f219f8-21e5-41f4-eef9-5c2d74d9b489",
        "colab": {
          "base_uri": "https://localhost:8080/",
          "height": 198
        }
      },
      "cell_type": "code",
      "source": [
        "df.merge(state_table, on = 'States')"
      ],
      "execution_count": 0,
      "outputs": [
        {
          "output_type": "execute_result",
          "data": {
            "text/html": [
              "<div>\n",
              "<style scoped>\n",
              "    .dataframe tbody tr th:only-of-type {\n",
              "        vertical-align: middle;\n",
              "    }\n",
              "\n",
              "    .dataframe tbody tr th {\n",
              "        vertical-align: top;\n",
              "    }\n",
              "\n",
              "    .dataframe thead th {\n",
              "        text-align: right;\n",
              "    }\n",
              "</style>\n",
              "<table border=\"1\" class=\"dataframe\">\n",
              "  <thead>\n",
              "    <tr style=\"text-align: right;\">\n",
              "      <th></th>\n",
              "      <th>Bounce_rate</th>\n",
              "      <th>States</th>\n",
              "      <th>Visitors</th>\n",
              "      <th>state_name</th>\n",
              "    </tr>\n",
              "  </thead>\n",
              "  <tbody>\n",
              "    <tr>\n",
              "      <th>0</th>\n",
              "      <td>25</td>\n",
              "      <td>TX</td>\n",
              "      <td>1000</td>\n",
              "      <td>Texas</td>\n",
              "    </tr>\n",
              "    <tr>\n",
              "      <th>1</th>\n",
              "      <td>22</td>\n",
              "      <td>NC</td>\n",
              "      <td>800</td>\n",
              "      <td>North Carolina</td>\n",
              "    </tr>\n",
              "    <tr>\n",
              "      <th>2</th>\n",
              "      <td>24</td>\n",
              "      <td>CA</td>\n",
              "      <td>900</td>\n",
              "      <td>California</td>\n",
              "    </tr>\n",
              "    <tr>\n",
              "      <th>3</th>\n",
              "      <td>18</td>\n",
              "      <td>NY</td>\n",
              "      <td>750</td>\n",
              "      <td>New York</td>\n",
              "    </tr>\n",
              "    <tr>\n",
              "      <th>4</th>\n",
              "      <td>24</td>\n",
              "      <td>FL</td>\n",
              "      <td>980</td>\n",
              "      <td>Florida</td>\n",
              "    </tr>\n",
              "  </tbody>\n",
              "</table>\n",
              "</div>"
            ],
            "text/plain": [
              "   Bounce_rate States  Visitors      state_name\n",
              "0           25     TX      1000           Texas\n",
              "1           22     NC       800  North Carolina\n",
              "2           24     CA       900      California\n",
              "3           18     NY       750        New York\n",
              "4           24     FL       980         Florida"
            ]
          },
          "metadata": {
            "tags": []
          },
          "execution_count": 88
        }
      ]
    },
    {
      "metadata": {
        "id": "poCMLQV1ROcy",
        "colab_type": "text"
      },
      "cell_type": "markdown",
      "source": [
        "## 5.5. Data munging"
      ]
    },
    {
      "metadata": {
        "id": "db-wetdaROmM",
        "colab_type": "code",
        "colab": {}
      },
      "cell_type": "code",
      "source": [
        "df.to_csv('df.csv')\n",
        "\n",
        "\n",
        "from google.colab import files\n",
        "files.download('df.csv') "
      ],
      "execution_count": 0,
      "outputs": []
    },
    {
      "metadata": {
        "id": "Pnz5RPDTWDVa",
        "colab_type": "code",
        "colab": {}
      },
      "cell_type": "code",
      "source": [
        "df.to_html('df.html')\n",
        "\n",
        "\n",
        "from google.colab import files\n",
        "files.download('df.html') "
      ],
      "execution_count": 0,
      "outputs": []
    },
    {
      "metadata": {
        "id": "7C7x0RZ_RbGU",
        "colab_type": "text"
      },
      "cell_type": "markdown",
      "source": [
        "## 5.6. Changing column headers"
      ]
    },
    {
      "metadata": {
        "id": "NmPhuIykJo-Q",
        "colab_type": "text"
      },
      "cell_type": "markdown",
      "source": [
        "# 6. Matplotlib"
      ]
    },
    {
      "metadata": {
        "id": "kqTpDPRJJq-Q",
        "colab_type": "code",
        "colab": {}
      },
      "cell_type": "code",
      "source": [
        "import matplotlib.pyplot as plt"
      ],
      "execution_count": 0,
      "outputs": []
    },
    {
      "metadata": {
        "id": "C8lt0LqnJviP",
        "colab_type": "code",
        "colab": {}
      },
      "cell_type": "code",
      "source": [
        "#First create some toy data:\n",
        "x = np.linspace(0, 2*np.pi, 400)\n",
        "y = np.sin(x**2)"
      ],
      "execution_count": 0,
      "outputs": []
    },
    {
      "metadata": {
        "id": "JIGQZmoBJwJg",
        "colab_type": "code",
        "outputId": "972fa898-5a01-4ff3-beb5-68cc6c9a426a",
        "colab": {
          "base_uri": "https://localhost:8080/",
          "height": 313
        }
      },
      "cell_type": "code",
      "source": [
        "plt.figure(figsize = (5,4))\n",
        "plt.plot(x,y)\n",
        "\n",
        "# add title and labels\n",
        "plt.title('sine graphs')\n",
        "\n",
        "plt.xlabel('x'); plt.ylabel('y')"
      ],
      "execution_count": 0,
      "outputs": [
        {
          "output_type": "execute_result",
          "data": {
            "text/plain": [
              "Text(0, 0.5, 'y')"
            ]
          },
          "metadata": {
            "tags": []
          },
          "execution_count": 56
        },
        {
          "output_type": "display_data",
          "data": {
            "image/png": "[encoded data removed]",
            "text/plain": [
              "<Figure size 360x288 with 1 Axes>"
            ]
          },
          "metadata": {
            "tags": []
          }
        }
      ]
    },
    {
      "metadata": {
        "id": "pI9--DcQJ9ng",
        "colab_type": "code",
        "outputId": "9b384415-a5ef-4d1c-ddd7-4a3032db422e",
        "colab": {
          "base_uri": "https://localhost:8080/",
          "height": 349
        }
      },
      "cell_type": "code",
      "source": [
        "#Creates two subplots\n",
        "f,ax = plt.subplots(1,2, figsize = (20,5), sharey = True)\n",
        "\n",
        "# plot - like earlier\n",
        "ax[0].plot(x,y); ax[0].set_xlabel('x'); ax[0].set_title('Line'); \n",
        "\n",
        "# plot scatter, instead of line\n",
        "ax[1].scatter(x,y, c = 'red'); ax[1].set_xlabel('X'); ax[1].set_title('Scatter')\n",
        "\n",
        "plt.show()"
      ],
      "execution_count": 0,
      "outputs": [
        {
          "output_type": "display_data",
          "data": {
            "image/png": "[encoded data removed]",
            "text/plain": [
              "<Figure size 1440x360 with 2 Axes>"
            ]
          },
          "metadata": {
            "tags": []
          }
        }
      ]
    },
    {
      "metadata": {
        "id": "UgJrvUQ9Kr-Q",
        "colab_type": "code",
        "colab": {}
      },
      "cell_type": "code",
      "source": [
        ""
      ],
      "execution_count": 0,
      "outputs": []
    }
  ]
}